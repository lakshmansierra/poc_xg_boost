{
  "cells": [
    {
      "cell_type": "markdown",
      "metadata": {
        "colab_type": "text",
        "id": "37puETfgRzzg"
      },
      "source": [
        "# XG Boost Regressor"
      ]
    },
    {
      "cell_type": "markdown",
      "metadata": {
        "colab_type": "text",
        "id": "EoRP98MpR-qj"
      },
      "source": [
        "## Importing the libraries"
      ]
    },
    {
      "cell_type": "code",
      "execution_count": 217,
      "metadata": {
        "colab": {},
        "colab_type": "code",
        "id": "N-qiINBQSK2g"
      },
      "outputs": [],
      "source": [
        "import os\n",
        "import numpy as np\n",
        "import matplotlib.pyplot as plt\n",
        "import pandas as pd\n"
      ]
    },
    {
      "cell_type": "markdown",
      "metadata": {
        "colab_type": "text",
        "id": "RopL7tUZSQkT"
      },
      "source": [
        "## Importing the dataset"
      ]
    },
    {
      "cell_type": "code",
      "execution_count": 218,
      "metadata": {},
      "outputs": [],
      "source": [
        "# pyspark_df = spark.table(\"sd_bdc_demo.xgboost_regression.1_2_salesforce_xgboost_updated_data\")\n",
        "# pyspark_df.display()\n",
        "# df = pyspark_df.toPandas()"
      ]
    },
    {
      "cell_type": "code",
      "execution_count": 219,
      "metadata": {},
      "outputs": [],
      "source": [
        "# Load csv file\n",
        "df = pd.read_csv(\"1_2_salesforce_xgboost_updated_data/1_2_salesforce_xgboost_updated_data.csv\")"
      ]
    },
    {
      "cell_type": "code",
      "execution_count": 220,
      "metadata": {},
      "outputs": [
        {
          "name": "stdout",
          "output_type": "stream",
          "text": [
            "      Sales_Order                 Stage  Amount  Probability    Sales_Person  \\\n",
            "0            5708           Closed Lost  255000            0  Alex Rodriguez   \n",
            "1            5709       Decision Makers  315000           70   Sarah Johnson   \n",
            "2            5710  Proposal/Price Quote  275000           65   Michael Chang   \n",
            "3            5711            Closed Won  135000          100     Emma Wilson   \n",
            "4            5712    Negotiation/Review  325000           85  David Martinez   \n",
            "...           ...                   ...     ...          ...             ...   \n",
            "1091         6799  Proposal/Price Quote  210000           60   Michael Chang   \n",
            "1092         6800       Decision Makers  185000           75   Sarah Johnson   \n",
            "1093         6801         Qualification   85000           25   Michael Chang   \n",
            "1094         6802        Needs Analysis  355000           30  David Martinez   \n",
            "1095         6803   Perception Analysis  175000           15  Alex Rodriguez   \n",
            "\n",
            "        Company_Industry              Contact_Title          Type  \\\n",
            "0             Healthcare           Medical Director  New Business   \n",
            "1             Government                IT Director  New Business   \n",
            "2     Financial Services  Client Relations Director  New Business   \n",
            "3                 Retail         Marketing Director  New Business   \n",
            "4          Manufacturing            Quality Manager  New Business   \n",
            "...                  ...                        ...           ...   \n",
            "1091  Financial Services                        COO       Upgrade   \n",
            "1092          Healthcare  Patient Services Director  New Business   \n",
            "1093         Hospitality                 IT Manager  New Business   \n",
            "1094            Aviation       Maintenance Director  New Business   \n",
            "1095     Food & Beverage         Production Manager  New Business   \n",
            "\n",
            "                Lead_Source State  days_to_close  \n",
            "0     Healthcare Conference    WA             45  \n",
            "1                       RFP    MT             97  \n",
            "2            Industry Event    UT            117  \n",
            "3                Trade Show    OH             36  \n",
            "4          Partner Referral    NV             92  \n",
            "...                     ...   ...            ...  \n",
            "1091               Referral    IN             61  \n",
            "1092  Healthcare Conference    MN             92  \n",
            "1093       Partner Referral    AR            128  \n",
            "1094         Industry Event    IA            123  \n",
            "1095             Trade Show    NC            155  \n",
            "\n",
            "[1096 rows x 11 columns]\n"
          ]
        }
      ],
      "source": [
        "print(df)"
      ]
    },
    {
      "cell_type": "code",
      "execution_count": 221,
      "metadata": {},
      "outputs": [
        {
          "name": "stdout",
          "output_type": "stream",
          "text": [
            "(1096, 11)\n"
          ]
        }
      ],
      "source": [
        "print(df.shape)"
      ]
    },
    {
      "cell_type": "code",
      "execution_count": 222,
      "metadata": {},
      "outputs": [
        {
          "name": "stdout",
          "output_type": "stream",
          "text": [
            "Index(['Sales_Order', 'Stage', 'Amount', 'Probability', 'Sales_Person',\n",
            "       'Company_Industry', 'Contact_Title', 'Type', 'Lead_Source', 'State',\n",
            "       'days_to_close'],\n",
            "      dtype='object')\n"
          ]
        }
      ],
      "source": [
        "print(df.columns)"
      ]
    },
    {
      "cell_type": "code",
      "execution_count": 223,
      "metadata": {},
      "outputs": [
        {
          "name": "stdout",
          "output_type": "stream",
          "text": [
            "<class 'pandas.core.frame.DataFrame'>\n",
            "RangeIndex: 1096 entries, 0 to 1095\n",
            "Data columns (total 11 columns):\n",
            " #   Column            Non-Null Count  Dtype \n",
            "---  ------            --------------  ----- \n",
            " 0   Sales_Order       1096 non-null   int64 \n",
            " 1   Stage             1096 non-null   object\n",
            " 2   Amount            1096 non-null   int64 \n",
            " 3   Probability       1096 non-null   int64 \n",
            " 4   Sales_Person      1096 non-null   object\n",
            " 5   Company_Industry  1096 non-null   object\n",
            " 6   Contact_Title     1096 non-null   object\n",
            " 7   Type              1096 non-null   object\n",
            " 8   Lead_Source       1096 non-null   object\n",
            " 9   State             1096 non-null   object\n",
            " 10  days_to_close     1096 non-null   int64 \n",
            "dtypes: int64(4), object(7)\n",
            "memory usage: 94.3+ KB\n",
            "None\n"
          ]
        }
      ],
      "source": [
        "print(df.info())"
      ]
    },
    {
      "cell_type": "markdown",
      "metadata": {},
      "source": [
        "## Encoding categorical data"
      ]
    },
    {
      "cell_type": "markdown",
      "metadata": {},
      "source": [
        "### Encoding the Independent Variable"
      ]
    },
    {
      "cell_type": "code",
      "execution_count": 224,
      "metadata": {},
      "outputs": [],
      "source": [
        "from sklearn.preprocessing import LabelEncoder\n",
        "\n",
        "df_encoded = df.copy()\n",
        "categorical_cols = [\n",
        "    'Sales_Person',\n",
        "    'Company_Industry',\n",
        "    'Contact_Title',\n",
        "    'Type',\n",
        "    'Lead_Source',\n",
        "    'State'\n",
        "]\n",
        "\n",
        "# Save encoder for later use\n",
        "label_encoders = {}\n",
        "\n",
        "for col in categorical_cols:\n",
        "    le = LabelEncoder()\n",
        "    df_encoded[col] = le.fit_transform(df_encoded[col])\n",
        "    label_encoders[col] = le  \n"
      ]
    },
    {
      "cell_type": "code",
      "execution_count": 225,
      "metadata": {},
      "outputs": [
        {
          "name": "stdout",
          "output_type": "stream",
          "text": [
            "   Sales_Order                 Stage  Amount  Probability  Sales_Person  \\\n",
            "0         5708           Closed Lost  255000            0             0   \n",
            "1         5709       Decision Makers  315000           70             4   \n",
            "2         5710  Proposal/Price Quote  275000           65             3   \n",
            "3         5711            Closed Won  135000          100             2   \n",
            "4         5712    Negotiation/Review  325000           85             1   \n",
            "\n",
            "   Company_Industry  Contact_Title  Type  Lead_Source  State  days_to_close  \n",
            "0                12             29     0            5     42             45  \n",
            "1                11             20     0           14     23             97  \n",
            "2                 8              8     0            6     39            117  \n",
            "3                19             28     0           16     31             36  \n",
            "4                15             41     0           10     29             92  \n"
          ]
        }
      ],
      "source": [
        "print(df_encoded.head())"
      ]
    },
    {
      "cell_type": "code",
      "execution_count": 226,
      "metadata": {},
      "outputs": [
        {
          "name": "stdout",
          "output_type": "stream",
          "text": [
            "(1096, 11)\n"
          ]
        }
      ],
      "source": [
        "print(df_encoded.shape)"
      ]
    },
    {
      "cell_type": "code",
      "execution_count": 227,
      "metadata": {},
      "outputs": [
        {
          "name": "stdout",
          "output_type": "stream",
          "text": [
            "Index(['Sales_Order', 'Stage', 'Amount', 'Probability', 'Sales_Person',\n",
            "       'Company_Industry', 'Contact_Title', 'Type', 'Lead_Source', 'State',\n",
            "       'days_to_close'],\n",
            "      dtype='object')\n"
          ]
        }
      ],
      "source": [
        "print(df_encoded.columns)"
      ]
    },
    {
      "cell_type": "markdown",
      "metadata": {},
      "source": [
        "## Split two Data Frame for Independent Features & Dependent Columns"
      ]
    },
    {
      "cell_type": "code",
      "execution_count": 228,
      "metadata": {},
      "outputs": [],
      "source": [
        "df_independent = df_encoded.drop(columns=['Probability'])\n",
        "X = df_independent\n",
        "df_dependent = df_encoded[['Probability']]\n",
        "y = df_dependent"
      ]
    },
    {
      "cell_type": "code",
      "execution_count": 229,
      "metadata": {},
      "outputs": [
        {
          "name": "stdout",
          "output_type": "stream",
          "text": [
            "   Sales_Order                 Stage  Amount  Sales_Person  Company_Industry  \\\n",
            "0         5708           Closed Lost  255000             0                12   \n",
            "1         5709       Decision Makers  315000             4                11   \n",
            "2         5710  Proposal/Price Quote  275000             3                 8   \n",
            "3         5711            Closed Won  135000             2                19   \n",
            "4         5712    Negotiation/Review  325000             1                15   \n",
            "\n",
            "   Contact_Title  Type  Lead_Source  State  days_to_close  \n",
            "0             29     0            5     42             45  \n",
            "1             20     0           14     23             97  \n",
            "2              8     0            6     39            117  \n",
            "3             28     0           16     31             36  \n",
            "4             41     0           10     29             92  \n"
          ]
        }
      ],
      "source": [
        "print(df_independent.head())"
      ]
    },
    {
      "cell_type": "code",
      "execution_count": 230,
      "metadata": {},
      "outputs": [
        {
          "name": "stdout",
          "output_type": "stream",
          "text": [
            "(1096, 10)\n"
          ]
        }
      ],
      "source": [
        "print(df_independent.shape)"
      ]
    },
    {
      "cell_type": "code",
      "execution_count": 231,
      "metadata": {},
      "outputs": [
        {
          "name": "stdout",
          "output_type": "stream",
          "text": [
            "   Probability\n",
            "0            0\n",
            "1           70\n",
            "2           65\n",
            "3          100\n",
            "4           85\n"
          ]
        }
      ],
      "source": [
        "print(df_dependent.head())"
      ]
    },
    {
      "cell_type": "code",
      "execution_count": 232,
      "metadata": {},
      "outputs": [
        {
          "name": "stdout",
          "output_type": "stream",
          "text": [
            "(1096, 1)\n"
          ]
        }
      ],
      "source": [
        "print(df_dependent.shape)"
      ]
    },
    {
      "cell_type": "markdown",
      "metadata": {},
      "source": [
        "## Splitting the dataset into the Training set and Test set (`Closed Won` & `Closed Lost` = `train`)"
      ]
    },
    {
      "cell_type": "code",
      "execution_count": 233,
      "metadata": {},
      "outputs": [],
      "source": [
        "# Define which rows go into train and test based on 'Stage'\n",
        "is_train = df_encoded['Stage'].isin(['Closed Won', 'Closed Lost'])\n",
        "\n",
        "# Split X\n",
        "X_train = X[is_train] \n",
        "X_test = X[~is_train]\n",
        "\n",
        "# Split y\n",
        "y_train = y[is_train]\n",
        "y_test = y[~is_train]  \n"
      ]
    },
    {
      "cell_type": "code",
      "execution_count": 234,
      "metadata": {},
      "outputs": [
        {
          "name": "stdout",
          "output_type": "stream",
          "text": [
            "    Sales_Order        Stage  Amount  Sales_Person  Company_Industry  \\\n",
            "0          5708  Closed Lost  255000             0                12   \n",
            "3          5711   Closed Won  135000             2                19   \n",
            "8          5716   Closed Won  235000             2                12   \n",
            "12         5720   Closed Won  225000             2                 8   \n",
            "17         5725   Closed Won  175000             2                12   \n",
            "21         5729   Closed Won   85000             2                 4   \n",
            "26         5734   Closed Won  195000             2                 8   \n",
            "30         5738   Closed Won  145000             2                 1   \n",
            "35         5743   Closed Won  265000             2                12   \n",
            "39         5747   Closed Won  115000             2                 8   \n",
            "44         5752   Closed Won  295000             2                23   \n",
            "46         5754  Closed Lost  145000             0                13   \n",
            "49         5757   Closed Won   72000             2                19   \n",
            "54         5762   Closed Won  135000             2                12   \n",
            "56         5764  Closed Lost   95000             0                 8   \n",
            "59         5767   Closed Won  115000             2                13   \n",
            "64         5772   Closed Won  295000             2                11   \n",
            "67         5775   Closed Won   85000             4                15   \n",
            "71         5779  Closed Lost   95000             0                22   \n",
            "72         5780   Closed Won   42000             4                 6   \n",
            "79         5787   Closed Won   88000             2                11   \n",
            "84         5792   Closed Won   65000             2                19   \n",
            "86         5794  Closed Lost   78000             0                17   \n",
            "89         5797   Closed Won   92000             2                12   \n",
            "94         5802   Closed Won   68000             2                18   \n",
            "\n",
            "    Contact_Title  Type  Lead_Source  State  days_to_close  \n",
            "0              29     0            5     42             45  \n",
            "3              28     0           16     31             36  \n",
            "8               4     2            5     38             36  \n",
            "12             11     2            4     24             38  \n",
            "17             48     2            5     21             40  \n",
            "21             12     0           10     26             51  \n",
            "26             49     2            4     42             36  \n",
            "30             17     0            6     22             35  \n",
            "35             31     2            4     26             56  \n",
            "39             49     2            4     19             50  \n",
            "44             32     0           14      9             76  \n",
            "46             17     0            0     11             61  \n",
            "49             12     0            6     35             34  \n",
            "54             20     0           18     35             70  \n",
            "56             44     2            4     41             44  \n",
            "59             17     0           15     10             35  \n",
            "64             19     0           14     32             71  \n",
            "67              3     1            4      0             34  \n",
            "71             38     0            1      4             80  \n",
            "72             22     0            3     18             28  \n",
            "79             57     0           14     43             66  \n",
            "84             47     0           19     37             33  \n",
            "86             37     0            9     31             78  \n",
            "89             14     0           15     44             35  \n",
            "94             13     0            1     30             56  \n"
          ]
        }
      ],
      "source": [
        "print(X_train)"
      ]
    },
    {
      "cell_type": "code",
      "execution_count": 235,
      "metadata": {},
      "outputs": [
        {
          "name": "stdout",
          "output_type": "stream",
          "text": [
            "    Probability\n",
            "0             0\n",
            "3           100\n",
            "8           100\n",
            "12          100\n",
            "17          100\n",
            "21          100\n",
            "26          100\n",
            "30          100\n",
            "35          100\n",
            "39          100\n",
            "44          100\n",
            "46            0\n",
            "49          100\n",
            "54          100\n",
            "56            0\n",
            "59          100\n",
            "64          100\n",
            "67          100\n",
            "71            0\n",
            "72          100\n",
            "79          100\n",
            "84          100\n",
            "86            0\n",
            "89          100\n",
            "94          100\n"
          ]
        }
      ],
      "source": [
        "print(y_train)"
      ]
    },
    {
      "cell_type": "markdown",
      "metadata": {},
      "source": [
        "### Splitting part of test data to train data"
      ]
    },
    {
      "cell_type": "code",
      "execution_count": 236,
      "metadata": {},
      "outputs": [],
      "source": [
        "from sklearn.model_selection import train_test_split\n",
        "X_train_ren, X_test_ren, y_train_ren, y_test_ren = train_test_split(X_test, y_test, test_size = 0.2, random_state = 1)"
      ]
    },
    {
      "cell_type": "code",
      "execution_count": 237,
      "metadata": {},
      "outputs": [],
      "source": [
        "X_train = pd.concat([X_train, X_train_ren])\n",
        "y_train = pd.concat([y_train, y_train_ren])\n",
        "\n",
        "X_test = X_test_ren\n",
        "y_test = y_test_ren"
      ]
    },
    {
      "cell_type": "code",
      "execution_count": 238,
      "metadata": {},
      "outputs": [
        {
          "name": "stdout",
          "output_type": "stream",
          "text": [
            "    Sales_Order        Stage  Amount  Sales_Person  Company_Industry  \\\n",
            "0          5708  Closed Lost  255000             0                12   \n",
            "3          5711   Closed Won  135000             2                19   \n",
            "8          5716   Closed Won  235000             2                12   \n",
            "12         5720   Closed Won  225000             2                 8   \n",
            "17         5725   Closed Won  175000             2                12   \n",
            "\n",
            "    Contact_Title  Type  Lead_Source  State  days_to_close  \n",
            "0              29     0            5     42             45  \n",
            "3              28     0           16     31             36  \n",
            "8               4     2            5     38             36  \n",
            "12             11     2            4     24             38  \n",
            "17             48     2            5     21             40  \n"
          ]
        }
      ],
      "source": [
        "print(X_train.head())"
      ]
    },
    {
      "cell_type": "code",
      "execution_count": 239,
      "metadata": {},
      "outputs": [
        {
          "name": "stdout",
          "output_type": "stream",
          "text": [
            "(881, 10)\n"
          ]
        }
      ],
      "source": [
        "print(X_train.shape)"
      ]
    },
    {
      "cell_type": "code",
      "execution_count": 240,
      "metadata": {},
      "outputs": [
        {
          "name": "stdout",
          "output_type": "stream",
          "text": [
            "     Sales_Order                 Stage  Amount  Sales_Person  \\\n",
            "145         5853        Needs Analysis  125000             0   \n",
            "843         6551   Perception Analysis  345000             0   \n",
            "115         5823  Proposal/Price Quote  195000             3   \n",
            "253         5961  Proposal/Price Quote  195000             3   \n",
            "871         6579        Needs Analysis  125000             0   \n",
            "\n",
            "     Company_Industry  Contact_Title  Type  Lead_Source  State  days_to_close  \n",
            "145                21             20     0           16     27             15  \n",
            "843                23             32     0           14     33            204  \n",
            "115                 7             32     0           18     16            101  \n",
            "253                 7             32     0           18     16            101  \n",
            "871                21             20     0           16     27             15  \n"
          ]
        }
      ],
      "source": [
        "print(X_test.head())"
      ]
    },
    {
      "cell_type": "code",
      "execution_count": 241,
      "metadata": {},
      "outputs": [
        {
          "name": "stdout",
          "output_type": "stream",
          "text": [
            "(215, 10)\n"
          ]
        }
      ],
      "source": [
        "print(X_test.shape)"
      ]
    },
    {
      "cell_type": "code",
      "execution_count": 242,
      "metadata": {},
      "outputs": [
        {
          "name": "stdout",
          "output_type": "stream",
          "text": [
            "    Probability\n",
            "0             0\n",
            "3           100\n",
            "8           100\n",
            "12          100\n",
            "17          100\n"
          ]
        }
      ],
      "source": [
        "print(y_train.head())"
      ]
    },
    {
      "cell_type": "code",
      "execution_count": 243,
      "metadata": {},
      "outputs": [
        {
          "name": "stdout",
          "output_type": "stream",
          "text": [
            "(881, 1)\n"
          ]
        }
      ],
      "source": [
        "print(y_train.shape)"
      ]
    },
    {
      "cell_type": "code",
      "execution_count": 244,
      "metadata": {},
      "outputs": [
        {
          "name": "stdout",
          "output_type": "stream",
          "text": [
            "     Probability\n",
            "145           30\n",
            "843           20\n",
            "115           65\n",
            "253           65\n",
            "871           30\n"
          ]
        }
      ],
      "source": [
        "print(y_test.head())"
      ]
    },
    {
      "cell_type": "code",
      "execution_count": 245,
      "metadata": {},
      "outputs": [
        {
          "name": "stdout",
          "output_type": "stream",
          "text": [
            "(215, 1)\n"
          ]
        }
      ],
      "source": [
        "print(y_test.shape)"
      ]
    },
    {
      "cell_type": "markdown",
      "metadata": {},
      "source": [
        "## Feature Scaling\n",
        "- As this is a tree based model, no need to do feature scaling"
      ]
    },
    {
      "cell_type": "markdown",
      "metadata": {},
      "source": [
        "## Removing `Sales_Order` & `Stage` in `X_train` & `X_test`"
      ]
    },
    {
      "cell_type": "code",
      "execution_count": 246,
      "metadata": {},
      "outputs": [],
      "source": [
        "X_train_new = X_train.drop(columns=['Sales_Order', 'Stage', 'Sales_Person'])\n"
      ]
    },
    {
      "cell_type": "code",
      "execution_count": 247,
      "metadata": {},
      "outputs": [
        {
          "name": "stdout",
          "output_type": "stream",
          "text": [
            "    Amount  Company_Industry  Contact_Title  Type  Lead_Source  State  \\\n",
            "0   255000                12             29     0            5     42   \n",
            "3   135000                19             28     0           16     31   \n",
            "8   235000                12              4     2            5     38   \n",
            "12  225000                 8             11     2            4     24   \n",
            "17  175000                12             48     2            5     21   \n",
            "\n",
            "    days_to_close  \n",
            "0              45  \n",
            "3              36  \n",
            "8              36  \n",
            "12             38  \n",
            "17             40  \n"
          ]
        }
      ],
      "source": [
        "print(X_train_new.head())"
      ]
    },
    {
      "cell_type": "code",
      "execution_count": 248,
      "metadata": {},
      "outputs": [
        {
          "name": "stdout",
          "output_type": "stream",
          "text": [
            "(881, 7)\n"
          ]
        }
      ],
      "source": [
        "print(X_train_new.shape)"
      ]
    },
    {
      "cell_type": "code",
      "execution_count": 249,
      "metadata": {},
      "outputs": [],
      "source": [
        "X_test_new = X_test.drop(columns=['Sales_Order', 'Stage', 'Sales_Person'])\n"
      ]
    },
    {
      "cell_type": "code",
      "execution_count": 250,
      "metadata": {},
      "outputs": [
        {
          "name": "stdout",
          "output_type": "stream",
          "text": [
            "     Amount  Company_Industry  Contact_Title  Type  Lead_Source  State  \\\n",
            "145  125000                21             20     0           16     27   \n",
            "843  345000                23             32     0           14     33   \n",
            "115  195000                 7             32     0           18     16   \n",
            "253  195000                 7             32     0           18     16   \n",
            "871  125000                21             20     0           16     27   \n",
            "\n",
            "     days_to_close  \n",
            "145             15  \n",
            "843            204  \n",
            "115            101  \n",
            "253            101  \n",
            "871             15  \n"
          ]
        }
      ],
      "source": [
        "print(X_test_new.head())"
      ]
    },
    {
      "cell_type": "code",
      "execution_count": 251,
      "metadata": {},
      "outputs": [
        {
          "name": "stdout",
          "output_type": "stream",
          "text": [
            "(215, 7)\n"
          ]
        }
      ],
      "source": [
        "print(X_test_new.shape)"
      ]
    },
    {
      "cell_type": "markdown",
      "metadata": {},
      "source": [
        "## Training the Model"
      ]
    },
    {
      "cell_type": "code",
      "execution_count": 252,
      "metadata": {},
      "outputs": [],
      "source": [
        "from xgboost import XGBRegressor\n",
        "\n",
        "# Initialize the model\n",
        "xgb_model = XGBRegressor(\n",
        "    n_estimators=100,\n",
        "    max_depth=4,\n",
        "    learning_rate=0.1,\n",
        "    random_state=42\n",
        ")\n"
      ]
    },
    {
      "cell_type": "markdown",
      "metadata": {},
      "source": [
        "### RFE"
      ]
    },
    {
      "cell_type": "code",
      "execution_count": 253,
      "metadata": {},
      "outputs": [
        {
          "name": "stdout",
          "output_type": "stream",
          "text": [
            "Index(['Amount', 'Company_Industry', 'Lead_Source', 'State', 'days_to_close'], dtype='object')\n"
          ]
        }
      ],
      "source": [
        "from sklearn.feature_selection import RFE\n",
        "\n",
        "rfe = RFE(estimator=xgb_model, n_features_to_select=5)\n",
        "rfe.fit(X_train_new, y_train)\n",
        "\n",
        "# selected features after RFE\n",
        "selected_features = X_train_new.columns[rfe.support_]\n",
        "print(selected_features)"
      ]
    },
    {
      "cell_type": "code",
      "execution_count": 254,
      "metadata": {},
      "outputs": [],
      "source": [
        "# take only selected columns for both X_train_new & X_test_new\n",
        "X_train_new = X_train_new[selected_features]\n",
        "X_test_new = X_test_new[selected_features]\n",
        "xgb_model_train = xgb_model.fit(X_train_new, y_train.values.ravel())\n"
      ]
    },
    {
      "cell_type": "markdown",
      "metadata": {},
      "source": [
        "## Prediction"
      ]
    },
    {
      "cell_type": "code",
      "execution_count": 255,
      "metadata": {},
      "outputs": [],
      "source": [
        "y_pred = xgb_model.predict(X_test_new)"
      ]
    },
    {
      "cell_type": "code",
      "execution_count": 256,
      "metadata": {},
      "outputs": [
        {
          "name": "stdout",
          "output_type": "stream",
          "text": [
            "[31.85007  20.080666 62.24568  62.24568  31.85007  35.627983 47.454525\n",
            " 73.13888  31.85007  84.17819  20.029076 69.18998  33.481136 21.397505\n",
            " 89.45466  29.166641 29.809128 25.639996 44.253544 62.05004  84.51393\n",
            " 89.45466  64.675186 31.056934 64.675186 33.481136 62.24568  64.675186\n",
            " 44.607574 62.05004  36.507935 29.809128 74.63363  36.507935 42.25295\n",
            " 28.354792 47.454525 85.55771  83.308464 56.236645 41.75324  28.354792\n",
            " 26.874718 84.51393  40.20785  33.27116  62.24568  31.85007  73.7895\n",
            " 60.304497 69.54027  20.422338 20.080666 30.45172  42.25295  85.55771\n",
            " 73.13888  20.080666 89.45466  84.17819  20.029076 28.354792 27.351017\n",
            " 21.081709 69.18998  42.25295  43.973106 40.20785  64.675186 62.05004\n",
            " 31.436354 79.14603  18.310768 21.397505 83.308464 36.0685   36.0685\n",
            " 69.54027  25.520807 60.65057  44.607574 29.166641 83.308464 74.63363\n",
            " 25.639996 44.607574 28.5654   85.55771  44.607574 73.7895   62.24568\n",
            " 69.54027  44.22354  90.55687  36.0685   26.874718 30.45172  23.657413\n",
            " 20.080666 60.65057  79.14603  64.675186 21.081709 28.5654   60.272507\n",
            " 73.7895   90.55687  43.973106 36.0685   18.310768 82.2452   85.55771\n",
            " 62.05004  62.75637  36.0685   60.213017 79.4771   90.55687  31.056934\n",
            " 36.0685   26.874718 27.351017 28.5654   42.25295  20.029076 33.27116\n",
            " 21.397505 29.285126 29.285126 25.520807 69.54027  29.285126 44.253544\n",
            " 64.54162  79.4771   85.55771  20.029076 66.82349  31.056934 20.029076\n",
            " 27.351017 62.05004  62.75637  36.507935 44.22354  43.973106 39.26132\n",
            " 39.896492 44.22354  15.685379 73.13888  60.65057  47.454525 33.481136\n",
            " 26.61008  36.0685   84.17819  42.25295  18.310768 43.973106 29.166641\n",
            " 79.14603  74.63363  30.45172  62.24568  21.199627 27.351017 89.45466\n",
            " 40.20785  62.05004  33.481136 42.25295  74.63363  39.896492 21.199627\n",
            " 23.657413 71.84498  39.26132  66.82349  20.080666 74.18981  39.26132\n",
            " 47.454525 20.422338 47.454525 69.18998  84.51393  84.51393  21.397505\n",
            " 60.213017 84.17819  74.63363  71.84498  31.85007  40.20785  73.13888\n",
            " 18.310768 73.7895   62.05004  60.213017 72.926346 84.51393  47.454525\n",
            " 36.507935 82.2452   29.166641 41.75324  21.397505 44.22354  82.2452\n",
            " 70.89636  60.65057  20.422338 79.14603  25.639996]\n"
          ]
        }
      ],
      "source": [
        "print(y_pred)"
      ]
    },
    {
      "cell_type": "markdown",
      "metadata": {},
      "source": [
        "### Saving the output as new table"
      ]
    },
    {
      "cell_type": "code",
      "execution_count": 257,
      "metadata": {},
      "outputs": [],
      "source": [
        "sales_order = X_test['Sales_Order'].values\n",
        "stage = X_test['Stage'].values"
      ]
    },
    {
      "cell_type": "code",
      "execution_count": 258,
      "metadata": {},
      "outputs": [
        {
          "name": "stdout",
          "output_type": "stream",
          "text": [
            "sales_order shape: (215,)\n",
            "stage shape: (215,)\n",
            "y_test shape: (215, 1)\n",
            "y_pred shape: (215,)\n"
          ]
        }
      ],
      "source": [
        "print(\"sales_order shape:\", sales_order.shape)\n",
        "print(\"stage shape:\", stage.shape)\n",
        "print(\"y_test shape:\", y_test.shape)\n",
        "print(\"y_pred shape:\", y_pred.shape)\n"
      ]
    },
    {
      "cell_type": "code",
      "execution_count": 259,
      "metadata": {},
      "outputs": [
        {
          "name": "stdout",
          "output_type": "stream",
          "text": [
            "      Probability\n",
            "145            30\n",
            "843            20\n",
            "115            65\n",
            "253            65\n",
            "871            30\n",
            "...           ...\n",
            "499            70\n",
            "579            60\n",
            "1031           20\n",
            "136            80\n",
            "7              25\n",
            "\n",
            "[215 rows x 1 columns]\n"
          ]
        }
      ],
      "source": [
        "print(y_test)"
      ]
    },
    {
      "cell_type": "code",
      "execution_count": 260,
      "metadata": {},
      "outputs": [],
      "source": [
        "# Flatten y_test to 1D\n",
        "y_test = y_test.values.ravel()"
      ]
    },
    {
      "cell_type": "code",
      "execution_count": 261,
      "metadata": {},
      "outputs": [
        {
          "name": "stdout",
          "output_type": "stream",
          "text": [
            "sales_order shape: (215,)\n",
            "stage shape: (215,)\n",
            "y_test shape: (215,)\n",
            "y_pred shape: (215,)\n"
          ]
        }
      ],
      "source": [
        "print(\"sales_order shape:\", sales_order.shape)\n",
        "print(\"stage shape:\", stage.shape)\n",
        "print(\"y_test shape:\", y_test.shape)\n",
        "print(\"y_pred shape:\", y_pred.shape)\n"
      ]
    },
    {
      "cell_type": "code",
      "execution_count": 262,
      "metadata": {},
      "outputs": [
        {
          "name": "stdout",
          "output_type": "stream",
          "text": [
            "[30 20 65 65 30 35 45 75 30 85 20 70 35 20 90 30 30 25 45 65 85 90 65 30\n",
            " 65 35 65 65 45 65 35 30 75 35 40 25 45 85 85 60 40 25 25 85 40 35 65 30\n",
            " 70 60 70 20 20 30 40 85 75 20 90 85 20 25 25 20 70 40 45 40 65 65 30 80\n",
            " 15 20 85 35 35 70 25 60 45 30 85 75 25 45 30 85 45 70 65 70 45 90 35 25\n",
            " 30 25 20 60 80 65 20 30 60 70 90 45 35 15 85 85 65 65 35 60 80 90 30 35\n",
            " 25 25 30 40 20 35 20 30 30 25 70 30 45 65 80 85 20 70 30 20 25 65 65 35\n",
            " 45 45 40 40 45 15 75 60 45 35 25 35 85 40 15 45 30 80 75 30 65 20 25 90\n",
            " 40 65 35 40 75 40 20 25 70 40 70 20 75 40 45 20 45 70 85 85 20 60 85 75\n",
            " 70 30 40 75 15 70 65 60 75 85 45 35 85 30 40 20 45 85 70 60 20 80 25]\n"
          ]
        }
      ],
      "source": [
        "print(y_test)"
      ]
    },
    {
      "cell_type": "code",
      "execution_count": 263,
      "metadata": {},
      "outputs": [
        {
          "name": "stdout",
          "output_type": "stream",
          "text": [
            "[31.85007  20.080666 62.24568  62.24568  31.85007  35.627983 47.454525\n",
            " 73.13888  31.85007  84.17819  20.029076 69.18998  33.481136 21.397505\n",
            " 89.45466  29.166641 29.809128 25.639996 44.253544 62.05004  84.51393\n",
            " 89.45466  64.675186 31.056934 64.675186 33.481136 62.24568  64.675186\n",
            " 44.607574 62.05004  36.507935 29.809128 74.63363  36.507935 42.25295\n",
            " 28.354792 47.454525 85.55771  83.308464 56.236645 41.75324  28.354792\n",
            " 26.874718 84.51393  40.20785  33.27116  62.24568  31.85007  73.7895\n",
            " 60.304497 69.54027  20.422338 20.080666 30.45172  42.25295  85.55771\n",
            " 73.13888  20.080666 89.45466  84.17819  20.029076 28.354792 27.351017\n",
            " 21.081709 69.18998  42.25295  43.973106 40.20785  64.675186 62.05004\n",
            " 31.436354 79.14603  18.310768 21.397505 83.308464 36.0685   36.0685\n",
            " 69.54027  25.520807 60.65057  44.607574 29.166641 83.308464 74.63363\n",
            " 25.639996 44.607574 28.5654   85.55771  44.607574 73.7895   62.24568\n",
            " 69.54027  44.22354  90.55687  36.0685   26.874718 30.45172  23.657413\n",
            " 20.080666 60.65057  79.14603  64.675186 21.081709 28.5654   60.272507\n",
            " 73.7895   90.55687  43.973106 36.0685   18.310768 82.2452   85.55771\n",
            " 62.05004  62.75637  36.0685   60.213017 79.4771   90.55687  31.056934\n",
            " 36.0685   26.874718 27.351017 28.5654   42.25295  20.029076 33.27116\n",
            " 21.397505 29.285126 29.285126 25.520807 69.54027  29.285126 44.253544\n",
            " 64.54162  79.4771   85.55771  20.029076 66.82349  31.056934 20.029076\n",
            " 27.351017 62.05004  62.75637  36.507935 44.22354  43.973106 39.26132\n",
            " 39.896492 44.22354  15.685379 73.13888  60.65057  47.454525 33.481136\n",
            " 26.61008  36.0685   84.17819  42.25295  18.310768 43.973106 29.166641\n",
            " 79.14603  74.63363  30.45172  62.24568  21.199627 27.351017 89.45466\n",
            " 40.20785  62.05004  33.481136 42.25295  74.63363  39.896492 21.199627\n",
            " 23.657413 71.84498  39.26132  66.82349  20.080666 74.18981  39.26132\n",
            " 47.454525 20.422338 47.454525 69.18998  84.51393  84.51393  21.397505\n",
            " 60.213017 84.17819  74.63363  71.84498  31.85007  40.20785  73.13888\n",
            " 18.310768 73.7895   62.05004  60.213017 72.926346 84.51393  47.454525\n",
            " 36.507935 82.2452   29.166641 41.75324  21.397505 44.22354  82.2452\n",
            " 70.89636  60.65057  20.422338 79.14603  25.639996]\n"
          ]
        }
      ],
      "source": [
        "print(y_pred)"
      ]
    },
    {
      "cell_type": "code",
      "execution_count": 264,
      "metadata": {},
      "outputs": [],
      "source": [
        "results_df = pd.DataFrame({\n",
        "    'sales_order': sales_order,\n",
        "    'stage': stage,\n",
        "    'Actual': y_test,\n",
        "    'Predicted': y_pred\n",
        "})\n"
      ]
    },
    {
      "cell_type": "code",
      "execution_count": 265,
      "metadata": {},
      "outputs": [],
      "source": [
        "# Create the folder if it doesn't exist\n",
        "os.makedirs(\"2_1_salesforce_xgboost_prediction_data\", exist_ok=True)\n",
        "\n",
        "# Save the Excel file inside the folder\n",
        "results_df.to_csv(\"2_1_salesforce_xgboost_prediction_data/2_1_salesforce_xgboost_prediction_data.csv\", index=False)\n"
      ]
    },
    {
      "cell_type": "code",
      "execution_count": 266,
      "metadata": {},
      "outputs": [],
      "source": [
        "# spark_df = spark.createDataFrame(results_df)\n",
        "# spark_df.write.mode(\"overwrite\").saveAsTable(\"sd_bdc_demo.xgboost_regression.2_1_salesforce_xgboost_prediction_data\")"
      ]
    },
    {
      "cell_type": "markdown",
      "metadata": {},
      "source": [
        "## Accuracy"
      ]
    },
    {
      "cell_type": "code",
      "execution_count": 267,
      "metadata": {},
      "outputs": [
        {
          "name": "stdout",
          "output_type": "stream",
          "text": [
            "r2:\n",
            " 0.9949851036071777\n",
            "MAE:\n",
            " 1.2929610013961792\n",
            "RMSE:\n",
            " 1.623780379741642\n",
            "MAPE:\n",
            " 0.033611804246902466\n"
          ]
        }
      ],
      "source": [
        "from sklearn.metrics import r2_score, mean_absolute_error, mean_squared_error, mean_absolute_percentage_error\n",
        "\n",
        "print(\"r2:\\n\", r2_score(y_test, y_pred))\n",
        "print(\"MAE:\\n\", mean_absolute_error(y_test, y_pred))\n",
        "print(\"RMSE:\\n\", np.sqrt(mean_squared_error(y_test, y_pred)))\n",
        "print(\"MAPE:\\n\", mean_absolute_percentage_error(y_test, y_pred))"
      ]
    },
    {
      "cell_type": "code",
      "execution_count": 268,
      "metadata": {},
      "outputs": [
        {
          "name": "stdout",
          "output_type": "stream",
          "text": [
            "MAPE: 3.36%\n",
            "Accuracy: 96.64%\n"
          ]
        }
      ],
      "source": [
        "mape = mean_absolute_percentage_error(y_test, y_pred) * 100\n",
        "\n",
        "accuracy = 100 - mape\n",
        "\n",
        "print(f\"MAPE: {mape:.2f}%\")\n",
        "print(f\"Accuracy: {accuracy:.2f}%\")\n"
      ]
    },
    {
      "cell_type": "markdown",
      "metadata": {},
      "source": [
        "### saving the metrics"
      ]
    },
    {
      "cell_type": "code",
      "execution_count": 269,
      "metadata": {},
      "outputs": [],
      "source": [
        "r2 = r2_score(y_test, y_pred)\n",
        "mae = mean_absolute_error(y_test, y_pred)\n",
        "rmse = np.sqrt(mean_squared_error(y_test, y_pred))\n",
        "mape = mean_absolute_percentage_error(y_test, y_pred)\n",
        "accuracy = 100 - (mape*100)\n",
        "\n",
        "# Create a DataFrame\n",
        "metrics_df = pd.DataFrame({\n",
        "    \"Metric\": [\"R² Score\", \"MAE\", \"RMSE\", \"MAPE\", \"accuracy (100-mape)\"],\n",
        "    \"Value\": [r2, mae, rmse, mape, accuracy]\n",
        "})\n"
      ]
    },
    {
      "cell_type": "code",
      "execution_count": 270,
      "metadata": {},
      "outputs": [],
      "source": [
        "# Create the folder if it doesn't exist\n",
        "os.makedirs(\"2_3_salesforce_xgboost_metrics_data\", exist_ok=True)\n",
        "\n",
        "# Save the Excel file inside the folder\n",
        "metrics_df.to_csv(\"2_3_salesforce_xgboost_metrics_data/2_3_salesforce_xgboost_metrics_data.csv\", index=False)\n"
      ]
    },
    {
      "cell_type": "code",
      "execution_count": 271,
      "metadata": {},
      "outputs": [],
      "source": [
        "# spark_df = spark.createDataFrame(metrics_df)\n",
        "# spark_df.write.mode(\"overwrite\").saveAsTable(\"sd_bdc_demo.xgboost_regression.2_3_salesforce_xgboost_metrics_data\")"
      ]
    },
    {
      "cell_type": "markdown",
      "metadata": {},
      "source": [
        "## Applying k-Fold Cross Validation"
      ]
    },
    {
      "cell_type": "markdown",
      "metadata": {},
      "source": [
        "### Shuffled"
      ]
    },
    {
      "cell_type": "code",
      "execution_count": 272,
      "metadata": {},
      "outputs": [],
      "source": [
        "from sklearn.model_selection import cross_val_score, KFold\n",
        "num_folds = 5\n",
        "kf = KFold(n_splits=num_folds, shuffle=True, random_state=42)\n",
        "cross_val_results = cross_val_score(xgb_model, X=X_train_new, y=y_train, cv=kf)"
      ]
    },
    {
      "cell_type": "code",
      "execution_count": 273,
      "metadata": {},
      "outputs": [
        {
          "name": "stdout",
          "output_type": "stream",
          "text": [
            "Cross-Validation Results (Accuracy):\n",
            "  Fold 1: 97.77%\n",
            "  Fold 2: 88.06%\n",
            "  Fold 3: 82.69%\n",
            "  Fold 4: 97.65%\n",
            "  Fold 5: 86.19%\n",
            "Kfold Mean ccuracy: 90.47 %\n",
            "Standard Deviation: 6.16 %\n"
          ]
        }
      ],
      "source": [
        "print(\"Cross-Validation Results (Accuracy):\")\n",
        "for i, result in enumerate(cross_val_results, 1):\n",
        "    print(f\"  Fold {i}: {result * 100:.2f}%\")\n",
        "\n",
        "print(\"Kfold Mean ccuracy: {:.2f} %\".format(cross_val_results.mean()*100))\n",
        "print(\"Standard Deviation: {:.2f} %\".format(cross_val_results.std()*100))"
      ]
    },
    {
      "cell_type": "markdown",
      "metadata": {},
      "source": [
        "### Unshuffled"
      ]
    },
    {
      "cell_type": "code",
      "execution_count": 274,
      "metadata": {},
      "outputs": [
        {
          "name": "stdout",
          "output_type": "stream",
          "text": [
            "Kfold Accuracy: 88.85 %\n",
            "Standard Deviation: 21.15 %\n"
          ]
        }
      ],
      "source": [
        "\n",
        "accuracies = cross_val_score(estimator = xgb_model, X = X_train_new, y = y_train, cv = 5)\n",
        "print(\"Kfold Accuracy: {:.2f} %\".format(accuracies.mean()*100))\n",
        "print(\"Standard Deviation: {:.2f} %\".format(accuracies.std()*100))"
      ]
    },
    {
      "cell_type": "markdown",
      "metadata": {},
      "source": [
        "## Feature Importance with `shap`"
      ]
    },
    {
      "cell_type": "code",
      "execution_count": 275,
      "metadata": {},
      "outputs": [
        {
          "name": "stdout",
          "output_type": "stream",
          "text": [
            "[0.13880102 0.12153075 0.229406   0.09693804 0.4133242 ]\n"
          ]
        }
      ],
      "source": [
        "print(xgb_model_train.feature_importances_)\n"
      ]
    },
    {
      "cell_type": "code",
      "execution_count": 276,
      "metadata": {},
      "outputs": [],
      "source": [
        "import shap \n",
        "\n",
        "explainer = shap.Explainer(xgb_model_train)\n",
        "shap_values = explainer(X_train_new)\n",
        "# for i in range(0,len(X_train)):\n",
        "#     print(shap_values[i])\n",
        "#     shap.plots.waterfall(shap_values[i])"
      ]
    },
    {
      "cell_type": "code",
      "execution_count": 277,
      "metadata": {},
      "outputs": [],
      "source": [
        "# print(shap_values)"
      ]
    },
    {
      "cell_type": "code",
      "execution_count": 278,
      "metadata": {},
      "outputs": [
        {
          "name": "stdout",
          "output_type": "stream",
          "text": [
            "            Feature  Mean SHAP Value\n",
            "4     days_to_close        15.287538\n",
            "0            Amount         6.016329\n",
            "2       Lead_Source         2.701881\n",
            "1  Company_Industry         2.370403\n",
            "3             State         1.334266\n"
          ]
        }
      ],
      "source": [
        "import pandas as pd\n",
        "importance_df = pd.DataFrame({\n",
        "    \"Feature\": X_train_new.columns,\n",
        "    \"Mean SHAP Value\": np.abs(shap_values.values).mean(axis=0)\n",
        "}).sort_values(by=\"Mean SHAP Value\", ascending=False)\n",
        "\n",
        "print(importance_df)\n"
      ]
    },
    {
      "cell_type": "markdown",
      "metadata": {},
      "source": [
        "### Export Feature Importance"
      ]
    },
    {
      "cell_type": "code",
      "execution_count": 279,
      "metadata": {},
      "outputs": [],
      "source": [
        "# Create the folder if it doesn't exist\n",
        "os.makedirs(\"2_2_salesforce_feature_importance_data\", exist_ok=True)\n",
        "\n",
        "# Save the Excel file inside the folder\n",
        "importance_df.to_csv(\"2_2_salesforce_feature_importance_data/2_2_salesforce_feature_importance_data.csv\", index=False)\n"
      ]
    },
    {
      "cell_type": "code",
      "execution_count": 280,
      "metadata": {},
      "outputs": [],
      "source": [
        "# spark_df = spark.createDataFrame(importance_df)\n",
        "# spark_df.write.mode(\"overwrite\").saveAsTable(\"sd_bdc_demo.xgboost_regression.2_2_salesforce_feature_importance_data\")"
      ]
    }
  ],
  "metadata": {
    "colab": {
      "collapsed_sections": [],
      "name": "data_preprocessing_tools.ipynb",
      "provenance": [],
      "toc_visible": true
    },
    "kernelspec": {
      "display_name": ".venv",
      "language": "python",
      "name": "python3"
    },
    "language_info": {
      "codemirror_mode": {
        "name": "ipython",
        "version": 3
      },
      "file_extension": ".py",
      "mimetype": "text/x-python",
      "name": "python",
      "nbconvert_exporter": "python",
      "pygments_lexer": "ipython3",
      "version": "3.12.6"
    }
  },
  "nbformat": 4,
  "nbformat_minor": 0
}
