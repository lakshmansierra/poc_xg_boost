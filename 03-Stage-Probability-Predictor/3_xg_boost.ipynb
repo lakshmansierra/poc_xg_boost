{
  "cells": [
    {
      "cell_type": "markdown",
      "metadata": {
        "colab_type": "text",
        "id": "37puETfgRzzg"
      },
      "source": [
        "# XG Boost Regressor"
      ]
    },
    {
      "cell_type": "markdown",
      "metadata": {
        "colab_type": "text",
        "id": "EoRP98MpR-qj"
      },
      "source": [
        "## Importing the libraries"
      ]
    },
    {
      "cell_type": "code",
      "execution_count": 175,
      "metadata": {
        "colab": {},
        "colab_type": "code",
        "id": "N-qiINBQSK2g"
      },
      "outputs": [],
      "source": [
        "import os\n",
        "import numpy as np\n",
        "import matplotlib.pyplot as plt\n",
        "import pandas as pd\n"
      ]
    },
    {
      "cell_type": "markdown",
      "metadata": {
        "colab_type": "text",
        "id": "RopL7tUZSQkT"
      },
      "source": [
        "## Importing the dataset"
      ]
    },
    {
      "cell_type": "code",
      "execution_count": 176,
      "metadata": {},
      "outputs": [],
      "source": [
        "# pyspark_df = spark.table(\"sd_bdc_demo.xgboost_regression.2_salesforce_xgboost_updated_data\")\n",
        "# pyspark_df.display()\n",
        "# df = pyspark_df.toPandas()"
      ]
    },
    {
      "cell_type": "code",
      "execution_count": 177,
      "metadata": {},
      "outputs": [],
      "source": [
        "# Load csv file\n",
        "df = pd.read_csv(\"2_salesforce_xgboost_updated_data/2_salesforce_xgboost_updated_data.csv\")"
      ]
    },
    {
      "cell_type": "code",
      "execution_count": 178,
      "metadata": {},
      "outputs": [
        {
          "name": "stdout",
          "output_type": "stream",
          "text": [
            "    Sales_Order                 Stage  Amount  Probability    Sales_Person  \\\n",
            "0          5708           Closed Lost  255000           40  Alex Rodriguez   \n",
            "1          5709       Decision Makers  315000           70   Sarah Johnson   \n",
            "2          5710  Proposal/Price Quote  275000           65   Michael Chang   \n",
            "3          5711            Closed Won  135000           68     Emma Wilson   \n",
            "4          5712    Negotiation/Review  325000           85  David Martinez   \n",
            "..          ...                   ...     ...          ...             ...   \n",
            "91         5799   Perception Analysis  475000           25  Alex Rodriguez   \n",
            "92         5800     Value Proposition  115000           40   Sarah Johnson   \n",
            "93         5801         Qualification   95000           20   Michael Chang   \n",
            "94         5802            Closed Won   68000           76     Emma Wilson   \n",
            "95         5803        Needs Analysis  185000           35  David Martinez   \n",
            "\n",
            "      Company_Industry              Contact_Title          Type  \\\n",
            "0           Healthcare           Medical Director  New Business   \n",
            "1           Government                IT Director  New Business   \n",
            "2   Financial Services  Client Relations Director  New Business   \n",
            "3               Retail         Marketing Director  New Business   \n",
            "4        Manufacturing            Quality Manager  New Business   \n",
            "..                 ...                        ...           ...   \n",
            "91          Healthcare      Network Administrator       Upgrade   \n",
            "92           Marketing           Account Director  New Business   \n",
            "93     Food & Beverage        Operations Director       Upgrade   \n",
            "94          Non-profit       Exhibitions Director  New Business   \n",
            "95         Agriculture         Executive Director  New Business   \n",
            "\n",
            "              Lead_Source State  days_to_close  \n",
            "0   Healthcare Conference    WA             45  \n",
            "1                     RFP    MT             97  \n",
            "2          Industry Event    UT            117  \n",
            "3              Trade Show    OH             36  \n",
            "4        Partner Referral    NV             92  \n",
            "..                    ...   ...            ...  \n",
            "91         Industry Event    OR            148  \n",
            "92                Webinar    SC            102  \n",
            "93              Cold Call    CT            116  \n",
            "94             Conference    NY             56  \n",
            "95             Trade Show    WA            112  \n",
            "\n",
            "[96 rows x 11 columns]\n"
          ]
        }
      ],
      "source": [
        "print(df)"
      ]
    },
    {
      "cell_type": "code",
      "execution_count": 179,
      "metadata": {},
      "outputs": [
        {
          "name": "stdout",
          "output_type": "stream",
          "text": [
            "(96, 11)\n"
          ]
        }
      ],
      "source": [
        "print(df.shape)"
      ]
    },
    {
      "cell_type": "code",
      "execution_count": 180,
      "metadata": {},
      "outputs": [
        {
          "name": "stdout",
          "output_type": "stream",
          "text": [
            "Index(['Sales_Order', 'Stage', 'Amount', 'Probability', 'Sales_Person',\n",
            "       'Company_Industry', 'Contact_Title', 'Type', 'Lead_Source', 'State',\n",
            "       'days_to_close'],\n",
            "      dtype='object')\n"
          ]
        }
      ],
      "source": [
        "print(df.columns)"
      ]
    },
    {
      "cell_type": "code",
      "execution_count": 181,
      "metadata": {},
      "outputs": [
        {
          "name": "stdout",
          "output_type": "stream",
          "text": [
            "<class 'pandas.core.frame.DataFrame'>\n",
            "RangeIndex: 96 entries, 0 to 95\n",
            "Data columns (total 11 columns):\n",
            " #   Column            Non-Null Count  Dtype \n",
            "---  ------            --------------  ----- \n",
            " 0   Sales_Order       96 non-null     int64 \n",
            " 1   Stage             96 non-null     object\n",
            " 2   Amount            96 non-null     int64 \n",
            " 3   Probability       96 non-null     int64 \n",
            " 4   Sales_Person      96 non-null     object\n",
            " 5   Company_Industry  96 non-null     object\n",
            " 6   Contact_Title     96 non-null     object\n",
            " 7   Type              96 non-null     object\n",
            " 8   Lead_Source       96 non-null     object\n",
            " 9   State             96 non-null     object\n",
            " 10  days_to_close     96 non-null     int64 \n",
            "dtypes: int64(4), object(7)\n",
            "memory usage: 8.4+ KB\n",
            "None\n"
          ]
        }
      ],
      "source": [
        "print(df.info())"
      ]
    },
    {
      "cell_type": "markdown",
      "metadata": {},
      "source": [
        "## Encoding categorical data"
      ]
    },
    {
      "cell_type": "markdown",
      "metadata": {},
      "source": [
        "### Encoding the Independent Variable"
      ]
    },
    {
      "cell_type": "code",
      "execution_count": 182,
      "metadata": {},
      "outputs": [],
      "source": [
        "from sklearn.preprocessing import LabelEncoder\n",
        "\n",
        "df_encoded = df.copy()\n",
        "categorical_cols = [\n",
        "    'Sales_Person',\n",
        "    'Company_Industry',\n",
        "    'Contact_Title',\n",
        "    'Type',\n",
        "    'Lead_Source',\n",
        "    'State'\n",
        "]\n",
        "\n",
        "# Save encoder for later use\n",
        "label_encoders = {}\n",
        "\n",
        "for col in categorical_cols:\n",
        "    le = LabelEncoder()\n",
        "    df_encoded[col] = le.fit_transform(df_encoded[col])\n",
        "    label_encoders[col] = le  \n"
      ]
    },
    {
      "cell_type": "code",
      "execution_count": 183,
      "metadata": {},
      "outputs": [
        {
          "name": "stdout",
          "output_type": "stream",
          "text": [
            "   Sales_Order                 Stage  Amount  Probability  Sales_Person  \\\n",
            "0         5708           Closed Lost  255000           40             0   \n",
            "1         5709       Decision Makers  315000           70             4   \n",
            "2         5710  Proposal/Price Quote  275000           65             3   \n",
            "3         5711            Closed Won  135000           68             2   \n",
            "4         5712    Negotiation/Review  325000           85             1   \n",
            "\n",
            "   Company_Industry  Contact_Title  Type  Lead_Source  State  days_to_close  \n",
            "0                12             29     0            5     42             45  \n",
            "1                11             20     0           14     23             97  \n",
            "2                 8              8     0            6     39            117  \n",
            "3                19             28     0           16     31             36  \n",
            "4                15             41     0           10     29             92  \n"
          ]
        }
      ],
      "source": [
        "print(df_encoded.head())"
      ]
    },
    {
      "cell_type": "code",
      "execution_count": 184,
      "metadata": {},
      "outputs": [
        {
          "name": "stdout",
          "output_type": "stream",
          "text": [
            "(96, 11)\n"
          ]
        }
      ],
      "source": [
        "print(df_encoded.shape)"
      ]
    },
    {
      "cell_type": "code",
      "execution_count": 185,
      "metadata": {},
      "outputs": [
        {
          "name": "stdout",
          "output_type": "stream",
          "text": [
            "Index(['Sales_Order', 'Stage', 'Amount', 'Probability', 'Sales_Person',\n",
            "       'Company_Industry', 'Contact_Title', 'Type', 'Lead_Source', 'State',\n",
            "       'days_to_close'],\n",
            "      dtype='object')\n"
          ]
        }
      ],
      "source": [
        "print(df_encoded.columns)"
      ]
    },
    {
      "cell_type": "markdown",
      "metadata": {},
      "source": [
        "## Split two Data Frame for Independent Features & Dependent Columns"
      ]
    },
    {
      "cell_type": "code",
      "execution_count": 186,
      "metadata": {},
      "outputs": [],
      "source": [
        "df_independent = df_encoded.drop(columns=['Probability'])\n",
        "X = df_independent\n",
        "df_dependent = df_encoded[['Probability']]\n",
        "y = df_dependent"
      ]
    },
    {
      "cell_type": "code",
      "execution_count": 187,
      "metadata": {},
      "outputs": [
        {
          "name": "stdout",
          "output_type": "stream",
          "text": [
            "   Sales_Order                 Stage  Amount  Sales_Person  Company_Industry  \\\n",
            "0         5708           Closed Lost  255000             0                12   \n",
            "1         5709       Decision Makers  315000             4                11   \n",
            "2         5710  Proposal/Price Quote  275000             3                 8   \n",
            "3         5711            Closed Won  135000             2                19   \n",
            "4         5712    Negotiation/Review  325000             1                15   \n",
            "\n",
            "   Contact_Title  Type  Lead_Source  State  days_to_close  \n",
            "0             29     0            5     42             45  \n",
            "1             20     0           14     23             97  \n",
            "2              8     0            6     39            117  \n",
            "3             28     0           16     31             36  \n",
            "4             41     0           10     29             92  \n"
          ]
        }
      ],
      "source": [
        "print(df_independent.head())"
      ]
    },
    {
      "cell_type": "code",
      "execution_count": 188,
      "metadata": {},
      "outputs": [
        {
          "name": "stdout",
          "output_type": "stream",
          "text": [
            "(96, 10)\n"
          ]
        }
      ],
      "source": [
        "print(df_independent.shape)"
      ]
    },
    {
      "cell_type": "code",
      "execution_count": 189,
      "metadata": {},
      "outputs": [
        {
          "name": "stdout",
          "output_type": "stream",
          "text": [
            "   Probability\n",
            "0           40\n",
            "1           70\n",
            "2           65\n",
            "3           68\n",
            "4           85\n"
          ]
        }
      ],
      "source": [
        "print(df_dependent.head())"
      ]
    },
    {
      "cell_type": "code",
      "execution_count": 190,
      "metadata": {},
      "outputs": [
        {
          "name": "stdout",
          "output_type": "stream",
          "text": [
            "(96, 1)\n"
          ]
        }
      ],
      "source": [
        "print(df_dependent.shape)"
      ]
    },
    {
      "cell_type": "markdown",
      "metadata": {},
      "source": [
        "## Splitting the dataset into the Training set and Test set (`Closed Won` & `Closed Lost` = `train`)"
      ]
    },
    {
      "cell_type": "code",
      "execution_count": 191,
      "metadata": {},
      "outputs": [],
      "source": [
        "# Define which rows go into train and test based on 'Stage'\n",
        "is_train = df_encoded['Stage'].isin(['Closed Won', 'Closed Lost'])\n",
        "\n",
        "# Split X\n",
        "X_train = X[is_train] \n",
        "X_test = X[~is_train]\n",
        "\n",
        "# Split y\n",
        "y_train = y[is_train]\n",
        "y_test = y[~is_train]  \n"
      ]
    },
    {
      "cell_type": "code",
      "execution_count": 192,
      "metadata": {},
      "outputs": [
        {
          "name": "stdout",
          "output_type": "stream",
          "text": [
            "    Sales_Order        Stage  Amount  Sales_Person  Company_Industry  \\\n",
            "0          5708  Closed Lost  255000             0                12   \n",
            "3          5711   Closed Won  135000             2                19   \n",
            "8          5716   Closed Won  235000             2                12   \n",
            "12         5720   Closed Won  225000             2                 8   \n",
            "17         5725   Closed Won  175000             2                12   \n",
            "\n",
            "    Contact_Title  Type  Lead_Source  State  days_to_close  \n",
            "0              29     0            5     42             45  \n",
            "3              28     0           16     31             36  \n",
            "8               4     2            5     38             36  \n",
            "12             11     2            4     24             38  \n",
            "17             48     2            5     21             40  \n"
          ]
        }
      ],
      "source": [
        "print(X_train.head())"
      ]
    },
    {
      "cell_type": "code",
      "execution_count": 193,
      "metadata": {},
      "outputs": [
        {
          "name": "stdout",
          "output_type": "stream",
          "text": [
            "(25, 10)\n"
          ]
        }
      ],
      "source": [
        "print(X_train.shape)"
      ]
    },
    {
      "cell_type": "code",
      "execution_count": 194,
      "metadata": {},
      "outputs": [
        {
          "name": "stdout",
          "output_type": "stream",
          "text": [
            "   Sales_Order                 Stage  Amount  Sales_Person  Company_Industry  \\\n",
            "1         5709       Decision Makers  315000             4                11   \n",
            "2         5710  Proposal/Price Quote  275000             3                 8   \n",
            "4         5712    Negotiation/Review  325000             1                15   \n",
            "5         5713   Perception Analysis  345000             0                23   \n",
            "6         5714     Value Proposition  195000             4                 6   \n",
            "\n",
            "   Contact_Title  Type  Lead_Source  State  days_to_close  \n",
            "1             20     0           14     23             97  \n",
            "2              8     0            6     39            117  \n",
            "4             41     0           10     29             92  \n",
            "5             32     0           14     33            204  \n",
            "6             20     0            2     41            158  \n"
          ]
        }
      ],
      "source": [
        "print(X_test.head())"
      ]
    },
    {
      "cell_type": "code",
      "execution_count": 195,
      "metadata": {},
      "outputs": [
        {
          "name": "stdout",
          "output_type": "stream",
          "text": [
            "(71, 10)\n"
          ]
        }
      ],
      "source": [
        "print(X_test.shape)"
      ]
    },
    {
      "cell_type": "code",
      "execution_count": 196,
      "metadata": {},
      "outputs": [
        {
          "name": "stdout",
          "output_type": "stream",
          "text": [
            "    Probability\n",
            "0            40\n",
            "3            68\n",
            "8            48\n",
            "12           71\n",
            "17           75\n"
          ]
        }
      ],
      "source": [
        "print(y_train.head())"
      ]
    },
    {
      "cell_type": "code",
      "execution_count": 197,
      "metadata": {},
      "outputs": [
        {
          "name": "stdout",
          "output_type": "stream",
          "text": [
            "(25, 1)\n"
          ]
        }
      ],
      "source": [
        "print(y_train.shape)"
      ]
    },
    {
      "cell_type": "code",
      "execution_count": 198,
      "metadata": {},
      "outputs": [
        {
          "name": "stdout",
          "output_type": "stream",
          "text": [
            "   Probability\n",
            "1           70\n",
            "2           65\n",
            "4           85\n",
            "5           20\n",
            "6           45\n"
          ]
        }
      ],
      "source": [
        "print(y_test.head())"
      ]
    },
    {
      "cell_type": "code",
      "execution_count": 199,
      "metadata": {},
      "outputs": [
        {
          "name": "stdout",
          "output_type": "stream",
          "text": [
            "(71, 1)\n"
          ]
        }
      ],
      "source": [
        "print(y_test.shape)"
      ]
    },
    {
      "cell_type": "markdown",
      "metadata": {},
      "source": [
        "## Feature Scaling\n",
        "- As this is a tree based model, no need to do feature scaling"
      ]
    },
    {
      "cell_type": "markdown",
      "metadata": {},
      "source": [
        "## Removing `Sales_Order` & `Stage` in `X_train` & `X_test`"
      ]
    },
    {
      "cell_type": "code",
      "execution_count": 200,
      "metadata": {},
      "outputs": [],
      "source": [
        "X_train_new = X_train.drop(columns=['Sales_Order', 'Stage', 'Sales_Person'])\n"
      ]
    },
    {
      "cell_type": "code",
      "execution_count": 201,
      "metadata": {},
      "outputs": [
        {
          "name": "stdout",
          "output_type": "stream",
          "text": [
            "    Amount  Company_Industry  Contact_Title  Type  Lead_Source  State  \\\n",
            "0   255000                12             29     0            5     42   \n",
            "3   135000                19             28     0           16     31   \n",
            "8   235000                12              4     2            5     38   \n",
            "12  225000                 8             11     2            4     24   \n",
            "17  175000                12             48     2            5     21   \n",
            "\n",
            "    days_to_close  \n",
            "0              45  \n",
            "3              36  \n",
            "8              36  \n",
            "12             38  \n",
            "17             40  \n"
          ]
        }
      ],
      "source": [
        "print(X_train_new.head())"
      ]
    },
    {
      "cell_type": "code",
      "execution_count": 202,
      "metadata": {},
      "outputs": [
        {
          "name": "stdout",
          "output_type": "stream",
          "text": [
            "(25, 7)\n"
          ]
        }
      ],
      "source": [
        "print(X_train_new.shape)"
      ]
    },
    {
      "cell_type": "code",
      "execution_count": 203,
      "metadata": {},
      "outputs": [],
      "source": [
        "X_test_new = X_test.drop(columns=['Sales_Order', 'Stage', 'Sales_Person'])\n"
      ]
    },
    {
      "cell_type": "code",
      "execution_count": 204,
      "metadata": {},
      "outputs": [
        {
          "name": "stdout",
          "output_type": "stream",
          "text": [
            "   Amount  Company_Industry  Contact_Title  Type  Lead_Source  State  \\\n",
            "1  315000                11             20     0           14     23   \n",
            "2  275000                 8              8     0            6     39   \n",
            "4  325000                15             41     0           10     29   \n",
            "5  345000                23             32     0           14     33   \n",
            "6  195000                 6             20     0            2     41   \n",
            "\n",
            "   days_to_close  \n",
            "1             97  \n",
            "2            117  \n",
            "4             92  \n",
            "5            204  \n",
            "6            158  \n"
          ]
        }
      ],
      "source": [
        "print(X_test_new.head())"
      ]
    },
    {
      "cell_type": "code",
      "execution_count": 205,
      "metadata": {},
      "outputs": [
        {
          "name": "stdout",
          "output_type": "stream",
          "text": [
            "(71, 7)\n"
          ]
        }
      ],
      "source": [
        "print(X_test_new.shape)"
      ]
    },
    {
      "cell_type": "markdown",
      "metadata": {},
      "source": [
        "## Training the Model"
      ]
    },
    {
      "cell_type": "code",
      "execution_count": 206,
      "metadata": {},
      "outputs": [],
      "source": [
        "from xgboost import XGBRegressor\n",
        "\n",
        "# Initialize the model\n",
        "xgb_model = XGBRegressor(\n",
        "    n_estimators=100,\n",
        "    max_depth=4,\n",
        "    learning_rate=0.1,\n",
        "    random_state=42\n",
        ")\n"
      ]
    },
    {
      "cell_type": "markdown",
      "metadata": {},
      "source": [
        "### RFE"
      ]
    },
    {
      "cell_type": "code",
      "execution_count": 207,
      "metadata": {},
      "outputs": [
        {
          "name": "stdout",
          "output_type": "stream",
          "text": [
            "Index(['Amount', 'Contact_Title', 'Lead_Source', 'State', 'days_to_close'], dtype='object')\n"
          ]
        }
      ],
      "source": [
        "from sklearn.feature_selection import RFE\n",
        "\n",
        "rfe = RFE(estimator=xgb_model, n_features_to_select=5)\n",
        "rfe.fit(X_train_new, y_train)\n",
        "\n",
        "# selected features after RFE\n",
        "selected_features = X_train_new.columns[rfe.support_]\n",
        "print(selected_features)"
      ]
    },
    {
      "cell_type": "code",
      "execution_count": 208,
      "metadata": {},
      "outputs": [],
      "source": [
        "# take only selected columns for both X_train_new & X_test_new\n",
        "X_train_new = X_train_new[selected_features]\n",
        "X_test_new = X_test_new[selected_features]\n",
        "xgb_model_train = xgb_model.fit(X_train_new, y_train.values.ravel())\n"
      ]
    },
    {
      "cell_type": "markdown",
      "metadata": {},
      "source": [
        "## Prediction"
      ]
    },
    {
      "cell_type": "code",
      "execution_count": 209,
      "metadata": {},
      "outputs": [],
      "source": [
        "y_pred = xgb_model.predict(X_test_new)"
      ]
    },
    {
      "cell_type": "code",
      "execution_count": 210,
      "metadata": {},
      "outputs": [
        {
          "name": "stdout",
          "output_type": "stream",
          "text": [
            "[60.10178  45.24084  62.573692 61.917397 43.773773 51.811188 60.00916\n",
            " 59.495705 57.434143 57.766262 61.341858 42.112633 55.045105 41.29852\n",
            " 63.179432 62.76751  59.936375 55.179184 39.442856 41.36541  58.930256\n",
            " 57.807373 55.846836 39.53585  61.063652 56.649464 55.470932 40.77672\n",
            " 59.298393 63.87112  60.462387 61.03985  58.5857   50.52598  59.298393\n",
            " 62.813305 60.416267 41.57222  61.35524  56.649647 61.35524  59.98184\n",
            " 40.979206 61.371033 61.284    62.56031  58.437737 58.179264 54.938934\n",
            " 66.74164  69.54127  57.67813  46.880173 63.179432 40.99742  45.418045\n",
            " 61.0377   56.63152  60.598457 62.587917 61.240334 61.822655 69.813286\n",
            " 53.77495  63.82847  59.06632  61.992233 60.766792 62.829597 42.085842\n",
            " 45.74094 ]\n"
          ]
        }
      ],
      "source": [
        "print(y_pred)"
      ]
    },
    {
      "cell_type": "markdown",
      "metadata": {},
      "source": [
        "### Saving the output as new table"
      ]
    },
    {
      "cell_type": "code",
      "execution_count": 211,
      "metadata": {},
      "outputs": [],
      "source": [
        "sales_order = X_test['Sales_Order'].values\n",
        "stage = X_test['Stage'].values"
      ]
    },
    {
      "cell_type": "code",
      "execution_count": 212,
      "metadata": {},
      "outputs": [
        {
          "name": "stdout",
          "output_type": "stream",
          "text": [
            "sales_order shape: (71,)\n",
            "stage shape: (71,)\n",
            "y_test shape: (71, 1)\n",
            "y_pred shape: (71,)\n"
          ]
        }
      ],
      "source": [
        "print(\"sales_order shape:\", sales_order.shape)\n",
        "print(\"stage shape:\", stage.shape)\n",
        "print(\"y_test shape:\", y_test.shape)\n",
        "print(\"y_pred shape:\", y_pred.shape)\n"
      ]
    },
    {
      "cell_type": "code",
      "execution_count": 213,
      "metadata": {},
      "outputs": [
        {
          "name": "stdout",
          "output_type": "stream",
          "text": [
            "    Probability\n",
            "1            70\n",
            "2            65\n",
            "4            85\n",
            "5            20\n",
            "6            45\n",
            "..          ...\n",
            "90           85\n",
            "91           25\n",
            "92           40\n",
            "93           20\n",
            "95           35\n",
            "\n",
            "[71 rows x 1 columns]\n"
          ]
        }
      ],
      "source": [
        "print(y_test)"
      ]
    },
    {
      "cell_type": "code",
      "execution_count": 214,
      "metadata": {},
      "outputs": [],
      "source": [
        "# Flatten y_test to 1D\n",
        "y_test = y_test.values.ravel()"
      ]
    },
    {
      "cell_type": "code",
      "execution_count": 215,
      "metadata": {},
      "outputs": [
        {
          "name": "stdout",
          "output_type": "stream",
          "text": [
            "sales_order shape: (71,)\n",
            "stage shape: (71,)\n",
            "y_test shape: (71,)\n",
            "y_pred shape: (71,)\n"
          ]
        }
      ],
      "source": [
        "print(\"sales_order shape:\", sales_order.shape)\n",
        "print(\"stage shape:\", stage.shape)\n",
        "print(\"y_test shape:\", y_test.shape)\n",
        "print(\"y_pred shape:\", y_pred.shape)\n"
      ]
    },
    {
      "cell_type": "code",
      "execution_count": 216,
      "metadata": {},
      "outputs": [
        {
          "name": "stdout",
          "output_type": "stream",
          "text": [
            "[70 65 85 20 45 25 30 75 60 85 25 40 30 30 70 65 80 20 45 25 35 75 60 90\n",
            " 20 40 30 35 70 65 80 15 45 25 30 75 60 85 20 40 30 35 70 65 85 15 45 25\n",
            " 30 30 60 20 80 40 25 15 70 90 65 75 20 35 45 30 70 60 85 25 40 20 35]\n"
          ]
        }
      ],
      "source": [
        "print(y_test)"
      ]
    },
    {
      "cell_type": "code",
      "execution_count": 217,
      "metadata": {},
      "outputs": [
        {
          "name": "stdout",
          "output_type": "stream",
          "text": [
            "[60.10178  45.24084  62.573692 61.917397 43.773773 51.811188 60.00916\n",
            " 59.495705 57.434143 57.766262 61.341858 42.112633 55.045105 41.29852\n",
            " 63.179432 62.76751  59.936375 55.179184 39.442856 41.36541  58.930256\n",
            " 57.807373 55.846836 39.53585  61.063652 56.649464 55.470932 40.77672\n",
            " 59.298393 63.87112  60.462387 61.03985  58.5857   50.52598  59.298393\n",
            " 62.813305 60.416267 41.57222  61.35524  56.649647 61.35524  59.98184\n",
            " 40.979206 61.371033 61.284    62.56031  58.437737 58.179264 54.938934\n",
            " 66.74164  69.54127  57.67813  46.880173 63.179432 40.99742  45.418045\n",
            " 61.0377   56.63152  60.598457 62.587917 61.240334 61.822655 69.813286\n",
            " 53.77495  63.82847  59.06632  61.992233 60.766792 62.829597 42.085842\n",
            " 45.74094 ]\n"
          ]
        }
      ],
      "source": [
        "print(y_pred)"
      ]
    },
    {
      "cell_type": "code",
      "execution_count": 218,
      "metadata": {},
      "outputs": [],
      "source": [
        "results_df = pd.DataFrame({\n",
        "    'sales_order': sales_order,\n",
        "    'stage': stage,\n",
        "    'Actual': y_test,\n",
        "    'Predicted': y_pred\n",
        "})\n"
      ]
    },
    {
      "cell_type": "code",
      "execution_count": 219,
      "metadata": {},
      "outputs": [],
      "source": [
        "# Create the folder if it doesn't exist\n",
        "os.makedirs(\"3_1_salesforce_xgboost_prediction_data\", exist_ok=True)\n",
        "\n",
        "# Save the Excel file inside the folder\n",
        "results_df.to_csv(\"3_1_salesforce_xgboost_prediction_data/3_1_salesforce_xgboost_prediction_data.csv\", index=False)\n"
      ]
    },
    {
      "cell_type": "code",
      "execution_count": 220,
      "metadata": {},
      "outputs": [],
      "source": [
        "# spark_df = spark.createDataFrame(results_df)\n",
        "# spark_df.write.mode(\"overwrite\").saveAsTable(\"sd_bdc_demo.xgboost_regression.3_1_salesforce_xgboost_prediction_data\")"
      ]
    },
    {
      "cell_type": "markdown",
      "metadata": {},
      "source": [
        "## Accuracy"
      ]
    },
    {
      "cell_type": "code",
      "execution_count": 221,
      "metadata": {},
      "outputs": [
        {
          "name": "stdout",
          "output_type": "stream",
          "text": [
            "r2:\n",
            " -0.17454230785369873\n",
            "MAE:\n",
            " 21.390836715698242\n",
            "RMSE:\n",
            " 25.076411545825792\n",
            "MAPE:\n",
            " 0.6879292726516724\n"
          ]
        }
      ],
      "source": [
        "from sklearn.metrics import r2_score, mean_absolute_error, mean_squared_error, mean_absolute_percentage_error\n",
        "\n",
        "print(\"r2:\\n\", r2_score(y_test, y_pred))\n",
        "print(\"MAE:\\n\", mean_absolute_error(y_test, y_pred))\n",
        "print(\"RMSE:\\n\", np.sqrt(mean_squared_error(y_test, y_pred)))\n",
        "print(\"MAPE:\\n\", mean_absolute_percentage_error(y_test, y_pred))"
      ]
    },
    {
      "cell_type": "code",
      "execution_count": 222,
      "metadata": {},
      "outputs": [
        {
          "name": "stdout",
          "output_type": "stream",
          "text": [
            "MAPE: 68.79%\n",
            "Accuracy: 31.21%\n"
          ]
        }
      ],
      "source": [
        "mape = mean_absolute_percentage_error(y_test, y_pred) * 100\n",
        "\n",
        "accuracy = 100 - mape\n",
        "\n",
        "print(f\"MAPE: {mape:.2f}%\")\n",
        "print(f\"Accuracy: {accuracy:.2f}%\")\n"
      ]
    },
    {
      "cell_type": "markdown",
      "metadata": {},
      "source": [
        "## Applying k-Fold Cross Validation"
      ]
    },
    {
      "cell_type": "markdown",
      "metadata": {},
      "source": [
        "### Shuffled"
      ]
    },
    {
      "cell_type": "code",
      "execution_count": 223,
      "metadata": {},
      "outputs": [],
      "source": [
        "from sklearn.model_selection import cross_val_score, KFold\n",
        "num_folds = 5\n",
        "kf = KFold(n_splits=num_folds, shuffle=True, random_state=42)\n",
        "cross_val_results = cross_val_score(xgb_model, X=X_train_new, y=y_train, cv=kf)"
      ]
    },
    {
      "cell_type": "code",
      "execution_count": 224,
      "metadata": {},
      "outputs": [
        {
          "name": "stdout",
          "output_type": "stream",
          "text": [
            "Cross-Validation Results (Accuracy):\n",
            "  Fold 1: 45.49%\n",
            "  Fold 2: 6.22%\n",
            "  Fold 3: 5.94%\n",
            "  Fold 4: 12.52%\n",
            "  Fold 5: -340.38%\n",
            "Kfold Mean ccuracy: -54.04 %\n",
            "Standard Deviation: 143.91 %\n"
          ]
        }
      ],
      "source": [
        "print(\"Cross-Validation Results (Accuracy):\")\n",
        "for i, result in enumerate(cross_val_results, 1):\n",
        "    print(f\"  Fold {i}: {result * 100:.2f}%\")\n",
        "\n",
        "print(\"Kfold Mean ccuracy: {:.2f} %\".format(cross_val_results.mean()*100))\n",
        "print(\"Standard Deviation: {:.2f} %\".format(cross_val_results.std()*100))"
      ]
    },
    {
      "cell_type": "markdown",
      "metadata": {},
      "source": [
        "### Unshuffled"
      ]
    },
    {
      "cell_type": "code",
      "execution_count": 225,
      "metadata": {},
      "outputs": [
        {
          "name": "stdout",
          "output_type": "stream",
          "text": [
            "Kfold Accuracy: -4.94 %\n",
            "Standard Deviation: 53.10 %\n"
          ]
        }
      ],
      "source": [
        "\n",
        "accuracies = cross_val_score(estimator = xgb_model, X = X_train_new, y = y_train, cv = 5)\n",
        "print(\"Kfold Accuracy: {:.2f} %\".format(accuracies.mean()*100))\n",
        "print(\"Standard Deviation: {:.2f} %\".format(accuracies.std()*100))"
      ]
    },
    {
      "cell_type": "markdown",
      "metadata": {},
      "source": [
        "## Feature Importance with `shap`"
      ]
    },
    {
      "cell_type": "code",
      "execution_count": 226,
      "metadata": {},
      "outputs": [
        {
          "name": "stdout",
          "output_type": "stream",
          "text": [
            "[0.0883081  0.13987556 0.11383628 0.5073345  0.15064558]\n"
          ]
        }
      ],
      "source": [
        "print(xgb_model_train.feature_importances_)\n"
      ]
    },
    {
      "cell_type": "code",
      "execution_count": 227,
      "metadata": {},
      "outputs": [
        {
          "name": "stdout",
          "output_type": "stream",
          "text": [
            "<class 'shap._explanation.Explanation'>\n"
          ]
        },
        {
          "data": {
            "image/png": "[encoded data removed]",
            "text/plain": [
              "<Figure size 800x400 with 3 Axes>"
            ]
          },
          "metadata": {},
          "output_type": "display_data"
        }
      ],
      "source": [
        "import shap \n",
        "\n",
        "explainer = shap.Explainer(xgb_model_train)\n",
        "shap_values = explainer(X_train_new)\n",
        "print(type(shap_values))\n",
        "shap.plots.waterfall(shap_values[0])"
      ]
    },
    {
      "cell_type": "code",
      "execution_count": 228,
      "metadata": {},
      "outputs": [
        {
          "name": "stdout",
          "output_type": "stream",
          "text": [
            ".values =\n",
            "array([[ 7.2989714e-01, -1.1552075e+00, -5.1533502e-01, -1.6569731e+01,\n",
            "        -1.1067470e+00],\n",
            "       [ 8.8698900e-01, -1.0528585e+00,  1.5452520e+00,  6.6311889e+00,\n",
            "         1.2683657e+00],\n",
            "       [-5.5410898e-01,  3.9756565e+00,  6.9481365e-02, -1.4797369e+01,\n",
            "         7.3366666e-01],\n",
            "       [-8.6300664e-02,  4.6408682e+00,  1.8627726e-01,  6.2670012e+00,\n",
            "         1.2823253e+00],\n",
            "       [ 3.5581748e+00,  2.5394382e+00,  1.0554205e+00,  7.2527795e+00,\n",
            "         1.7468117e+00],\n",
            "       [-1.2966151e+00,  8.2168398e+00,  8.2422322e-01,  7.1413636e+00,\n",
            "         4.8417142e-01],\n",
            "       [ 6.4207679e-01,  4.0147314e-03,  1.2404478e+00, -1.5392684e+01,\n",
            "         8.9387858e-01],\n",
            "       [-5.7036906e-01, -5.2775707e+00, -4.6703318e-01,  3.2037570e+00,\n",
            "        -2.0123889e-01],\n",
            "       [ 2.2073476e+00, -1.1052513e+00,  5.3951889e-02,  6.6976371e+00,\n",
            "         5.8560401e-01],\n",
            "       [ 1.4415481e+00,  1.4725872e+00,  7.9519171e-01,  6.7057228e+00,\n",
            "         9.2182696e-01],\n",
            "       [ 2.1807504e+00, -1.0735219e+00,  1.7773525e+00,  4.0154190e+00,\n",
            "        -1.5123202e+00],\n",
            "       [ 7.0118475e-01, -4.7310538e+00, -4.6609001e+00,  1.7939469e+00,\n",
            "         1.8385114e-01],\n",
            "       [-2.9234377e-01,  9.4855947e+00,  2.6376572e-01,  6.5241809e+00,\n",
            "         1.7869009e-01],\n",
            "       [ 7.3619777e-01, -1.3724287e+00,  5.7106048e-01,  6.4379201e+00,\n",
            "         9.0547599e-02],\n",
            "       [-1.6317952e+00, -6.5826488e-01,  1.3223624e+00, -1.0073808e+01,\n",
            "         2.3660119e+00],\n",
            "       [ 1.2075750e+00, -4.1972117e+00,  2.4089651e+00,  4.3205180e+00,\n",
            "         5.2312648e-01],\n",
            "       [ 3.2781453e+00, -2.2364952e-01,  1.5889359e+00,  7.9702125e+00,\n",
            "         5.9946734e-01],\n",
            "       [-1.0589420e+00,  8.5473890e+00,  1.4266491e+00,  3.9925406e+00,\n",
            "         4.3185976e-01],\n",
            "       [-5.2547445e+00, -3.3153708e+00, -2.8449728e+00,  4.7262898e-01,\n",
            "        -5.6142421e+00],\n",
            "       [-9.2963009e+00, -3.8428905e+00, -2.6932032e+00, -8.0104339e-01,\n",
            "         5.3206775e-02],\n",
            "       [-2.2775843e+00, -3.8050530e+00,  6.0623130e-03, -1.4733483e+01,\n",
            "        -1.6941597e+00],\n",
            "       [-1.9168156e+00, -1.6736358e+00, -2.4856536e-01, -1.2206182e+01,\n",
            "         4.0570205e-01],\n",
            "       [-4.5123062e+00, -3.3039131e+00,  1.0507298e-01,  4.6603885e+00,\n",
            "        -6.5965986e+00],\n",
            "       [-1.1224757e+00,  2.6845369e-01,  7.8210574e-01, -8.0899725e+00,\n",
            "         5.3662837e-01],\n",
            "       [-2.3747045e-01,  9.7996712e+00, -3.8293079e-01,  7.6328464e+00,\n",
            "         5.4979998e-01]], dtype=float32)\n",
            "\n",
            ".base_values =\n",
            "array([58.642548, 58.642548, 58.642548, 58.642548, 58.642548, 58.642548,\n",
            "       58.642548, 58.642548, 58.642548, 58.642548, 58.642548, 58.642548,\n",
            "       58.642548, 58.642548, 58.642548, 58.642548, 58.642548, 58.642548,\n",
            "       58.642548, 58.642548, 58.642548, 58.642548, 58.642548, 58.642548,\n",
            "       58.642548], dtype=float32)\n",
            "\n",
            ".data =\n",
            "array([[255000,     29,      5,     42,     45],\n",
            "       [135000,     28,     16,     31,     36],\n",
            "       [235000,      4,      5,     38,     36],\n",
            "       [225000,     11,      4,     24,     38],\n",
            "       [175000,     48,      5,     21,     40],\n",
            "       [ 85000,     12,     10,     26,     51],\n",
            "       [195000,     49,      4,     42,     36],\n",
            "       [145000,     17,      6,     22,     35],\n",
            "       [265000,     31,      4,     26,     56],\n",
            "       [115000,     49,      4,     19,     50],\n",
            "       [295000,     32,     14,      9,     76],\n",
            "       [145000,     17,      0,     11,     61],\n",
            "       [ 72000,     12,      6,     35,     34],\n",
            "       [135000,     20,     18,     35,     70],\n",
            "       [ 95000,     44,      4,     41,     44],\n",
            "       [115000,     17,     15,     10,     35],\n",
            "       [295000,     19,     14,     32,     71],\n",
            "       [ 85000,      3,      4,      0,     34],\n",
            "       [ 95000,     38,      1,      4,     80],\n",
            "       [ 42000,     22,      3,     18,     28],\n",
            "       [ 88000,     57,     14,     43,     66],\n",
            "       [ 65000,     47,     19,     37,     33],\n",
            "       [ 78000,     37,      9,     31,     78],\n",
            "       [ 92000,     14,     15,     44,     35],\n",
            "       [ 68000,     13,      1,     30,     56]])\n"
          ]
        }
      ],
      "source": [
        "print(shap_values)"
      ]
    },
    {
      "cell_type": "code",
      "execution_count": 229,
      "metadata": {},
      "outputs": [
        {
          "name": "stdout",
          "output_type": "stream",
          "text": [
            "         Feature  Mean SHAP Value\n",
            "3          State         7.375372\n",
            "1  Contact_Title         3.429536\n",
            "0         Amount         1.907122\n",
            "4  days_to_close         1.222434\n",
            "2    Lead_Source         1.113421\n"
          ]
        }
      ],
      "source": [
        "import pandas as pd\n",
        "importance_df = pd.DataFrame({\n",
        "    \"Feature\": X_train_new.columns,\n",
        "    \"Mean SHAP Value\": np.abs(shap_values.values).mean(axis=0)\n",
        "}).sort_values(by=\"Mean SHAP Value\", ascending=False)\n",
        "\n",
        "print(importance_df)\n"
      ]
    },
    {
      "cell_type": "markdown",
      "metadata": {},
      "source": [
        "### Export Feature Importance"
      ]
    },
    {
      "cell_type": "code",
      "execution_count": 230,
      "metadata": {},
      "outputs": [],
      "source": [
        "# Create the folder if it doesn't exist\n",
        "os.makedirs(\"3_2_salesforce_feature_importance_data\", exist_ok=True)\n",
        "\n",
        "# Save the Excel file inside the folder\n",
        "importance_df.to_csv(\"3_2_salesforce_feature_importance_data/3_2_salesforce_feature_importance_data.csv\", index=False)\n"
      ]
    },
    {
      "cell_type": "code",
      "execution_count": 231,
      "metadata": {},
      "outputs": [],
      "source": [
        "# spark_df = spark.createDataFrame(importance_df)\n",
        "# spark_df.write.mode(\"overwrite\").saveAsTable(\"sd_bdc_demo.xgboost_regression.3_2_salesforce_feature_importance_data\")"
      ]
    }
  ],
  "metadata": {
    "colab": {
      "collapsed_sections": [],
      "name": "data_preprocessing_tools.ipynb",
      "provenance": [],
      "toc_visible": true
    },
    "kernelspec": {
      "display_name": ".venv",
      "language": "python",
      "name": "python3"
    },
    "language_info": {
      "codemirror_mode": {
        "name": "ipython",
        "version": 3
      },
      "file_extension": ".py",
      "mimetype": "text/x-python",
      "name": "python",
      "nbconvert_exporter": "python",
      "pygments_lexer": "ipython3",
      "version": "3.13.3"
    }
  },
  "nbformat": 4,
  "nbformat_minor": 0
}
