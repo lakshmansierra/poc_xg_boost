{
  "cells": [
    {
      "cell_type": "markdown",
      "metadata": {
        "colab_type": "text",
        "id": "37puETfgRzzg"
      },
      "source": [
        "# XG Boost Regressor"
      ]
    },
    {
      "cell_type": "markdown",
      "metadata": {
        "colab_type": "text",
        "id": "EoRP98MpR-qj"
      },
      "source": [
        "## Importing the libraries"
      ]
    },
    {
      "cell_type": "code",
      "execution_count": 166,
      "metadata": {
        "colab": {},
        "colab_type": "code",
        "id": "N-qiINBQSK2g"
      },
      "outputs": [],
      "source": [
        "import os\n",
        "import numpy as np\n",
        "import matplotlib.pyplot as plt\n",
        "import pandas as pd\n"
      ]
    },
    {
      "cell_type": "markdown",
      "metadata": {
        "colab_type": "text",
        "id": "RopL7tUZSQkT"
      },
      "source": [
        "## Importing the dataset"
      ]
    },
    {
      "cell_type": "code",
      "execution_count": 167,
      "metadata": {},
      "outputs": [],
      "source": [
        "# pyspark_df = spark.table(\"sd_bdc_demo.xgboost_regression.2_salesforce_xgboost_updated_data\")\n",
        "# pyspark_df.display()\n",
        "# df = pyspark_df.toPandas()"
      ]
    },
    {
      "cell_type": "code",
      "execution_count": 168,
      "metadata": {},
      "outputs": [],
      "source": [
        "# Load csv file\n",
        "df = pd.read_csv(\"2_salesforce_xgboost_updated_data/2_salesforce_xgboost_updated_data.csv\")"
      ]
    },
    {
      "cell_type": "code",
      "execution_count": 169,
      "metadata": {},
      "outputs": [
        {
          "name": "stdout",
          "output_type": "stream",
          "text": [
            "    Sales_Order                 Stage  Amount  Probability    Sales_Person  \\\n",
            "0          5708           Closed Lost  255000           33  Alex Rodriguez   \n",
            "1          5709       Decision Makers  315000           70   Sarah Johnson   \n",
            "2          5710  Proposal/Price Quote  275000           65   Michael Chang   \n",
            "3          5711            Closed Won  135000           55     Emma Wilson   \n",
            "4          5712    Negotiation/Review  325000           85  David Martinez   \n",
            "..          ...                   ...     ...          ...             ...   \n",
            "91         5799   Perception Analysis  475000           25  Alex Rodriguez   \n",
            "92         5800     Value Proposition  115000           40   Sarah Johnson   \n",
            "93         5801         Qualification   95000           20   Michael Chang   \n",
            "94         5802            Closed Won   68000           77     Emma Wilson   \n",
            "95         5803        Needs Analysis  185000           35  David Martinez   \n",
            "\n",
            "      Company_Industry              Contact_Title          Type  \\\n",
            "0           Healthcare           Medical Director  New Business   \n",
            "1           Government                IT Director  New Business   \n",
            "2   Financial Services  Client Relations Director  New Business   \n",
            "3               Retail         Marketing Director  New Business   \n",
            "4        Manufacturing            Quality Manager  New Business   \n",
            "..                 ...                        ...           ...   \n",
            "91          Healthcare      Network Administrator       Upgrade   \n",
            "92           Marketing           Account Director  New Business   \n",
            "93     Food & Beverage        Operations Director       Upgrade   \n",
            "94          Non-profit       Exhibitions Director  New Business   \n",
            "95         Agriculture         Executive Director  New Business   \n",
            "\n",
            "              Lead_Source State  days_to_close  \n",
            "0   Healthcare Conference    WA             45  \n",
            "1                     RFP    MT             97  \n",
            "2          Industry Event    UT            117  \n",
            "3              Trade Show    OH             36  \n",
            "4        Partner Referral    NV             92  \n",
            "..                    ...   ...            ...  \n",
            "91         Industry Event    OR            148  \n",
            "92                Webinar    SC            102  \n",
            "93              Cold Call    CT            116  \n",
            "94             Conference    NY             56  \n",
            "95             Trade Show    WA            112  \n",
            "\n",
            "[96 rows x 11 columns]\n"
          ]
        }
      ],
      "source": [
        "print(df)"
      ]
    },
    {
      "cell_type": "code",
      "execution_count": 170,
      "metadata": {},
      "outputs": [
        {
          "name": "stdout",
          "output_type": "stream",
          "text": [
            "(96, 11)\n"
          ]
        }
      ],
      "source": [
        "print(df.shape)"
      ]
    },
    {
      "cell_type": "code",
      "execution_count": 171,
      "metadata": {},
      "outputs": [
        {
          "name": "stdout",
          "output_type": "stream",
          "text": [
            "Index(['Sales_Order', 'Stage', 'Amount', 'Probability', 'Sales_Person',\n",
            "       'Company_Industry', 'Contact_Title', 'Type', 'Lead_Source', 'State',\n",
            "       'days_to_close'],\n",
            "      dtype='object')\n"
          ]
        }
      ],
      "source": [
        "print(df.columns)"
      ]
    },
    {
      "cell_type": "code",
      "execution_count": 172,
      "metadata": {},
      "outputs": [
        {
          "name": "stdout",
          "output_type": "stream",
          "text": [
            "<class 'pandas.core.frame.DataFrame'>\n",
            "RangeIndex: 96 entries, 0 to 95\n",
            "Data columns (total 11 columns):\n",
            " #   Column            Non-Null Count  Dtype \n",
            "---  ------            --------------  ----- \n",
            " 0   Sales_Order       96 non-null     int64 \n",
            " 1   Stage             96 non-null     object\n",
            " 2   Amount            96 non-null     int64 \n",
            " 3   Probability       96 non-null     int64 \n",
            " 4   Sales_Person      96 non-null     object\n",
            " 5   Company_Industry  96 non-null     object\n",
            " 6   Contact_Title     96 non-null     object\n",
            " 7   Type              96 non-null     object\n",
            " 8   Lead_Source       96 non-null     object\n",
            " 9   State             96 non-null     object\n",
            " 10  days_to_close     96 non-null     int64 \n",
            "dtypes: int64(4), object(7)\n",
            "memory usage: 8.4+ KB\n",
            "None\n"
          ]
        }
      ],
      "source": [
        "print(df.info())"
      ]
    },
    {
      "cell_type": "markdown",
      "metadata": {},
      "source": [
        "## Encoding categorical data"
      ]
    },
    {
      "cell_type": "markdown",
      "metadata": {},
      "source": [
        "### Encoding the Independent Variable"
      ]
    },
    {
      "cell_type": "code",
      "execution_count": 173,
      "metadata": {},
      "outputs": [],
      "source": [
        "from sklearn.preprocessing import LabelEncoder\n",
        "\n",
        "df_encoded = df.copy()\n",
        "categorical_cols = [\n",
        "    'Sales_Person',\n",
        "    'Company_Industry',\n",
        "    'Contact_Title',\n",
        "    'Type',\n",
        "    'Lead_Source',\n",
        "    'State'\n",
        "]\n",
        "\n",
        "# Save encoder for later use\n",
        "label_encoders = {}\n",
        "\n",
        "for col in categorical_cols:\n",
        "    le = LabelEncoder()\n",
        "    df_encoded[col] = le.fit_transform(df_encoded[col])\n",
        "    label_encoders[col] = le  \n"
      ]
    },
    {
      "cell_type": "code",
      "execution_count": 174,
      "metadata": {},
      "outputs": [
        {
          "name": "stdout",
          "output_type": "stream",
          "text": [
            "   Sales_Order                 Stage  Amount  Probability  Sales_Person  \\\n",
            "0         5708           Closed Lost  255000           33             0   \n",
            "1         5709       Decision Makers  315000           70             4   \n",
            "2         5710  Proposal/Price Quote  275000           65             3   \n",
            "3         5711            Closed Won  135000           55             2   \n",
            "4         5712    Negotiation/Review  325000           85             1   \n",
            "\n",
            "   Company_Industry  Contact_Title  Type  Lead_Source  State  days_to_close  \n",
            "0                12             29     0            5     42             45  \n",
            "1                11             20     0           14     23             97  \n",
            "2                 8              8     0            6     39            117  \n",
            "3                19             28     0           16     31             36  \n",
            "4                15             41     0           10     29             92  \n"
          ]
        }
      ],
      "source": [
        "print(df_encoded.head())"
      ]
    },
    {
      "cell_type": "code",
      "execution_count": 175,
      "metadata": {},
      "outputs": [
        {
          "name": "stdout",
          "output_type": "stream",
          "text": [
            "(96, 11)\n"
          ]
        }
      ],
      "source": [
        "print(df_encoded.shape)"
      ]
    },
    {
      "cell_type": "code",
      "execution_count": 176,
      "metadata": {},
      "outputs": [
        {
          "name": "stdout",
          "output_type": "stream",
          "text": [
            "Index(['Sales_Order', 'Stage', 'Amount', 'Probability', 'Sales_Person',\n",
            "       'Company_Industry', 'Contact_Title', 'Type', 'Lead_Source', 'State',\n",
            "       'days_to_close'],\n",
            "      dtype='object')\n"
          ]
        }
      ],
      "source": [
        "print(df_encoded.columns)"
      ]
    },
    {
      "cell_type": "markdown",
      "metadata": {},
      "source": [
        "## Split two Data Frame for Independent Features & Dependent Columns"
      ]
    },
    {
      "cell_type": "code",
      "execution_count": 177,
      "metadata": {},
      "outputs": [],
      "source": [
        "df_independent = df_encoded.drop(columns=['Probability'])\n",
        "X = df_independent\n",
        "df_dependent = df_encoded[['Probability']]\n",
        "y = df_dependent"
      ]
    },
    {
      "cell_type": "code",
      "execution_count": 178,
      "metadata": {},
      "outputs": [
        {
          "name": "stdout",
          "output_type": "stream",
          "text": [
            "   Sales_Order                 Stage  Amount  Sales_Person  Company_Industry  \\\n",
            "0         5708           Closed Lost  255000             0                12   \n",
            "1         5709       Decision Makers  315000             4                11   \n",
            "2         5710  Proposal/Price Quote  275000             3                 8   \n",
            "3         5711            Closed Won  135000             2                19   \n",
            "4         5712    Negotiation/Review  325000             1                15   \n",
            "\n",
            "   Contact_Title  Type  Lead_Source  State  days_to_close  \n",
            "0             29     0            5     42             45  \n",
            "1             20     0           14     23             97  \n",
            "2              8     0            6     39            117  \n",
            "3             28     0           16     31             36  \n",
            "4             41     0           10     29             92  \n"
          ]
        }
      ],
      "source": [
        "print(df_independent.head())"
      ]
    },
    {
      "cell_type": "code",
      "execution_count": 179,
      "metadata": {},
      "outputs": [
        {
          "name": "stdout",
          "output_type": "stream",
          "text": [
            "(96, 10)\n"
          ]
        }
      ],
      "source": [
        "print(df_independent.shape)"
      ]
    },
    {
      "cell_type": "code",
      "execution_count": 180,
      "metadata": {},
      "outputs": [
        {
          "name": "stdout",
          "output_type": "stream",
          "text": [
            "   Probability\n",
            "0           33\n",
            "1           70\n",
            "2           65\n",
            "3           55\n",
            "4           85\n"
          ]
        }
      ],
      "source": [
        "print(df_dependent.head())"
      ]
    },
    {
      "cell_type": "code",
      "execution_count": 181,
      "metadata": {},
      "outputs": [
        {
          "name": "stdout",
          "output_type": "stream",
          "text": [
            "(96, 1)\n"
          ]
        }
      ],
      "source": [
        "print(df_dependent.shape)"
      ]
    },
    {
      "cell_type": "markdown",
      "metadata": {},
      "source": [
        "## Splitting the dataset into the Training set and Test set (`Closed Won` & `Closed Lost` = `train`)"
      ]
    },
    {
      "cell_type": "code",
      "execution_count": 182,
      "metadata": {},
      "outputs": [],
      "source": [
        "# Define which rows go into train and test based on 'Stage'\n",
        "is_train = df_encoded['Stage'].isin(['Closed Won', 'Closed Lost'])\n",
        "\n",
        "# Split X\n",
        "X_train = X[is_train] \n",
        "X_test = X[~is_train]\n",
        "\n",
        "# Split y\n",
        "y_train = y[is_train]\n",
        "y_test = y[~is_train]  \n"
      ]
    },
    {
      "cell_type": "code",
      "execution_count": 183,
      "metadata": {},
      "outputs": [
        {
          "name": "stdout",
          "output_type": "stream",
          "text": [
            "    Sales_Order        Stage  Amount  Sales_Person  Company_Industry  \\\n",
            "0          5708  Closed Lost  255000             0                12   \n",
            "3          5711   Closed Won  135000             2                19   \n",
            "8          5716   Closed Won  235000             2                12   \n",
            "12         5720   Closed Won  225000             2                 8   \n",
            "17         5725   Closed Won  175000             2                12   \n",
            "\n",
            "    Contact_Title  Type  Lead_Source  State  days_to_close  \n",
            "0              29     0            5     42             45  \n",
            "3              28     0           16     31             36  \n",
            "8               4     2            5     38             36  \n",
            "12             11     2            4     24             38  \n",
            "17             48     2            5     21             40  \n"
          ]
        }
      ],
      "source": [
        "print(X_train.head())"
      ]
    },
    {
      "cell_type": "code",
      "execution_count": 184,
      "metadata": {},
      "outputs": [
        {
          "name": "stdout",
          "output_type": "stream",
          "text": [
            "(25, 10)\n"
          ]
        }
      ],
      "source": [
        "print(X_train.shape)"
      ]
    },
    {
      "cell_type": "code",
      "execution_count": 185,
      "metadata": {},
      "outputs": [
        {
          "name": "stdout",
          "output_type": "stream",
          "text": [
            "   Sales_Order                 Stage  Amount  Sales_Person  Company_Industry  \\\n",
            "1         5709       Decision Makers  315000             4                11   \n",
            "2         5710  Proposal/Price Quote  275000             3                 8   \n",
            "4         5712    Negotiation/Review  325000             1                15   \n",
            "5         5713   Perception Analysis  345000             0                23   \n",
            "6         5714     Value Proposition  195000             4                 6   \n",
            "\n",
            "   Contact_Title  Type  Lead_Source  State  days_to_close  \n",
            "1             20     0           14     23             97  \n",
            "2              8     0            6     39            117  \n",
            "4             41     0           10     29             92  \n",
            "5             32     0           14     33            204  \n",
            "6             20     0            2     41            158  \n"
          ]
        }
      ],
      "source": [
        "print(X_test.head())"
      ]
    },
    {
      "cell_type": "code",
      "execution_count": 186,
      "metadata": {},
      "outputs": [
        {
          "name": "stdout",
          "output_type": "stream",
          "text": [
            "(71, 10)\n"
          ]
        }
      ],
      "source": [
        "print(X_test.shape)"
      ]
    },
    {
      "cell_type": "code",
      "execution_count": 187,
      "metadata": {},
      "outputs": [
        {
          "name": "stdout",
          "output_type": "stream",
          "text": [
            "    Probability\n",
            "0            33\n",
            "3            55\n",
            "8            47\n",
            "12           76\n",
            "17           67\n"
          ]
        }
      ],
      "source": [
        "print(y_train.head())"
      ]
    },
    {
      "cell_type": "code",
      "execution_count": 188,
      "metadata": {},
      "outputs": [
        {
          "name": "stdout",
          "output_type": "stream",
          "text": [
            "(25, 1)\n"
          ]
        }
      ],
      "source": [
        "print(y_train.shape)"
      ]
    },
    {
      "cell_type": "code",
      "execution_count": 189,
      "metadata": {},
      "outputs": [
        {
          "name": "stdout",
          "output_type": "stream",
          "text": [
            "   Probability\n",
            "1           70\n",
            "2           65\n",
            "4           85\n",
            "5           20\n",
            "6           45\n"
          ]
        }
      ],
      "source": [
        "print(y_test.head())"
      ]
    },
    {
      "cell_type": "code",
      "execution_count": 190,
      "metadata": {},
      "outputs": [
        {
          "name": "stdout",
          "output_type": "stream",
          "text": [
            "(71, 1)\n"
          ]
        }
      ],
      "source": [
        "print(y_test.shape)"
      ]
    },
    {
      "cell_type": "markdown",
      "metadata": {},
      "source": [
        "## Feature Scaling\n",
        "- As this is a tree based model, no need to do feature scaling"
      ]
    },
    {
      "cell_type": "markdown",
      "metadata": {},
      "source": [
        "## Removing `Sales_Order` & `Stage` in `X_train` & `X_test`"
      ]
    },
    {
      "cell_type": "code",
      "execution_count": 191,
      "metadata": {},
      "outputs": [],
      "source": [
        "X_train_new = X_train.drop(columns=['Sales_Order', 'Stage', 'Sales_Person'])\n"
      ]
    },
    {
      "cell_type": "code",
      "execution_count": 192,
      "metadata": {},
      "outputs": [
        {
          "name": "stdout",
          "output_type": "stream",
          "text": [
            "    Amount  Company_Industry  Contact_Title  Type  Lead_Source  State  \\\n",
            "0   255000                12             29     0            5     42   \n",
            "3   135000                19             28     0           16     31   \n",
            "8   235000                12              4     2            5     38   \n",
            "12  225000                 8             11     2            4     24   \n",
            "17  175000                12             48     2            5     21   \n",
            "\n",
            "    days_to_close  \n",
            "0              45  \n",
            "3              36  \n",
            "8              36  \n",
            "12             38  \n",
            "17             40  \n"
          ]
        }
      ],
      "source": [
        "print(X_train_new.head())"
      ]
    },
    {
      "cell_type": "code",
      "execution_count": 193,
      "metadata": {},
      "outputs": [
        {
          "name": "stdout",
          "output_type": "stream",
          "text": [
            "(25, 7)\n"
          ]
        }
      ],
      "source": [
        "print(X_train_new.shape)"
      ]
    },
    {
      "cell_type": "code",
      "execution_count": 194,
      "metadata": {},
      "outputs": [],
      "source": [
        "X_test_new = X_test.drop(columns=['Sales_Order', 'Stage', 'Sales_Person'])\n"
      ]
    },
    {
      "cell_type": "code",
      "execution_count": 195,
      "metadata": {},
      "outputs": [
        {
          "name": "stdout",
          "output_type": "stream",
          "text": [
            "   Amount  Company_Industry  Contact_Title  Type  Lead_Source  State  \\\n",
            "1  315000                11             20     0           14     23   \n",
            "2  275000                 8              8     0            6     39   \n",
            "4  325000                15             41     0           10     29   \n",
            "5  345000                23             32     0           14     33   \n",
            "6  195000                 6             20     0            2     41   \n",
            "\n",
            "   days_to_close  \n",
            "1             97  \n",
            "2            117  \n",
            "4             92  \n",
            "5            204  \n",
            "6            158  \n"
          ]
        }
      ],
      "source": [
        "print(X_test_new.head())"
      ]
    },
    {
      "cell_type": "code",
      "execution_count": 196,
      "metadata": {},
      "outputs": [
        {
          "name": "stdout",
          "output_type": "stream",
          "text": [
            "(71, 7)\n"
          ]
        }
      ],
      "source": [
        "print(X_test_new.shape)"
      ]
    },
    {
      "cell_type": "markdown",
      "metadata": {},
      "source": [
        "## Training the Model"
      ]
    },
    {
      "cell_type": "code",
      "execution_count": 197,
      "metadata": {},
      "outputs": [],
      "source": [
        "from xgboost import XGBRegressor\n",
        "\n",
        "# Initialize the model\n",
        "xgb_model = XGBRegressor(\n",
        "    n_estimators=100,\n",
        "    max_depth=4,\n",
        "    learning_rate=0.1,\n",
        "    random_state=42\n",
        ")\n"
      ]
    },
    {
      "cell_type": "markdown",
      "metadata": {},
      "source": [
        "### RFE"
      ]
    },
    {
      "cell_type": "code",
      "execution_count": 198,
      "metadata": {},
      "outputs": [
        {
          "name": "stdout",
          "output_type": "stream",
          "text": [
            "Index(['Company_Industry', 'Type', 'Lead_Source', 'State', 'days_to_close'], dtype='object')\n"
          ]
        }
      ],
      "source": [
        "from sklearn.feature_selection import RFE\n",
        "\n",
        "rfe = RFE(estimator=xgb_model, n_features_to_select=5)\n",
        "rfe.fit(X_train_new, y_train)\n",
        "\n",
        "# selected features after RFE\n",
        "selected_features = X_train_new.columns[rfe.support_]\n",
        "print(selected_features)"
      ]
    },
    {
      "cell_type": "code",
      "execution_count": 199,
      "metadata": {},
      "outputs": [],
      "source": [
        "# take only selected columns for both X_train_new & X_test_new\n",
        "X_train_new = X_train_new[selected_features]\n",
        "X_test_new = X_test_new[selected_features]\n",
        "xgb_model_train = xgb_model.fit(X_train_new, y_train.values.ravel())\n"
      ]
    },
    {
      "cell_type": "markdown",
      "metadata": {},
      "source": [
        "## Prediction"
      ]
    },
    {
      "cell_type": "code",
      "execution_count": 200,
      "metadata": {},
      "outputs": [],
      "source": [
        "y_pred = xgb_model.predict(X_test_new)"
      ]
    },
    {
      "cell_type": "code",
      "execution_count": 201,
      "metadata": {},
      "outputs": [
        {
          "name": "stdout",
          "output_type": "stream",
          "text": [
            "[61.42499  50.94671  68.31088  46.392212 65.13215  48.41975  47.268555\n",
            " 62.251953 75.269264 67.96366  61.97655  56.877155 69.737755 44.887054\n",
            " 57.946075 59.257763 63.69695  44.461075 58.6681   48.39655  70.097145\n",
            " 62.845005 73.91456  59.317078 64.893654 55.392155 68.817116 47.12488\n",
            " 57.946075 66.35281  65.630394 59.406578 74.38349  63.714954 59.09257\n",
            " 68.22646  61.42499  50.508587 69.59459  71.109795 68.8336   49.43724\n",
            " 44.764046 75.269264 59.34543  61.42499  50.741653 68.47463  67.79572\n",
            " 56.126156 58.400845 58.47684  54.69617  68.467094 50.94671  50.539978\n",
            " 54.19986  64.601    56.505173 65.86358  40.6099   59.406578 43.499977\n",
            " 60.303856 60.222336 65.32788  69.55572  46.870377 50.910435 51.18955\n",
            " 53.96945 ]\n"
          ]
        }
      ],
      "source": [
        "print(y_pred)"
      ]
    },
    {
      "cell_type": "markdown",
      "metadata": {},
      "source": [
        "### Saving the output as new table"
      ]
    },
    {
      "cell_type": "code",
      "execution_count": 202,
      "metadata": {},
      "outputs": [],
      "source": [
        "sales_order = X_test['Sales_Order'].values\n",
        "stage = X_test['Stage'].values"
      ]
    },
    {
      "cell_type": "code",
      "execution_count": 203,
      "metadata": {},
      "outputs": [
        {
          "name": "stdout",
          "output_type": "stream",
          "text": [
            "sales_order shape: (71,)\n",
            "stage shape: (71,)\n",
            "y_test shape: (71, 1)\n",
            "y_pred shape: (71,)\n"
          ]
        }
      ],
      "source": [
        "print(\"sales_order shape:\", sales_order.shape)\n",
        "print(\"stage shape:\", stage.shape)\n",
        "print(\"y_test shape:\", y_test.shape)\n",
        "print(\"y_pred shape:\", y_pred.shape)\n"
      ]
    },
    {
      "cell_type": "code",
      "execution_count": 204,
      "metadata": {},
      "outputs": [
        {
          "name": "stdout",
          "output_type": "stream",
          "text": [
            "    Probability\n",
            "1            70\n",
            "2            65\n",
            "4            85\n",
            "5            20\n",
            "6            45\n",
            "..          ...\n",
            "90           85\n",
            "91           25\n",
            "92           40\n",
            "93           20\n",
            "95           35\n",
            "\n",
            "[71 rows x 1 columns]\n"
          ]
        }
      ],
      "source": [
        "print(y_test)"
      ]
    },
    {
      "cell_type": "code",
      "execution_count": 205,
      "metadata": {},
      "outputs": [],
      "source": [
        "# Flatten y_test to 1D\n",
        "y_test = y_test.values.ravel()"
      ]
    },
    {
      "cell_type": "code",
      "execution_count": 206,
      "metadata": {},
      "outputs": [
        {
          "name": "stdout",
          "output_type": "stream",
          "text": [
            "sales_order shape: (71,)\n",
            "stage shape: (71,)\n",
            "y_test shape: (71,)\n",
            "y_pred shape: (71,)\n"
          ]
        }
      ],
      "source": [
        "print(\"sales_order shape:\", sales_order.shape)\n",
        "print(\"stage shape:\", stage.shape)\n",
        "print(\"y_test shape:\", y_test.shape)\n",
        "print(\"y_pred shape:\", y_pred.shape)\n"
      ]
    },
    {
      "cell_type": "code",
      "execution_count": 207,
      "metadata": {},
      "outputs": [
        {
          "name": "stdout",
          "output_type": "stream",
          "text": [
            "[70 65 85 20 45 25 30 75 60 85 25 40 30 30 70 65 80 20 45 25 35 75 60 90\n",
            " 20 40 30 35 70 65 80 15 45 25 30 75 60 85 20 40 30 35 70 65 85 15 45 25\n",
            " 30 30 60 20 80 40 25 15 70 90 65 75 20 35 45 30 70 60 85 25 40 20 35]\n"
          ]
        }
      ],
      "source": [
        "print(y_test)"
      ]
    },
    {
      "cell_type": "code",
      "execution_count": 208,
      "metadata": {},
      "outputs": [
        {
          "name": "stdout",
          "output_type": "stream",
          "text": [
            "[61.42499  50.94671  68.31088  46.392212 65.13215  48.41975  47.268555\n",
            " 62.251953 75.269264 67.96366  61.97655  56.877155 69.737755 44.887054\n",
            " 57.946075 59.257763 63.69695  44.461075 58.6681   48.39655  70.097145\n",
            " 62.845005 73.91456  59.317078 64.893654 55.392155 68.817116 47.12488\n",
            " 57.946075 66.35281  65.630394 59.406578 74.38349  63.714954 59.09257\n",
            " 68.22646  61.42499  50.508587 69.59459  71.109795 68.8336   49.43724\n",
            " 44.764046 75.269264 59.34543  61.42499  50.741653 68.47463  67.79572\n",
            " 56.126156 58.400845 58.47684  54.69617  68.467094 50.94671  50.539978\n",
            " 54.19986  64.601    56.505173 65.86358  40.6099   59.406578 43.499977\n",
            " 60.303856 60.222336 65.32788  69.55572  46.870377 50.910435 51.18955\n",
            " 53.96945 ]\n"
          ]
        }
      ],
      "source": [
        "print(y_pred)"
      ]
    },
    {
      "cell_type": "code",
      "execution_count": 209,
      "metadata": {},
      "outputs": [],
      "source": [
        "results_df = pd.DataFrame({\n",
        "    'sales_order': sales_order,\n",
        "    'stage': stage,\n",
        "    'Actual': y_test,\n",
        "    'Predicted': y_pred\n",
        "})\n"
      ]
    },
    {
      "cell_type": "code",
      "execution_count": 210,
      "metadata": {},
      "outputs": [],
      "source": [
        "# Create the folder if it doesn't exist\n",
        "os.makedirs(\"3_1_salesforce_xgboost_prediction_data\", exist_ok=True)\n",
        "\n",
        "# Save the Excel file inside the folder\n",
        "results_df.to_csv(\"3_1_salesforce_xgboost_prediction_data/3_1_salesforce_xgboost_prediction_data.csv\", index=False)\n"
      ]
    },
    {
      "cell_type": "code",
      "execution_count": 211,
      "metadata": {},
      "outputs": [],
      "source": [
        "# spark_df = spark.createDataFrame(results_df)\n",
        "# spark_df.write.mode(\"overwrite\").saveAsTable(\"sd_bdc_demo.xgboost_regression.3_1_salesforce_xgboost_prediction_data\")"
      ]
    },
    {
      "cell_type": "markdown",
      "metadata": {},
      "source": [
        "## Accuracy"
      ]
    },
    {
      "cell_type": "code",
      "execution_count": 212,
      "metadata": {},
      "outputs": [
        {
          "name": "stdout",
          "output_type": "stream",
          "text": [
            "r2:\n",
            " -0.17051565647125244\n",
            "MAE:\n",
            " 21.830995559692383\n",
            "RMSE:\n",
            " 25.03338956796939\n",
            "MAPE:\n",
            " 0.712303102016449\n"
          ]
        }
      ],
      "source": [
        "from sklearn.metrics import r2_score, mean_absolute_error, mean_squared_error, mean_absolute_percentage_error\n",
        "\n",
        "print(\"r2:\\n\", r2_score(y_test, y_pred))\n",
        "print(\"MAE:\\n\", mean_absolute_error(y_test, y_pred))\n",
        "print(\"RMSE:\\n\", np.sqrt(mean_squared_error(y_test, y_pred)))\n",
        "print(\"MAPE:\\n\", mean_absolute_percentage_error(y_test, y_pred))"
      ]
    },
    {
      "cell_type": "code",
      "execution_count": 213,
      "metadata": {},
      "outputs": [
        {
          "name": "stdout",
          "output_type": "stream",
          "text": [
            "MAPE: 71.23%\n",
            "Accuracy: 28.77%\n"
          ]
        }
      ],
      "source": [
        "mape = mean_absolute_percentage_error(y_test, y_pred) * 100\n",
        "\n",
        "accuracy = 100 - mape\n",
        "\n",
        "print(f\"MAPE: {mape:.2f}%\")\n",
        "print(f\"Accuracy: {accuracy:.2f}%\")\n"
      ]
    },
    {
      "cell_type": "markdown",
      "metadata": {},
      "source": [
        "## Applying k-Fold Cross Validation"
      ]
    },
    {
      "cell_type": "code",
      "execution_count": 214,
      "metadata": {},
      "outputs": [
        {
          "name": "stdout",
          "output_type": "stream",
          "text": [
            "Kfold Accuracy: -2659.78 %\n",
            "Standard Deviation: 5639.22 %\n"
          ]
        }
      ],
      "source": [
        "from sklearn.model_selection import cross_val_score\n",
        "accuracies = cross_val_score(estimator = xgb_model, X = X_train_new, y = y_train, cv = 10)\n",
        "print(\"Kfold Accuracy: {:.2f} %\".format(accuracies.mean()*100))\n",
        "print(\"Standard Deviation: {:.2f} %\".format(accuracies.std()*100))"
      ]
    },
    {
      "cell_type": "markdown",
      "metadata": {},
      "source": [
        "## Feature Importance with `shap`"
      ]
    },
    {
      "cell_type": "code",
      "execution_count": 215,
      "metadata": {},
      "outputs": [
        {
          "name": "stdout",
          "output_type": "stream",
          "text": [
            "[0.09986367 0.11056312 0.544538   0.15427712 0.09075811]\n"
          ]
        }
      ],
      "source": [
        "print(xgb_model_train.feature_importances_)\n"
      ]
    },
    {
      "cell_type": "code",
      "execution_count": 216,
      "metadata": {},
      "outputs": [
        {
          "name": "stdout",
          "output_type": "stream",
          "text": [
            "<class 'shap._explanation.Explanation'>\n"
          ]
        },
        {
          "data": {
            "image/png": "[encoded data removed]",
            "text/plain": [
              "<Figure size 800x400 with 3 Axes>"
            ]
          },
          "metadata": {},
          "output_type": "display_data"
        }
      ],
      "source": [
        "import shap \n",
        "\n",
        "explainer = shap.Explainer(xgb_model_train)\n",
        "shap_values = explainer(X_train_new)\n",
        "print(type(shap_values))\n",
        "shap.plots.waterfall(shap_values[0])"
      ]
    },
    {
      "cell_type": "code",
      "execution_count": 217,
      "metadata": {},
      "outputs": [
        {
          "name": "stdout",
          "output_type": "stream",
          "text": [
            ".values =\n",
            "array([[-3.5040386e+00, -9.5837533e-01, -5.9276581e+00, -9.2093143e+00,\n",
            "        -5.4696503e+00],\n",
            "       [ 1.4172301e+00, -1.9412081e-01, -6.2716632e+00,  2.6774380e+00,\n",
            "        -1.2509636e+00],\n",
            "       [-1.6660354e+00,  2.7720215e+00, -4.1101751e+00, -8.1355696e+00,\n",
            "        -3.7986028e-01],\n",
            "       [ 3.7897296e+00,  5.8913332e-01,  6.3087487e+00,  5.4862885e+00,\n",
            "         1.2731062e+00],\n",
            "       [-1.9265469e+00,  3.2533453e+00, -1.3946995e+00,  7.6353774e+00,\n",
            "         5.9146535e-01],\n",
            "       [ 7.9113178e+00,  1.5959421e-01, -6.5520322e-01,  7.2237744e+00,\n",
            "         2.5613117e+00],\n",
            "       [ 5.3960996e+00,  3.0257234e-02,  7.0558085e+00, -5.9512734e+00,\n",
            "         6.9812310e-01],\n",
            "       [-1.3733852e+00, -7.2132044e-02, -3.5208154e+00,  4.8530879e+00,\n",
            "        -1.3069900e+00],\n",
            "       [-2.7572777e+00,  2.2161023e-01,  4.2224865e+00,  4.1501207e+00,\n",
            "        -2.5907657e-01],\n",
            "       [ 3.1068988e+00,  1.0245198e-01,  4.9473343e+00,  4.1948433e+00,\n",
            "        -8.5746467e-01],\n",
            "       [ 1.7558135e+00,  5.7650007e-02, -2.7166116e+00,  6.9436917e+00,\n",
            "         4.4247727e+00],\n",
            "       [-4.5748491e+00, -4.0319023e-01, -1.3618602e+01, -6.3524461e-01,\n",
            "         7.2560102e-01],\n",
            "       [-4.4495964e-01, -3.0540967e-01, -5.6796155e+00, -9.0327988e+00,\n",
            "        -1.1589689e+00],\n",
            "       [-2.4294682e+00, -3.1699935e-01, -2.6538017e+00, -5.0902143e+00,\n",
            "         1.6821864e+00],\n",
            "       [ 4.3704562e+00,  3.0927989e-04,  6.6458530e+00, -8.6079397e+00,\n",
            "        -1.9686595e+00],\n",
            "       [-5.7175703e+00, -9.4510996e-01, -1.0213726e+01, -4.2650890e+00,\n",
            "        -3.1453328e+00],\n",
            "       [-3.7512047e+00, -5.3852618e-01, -5.0936646e+00, -9.8760405e+00,\n",
            "        -1.0439192e+00],\n",
            "       [ 3.6310661e-01,  1.9919111e+00,  8.3272982e+00,  4.8792682e+00,\n",
            "        -1.7297684e-01],\n",
            "       [ 3.0861189e+00,  1.4755634e+00,  8.0359144e+00,  6.6689782e+00,\n",
            "         1.9926759e+00],\n",
            "       [ 3.8298423e+00,  8.6419874e-01,  8.7341700e+00,  3.9272494e+00,\n",
            "         5.1016778e-02],\n",
            "       [-2.4765148e+00, -2.4725747e-01, -3.3403981e+00, -1.0979811e+00,\n",
            "         1.5368712e+00],\n",
            "       [-6.8787283e-01, -2.5469691e-01, -4.4854751e+00, -6.7651749e+00,\n",
            "        -1.1723888e+00],\n",
            "       [ 1.1829263e+00,  1.4047553e-01, -2.2007191e+00,  3.8079410e+00,\n",
            "         2.4963217e+00],\n",
            "       [-2.2104735e+00, -3.6979195e-01, -5.2820783e+00,  1.7727278e+00,\n",
            "        -6.1910897e-01],\n",
            "       [ 3.0896952e+00,  1.6779668e+00,  7.9306874e+00,  4.6807866e+00,\n",
            "         9.8366225e-01]], dtype=float32)\n",
            "\n",
            ".base_values =\n",
            "array([58.568016, 58.568016, 58.568016, 58.568016, 58.568016, 58.568016,\n",
            "       58.568016, 58.568016, 58.568016, 58.568016, 58.568016, 58.568016,\n",
            "       58.568016, 58.568016, 58.568016, 58.568016, 58.568016, 58.568016,\n",
            "       58.568016, 58.568016, 58.568016, 58.568016, 58.568016, 58.568016,\n",
            "       58.568016], dtype=float32)\n",
            "\n",
            ".data =\n",
            "array([[12,  0,  5, 42, 45],\n",
            "       [19,  0, 16, 31, 36],\n",
            "       [12,  2,  5, 38, 36],\n",
            "       [ 8,  2,  4, 24, 38],\n",
            "       [12,  2,  5, 21, 40],\n",
            "       [ 4,  0, 10, 26, 51],\n",
            "       [ 8,  2,  4, 42, 36],\n",
            "       [ 1,  0,  6, 22, 35],\n",
            "       [12,  2,  4, 26, 56],\n",
            "       [ 8,  2,  4, 19, 50],\n",
            "       [23,  0, 14,  9, 76],\n",
            "       [13,  0,  0, 11, 61],\n",
            "       [19,  0,  6, 35, 34],\n",
            "       [12,  0, 18, 35, 70],\n",
            "       [ 8,  2,  4, 41, 44],\n",
            "       [13,  0, 15, 10, 35],\n",
            "       [11,  0, 14, 32, 71],\n",
            "       [15,  1,  4,  0, 34],\n",
            "       [22,  0,  1,  4, 80],\n",
            "       [ 6,  0,  3, 18, 28],\n",
            "       [11,  0, 14, 43, 66],\n",
            "       [19,  0, 19, 37, 33],\n",
            "       [17,  0,  9, 31, 78],\n",
            "       [12,  0, 15, 44, 35],\n",
            "       [18,  0,  1, 30, 56]])\n"
          ]
        }
      ],
      "source": [
        "print(shap_values)"
      ]
    },
    {
      "cell_type": "code",
      "execution_count": 218,
      "metadata": {},
      "outputs": [
        {
          "name": "stdout",
          "output_type": "stream",
          "text": [
            "            Feature  Mean SHAP Value\n",
            "2       Lead_Source         5.574929\n",
            "3             State         5.502728\n",
            "0  Company_Industry         2.912777\n",
            "4     days_to_close         1.512899\n",
            "1              Type         0.717684\n"
          ]
        }
      ],
      "source": [
        "import pandas as pd\n",
        "importance_df = pd.DataFrame({\n",
        "    \"Feature\": X_train_new.columns,\n",
        "    \"Mean SHAP Value\": np.abs(shap_values.values).mean(axis=0)\n",
        "}).sort_values(by=\"Mean SHAP Value\", ascending=False)\n",
        "\n",
        "print(importance_df)\n"
      ]
    },
    {
      "cell_type": "markdown",
      "metadata": {},
      "source": [
        "### Export Feature Importance"
      ]
    },
    {
      "cell_type": "code",
      "execution_count": 219,
      "metadata": {},
      "outputs": [],
      "source": [
        "# Create the folder if it doesn't exist\n",
        "os.makedirs(\"3_2_salesforce_feature_importance_data\", exist_ok=True)\n",
        "\n",
        "# Save the Excel file inside the folder\n",
        "importance_df.to_csv(\"3_2_salesforce_feature_importance_data/3_2_salesforce_feature_importance_data.csv\", index=False)\n"
      ]
    },
    {
      "cell_type": "code",
      "execution_count": 220,
      "metadata": {},
      "outputs": [],
      "source": [
        "# spark_df = spark.createDataFrame(importance_df)\n",
        "# spark_df.write.mode(\"overwrite\").saveAsTable(\"sd_bdc_demo.xgboost_regression.3_2_salesforce_feature_importance_data\")"
      ]
    }
  ],
  "metadata": {
    "colab": {
      "collapsed_sections": [],
      "name": "data_preprocessing_tools.ipynb",
      "provenance": [],
      "toc_visible": true
    },
    "kernelspec": {
      "display_name": ".venv",
      "language": "python",
      "name": "python3"
    },
    "language_info": {
      "codemirror_mode": {
        "name": "ipython",
        "version": 3
      },
      "file_extension": ".py",
      "mimetype": "text/x-python",
      "name": "python",
      "nbconvert_exporter": "python",
      "pygments_lexer": "ipython3",
      "version": "3.13.3"
    }
  },
  "nbformat": 4,
  "nbformat_minor": 0
}
