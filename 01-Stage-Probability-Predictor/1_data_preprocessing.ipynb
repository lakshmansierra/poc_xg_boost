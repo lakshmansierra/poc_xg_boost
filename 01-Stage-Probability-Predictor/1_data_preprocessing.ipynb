{
  "cells": [
    {
      "cell_type": "markdown",
      "metadata": {
        "colab_type": "text",
        "id": "37puETfgRzzg"
      },
      "source": [
        "# Data Preprocessing Tools"
      ]
    },
    {
      "cell_type": "markdown",
      "metadata": {
        "colab_type": "text",
        "id": "EoRP98MpR-qj"
      },
      "source": [
        "## Importing the libraries"
      ]
    },
    {
      "cell_type": "code",
      "execution_count": 2,
      "metadata": {
        "colab": {},
        "colab_type": "code",
        "id": "N-qiINBQSK2g"
      },
      "outputs": [],
      "source": [
        "import os\n",
        "import numpy as np\n",
        "import matplotlib.pyplot as plt\n",
        "import pandas as pd\n"
      ]
    },
    {
      "cell_type": "markdown",
      "metadata": {
        "colab_type": "text",
        "id": "RopL7tUZSQkT"
      },
      "source": [
        "## Importing the dataset"
      ]
    },
    {
      "cell_type": "code",
      "execution_count": 3,
      "metadata": {},
      "outputs": [],
      "source": [
        "# Load csv file\n",
        "df = pd.read_csv(\"0_salesforce_raw_data/Salesforce.csv\")"
      ]
    },
    {
      "cell_type": "code",
      "execution_count": 4,
      "metadata": {},
      "outputs": [
        {
          "name": "stdout",
          "output_type": "stream",
          "text": [
            "    Sales Order Opportunity_ID                             Opportunity_Name  \\\n",
            "0          5708  OPP-2024-0091              Valley Medical Group EHR System   \n",
            "1          5709  OPP-2024-0092             Mountain State Government Portal   \n",
            "2          5710  OPP-2024-0093               Western Financial Services CRM   \n",
            "3          5711  OPP-2024-0094               Lakeside Mall Retail Analytics   \n",
            "4          5712  OPP-2024-0095       Precision Manufacturing Quality System   \n",
            "..          ...            ...                                          ...   \n",
            "91         5799  OPP-2024-0026    Western Regional Hospital Network Upgrade   \n",
            "92         5800  OPP-2024-0027  Dynamic Marketing Agency CRM Implementation   \n",
            "93         5801  OPP-2024-0028         Seaside Restaurant Chain POS Upgrade   \n",
            "94         5802  OPP-2024-0029        Heritage Museum Virtual Tour Platform   \n",
            "95         5803  OPP-2024-0030       Valley Agricultural Cooperative System   \n",
            "\n",
            "                   Stage  Amount  Close_Date  Probability    Sales_Person  \\\n",
            "0            Closed Lost  255000   9/15/2024            0  Alex Rodriguez   \n",
            "1        Decision Makers  315000   9/20/2024           70   Sarah Johnson   \n",
            "2   Proposal/Price Quote  275000   10/5/2024           65   Michael Chang   \n",
            "3             Closed Won  135000   9/15/2024          100     Emma Wilson   \n",
            "4     Negotiation/Review  325000   9/25/2024           85  David Martinez   \n",
            "..                   ...     ...         ...          ...             ...   \n",
            "91   Perception Analysis  475000  10/10/2024           25  Alex Rodriguez   \n",
            "92     Value Proposition  115000   8/18/2024           40   Sarah Johnson   \n",
            "93         Qualification   95000    9/5/2024           20   Michael Chang   \n",
            "94            Closed Won   68000   6/10/2024          100     Emma Wilson   \n",
            "95        Needs Analysis  185000   8/25/2024           35  David Martinez   \n",
            "\n",
            "        Sales_Person_Email                     Company_Name  ...  \\\n",
            "0   arodriguez@company.com             Valley Medical Group  ...   \n",
            "1     sjohnson@company.com        Mountain State Government  ...   \n",
            "2       mchang@company.com       Western Financial Services  ...   \n",
            "3      ewilson@company.com         Lakeside Mall Management  ...   \n",
            "4    dmartinez@company.com     Precision Manufacturing Inc.  ...   \n",
            "..                     ...                              ...  ...   \n",
            "91  arodriguez@company.com        Western Regional Hospital  ...   \n",
            "92    sjohnson@company.com          Dynamic Marketing Group  ...   \n",
            "93      mchang@company.com         Seaside Restaurants Inc.  ...   \n",
            "94     ewilson@company.com       Heritage Museum Foundation  ...   \n",
            "95   dmartinez@company.com  Valley Agricultural Cooperative  ...   \n",
            "\n",
            "   Contact_Phone Created_Date Last_Modified_Date              Next_Step  \\\n",
            "0   555-123-7890     8/1/2024          9/15/2024          Loss Analysis   \n",
            "1   555-234-8901    6/15/2024          6/20/2024     Executive Briefing   \n",
            "2   555-345-9012    6/10/2024          6/22/2024          Cost Analysis   \n",
            "3   555-456-0123    8/10/2024          9/15/2024             Deployment   \n",
            "4   555-567-1234    6/25/2024          6/28/2024  Contract Finalization   \n",
            "..           ...          ...                ...                    ...   \n",
            "91  555-678-2345    5/15/2024          5/18/2024   Technical Assessment   \n",
            "92  555-789-3456     5/8/2024          5/15/2024         Needs Analysis   \n",
            "93  555-890-4567    5/12/2024          5/15/2024        Initial Meeting   \n",
            "94  555-901-5678    4/15/2024          6/10/2024        Launch Planning   \n",
            "95  555-012-6789     5/5/2024          5/14/2024            Site Visits   \n",
            "\n",
            "                                          Description          Type  \\\n",
            "0   Electronic health records system - postponed d...  New Business   \n",
            "1    Citizen portal with online services and payments  New Business   \n",
            "2   Customer relationship management system for fi...  New Business   \n",
            "3   Customer analytics platform for shopping mall ...  New Business   \n",
            "4   Quality management system for precision manufa...  New Business   \n",
            "..                                                ...           ...   \n",
            "91  Complete network infrastructure upgrade for mu...       Upgrade   \n",
            "92  Custom CRM implementation with marketing autom...  New Business   \n",
            "93  Point-of-sale system upgrade for 12 restaurant...       Upgrade   \n",
            "94  Virtual tour platform with interactive exhibit...  New Business   \n",
            "95  Integrated management system for agricultural ...  New Business   \n",
            "\n",
            "              Lead_Source State Zip_Code Payment_Terms  \n",
            "0   Healthcare Conference    WA    70532        Net 45  \n",
            "1                     RFP    MT    68222        Net 60  \n",
            "2          Industry Event    UT    14847  2% 10 Net 30  \n",
            "3              Trade Show    OH    34299        Net 30  \n",
            "4        Partner Referral    NV    73270        Net 45  \n",
            "..                    ...   ...      ...           ...  \n",
            "91         Industry Event    OR    59037        Net 60  \n",
            "92                Webinar    SC    40176        Net 60  \n",
            "93              Cold Call    CT    26119  2% 10 Net 30  \n",
            "94             Conference    NY    89988  1% 15 Net 30  \n",
            "95             Trade Show    WA    35519        Net 60  \n",
            "\n",
            "[96 rows x 24 columns]\n"
          ]
        }
      ],
      "source": [
        "print(df)"
      ]
    },
    {
      "cell_type": "code",
      "execution_count": 5,
      "metadata": {},
      "outputs": [
        {
          "name": "stdout",
          "output_type": "stream",
          "text": [
            "(96, 24)\n"
          ]
        }
      ],
      "source": [
        "print(df.shape)"
      ]
    },
    {
      "cell_type": "code",
      "execution_count": 6,
      "metadata": {},
      "outputs": [
        {
          "name": "stdout",
          "output_type": "stream",
          "text": [
            "Index(['Sales Order', 'Opportunity_ID', 'Opportunity_Name', 'Stage', 'Amount',\n",
            "       'Close_Date', 'Probability', 'Sales_Person', 'Sales_Person_Email',\n",
            "       'Company_Name', 'Company_Industry', 'Contact_Name', 'Contact_Title',\n",
            "       'Contact_Email', 'Contact_Phone', 'Created_Date', 'Last_Modified_Date',\n",
            "       'Next_Step', 'Description', 'Type', 'Lead_Source', 'State', 'Zip_Code',\n",
            "       'Payment_Terms'],\n",
            "      dtype='object')\n"
          ]
        }
      ],
      "source": [
        "print(df.columns)"
      ]
    },
    {
      "cell_type": "markdown",
      "metadata": {},
      "source": [
        "## Feature Engineering"
      ]
    },
    {
      "cell_type": "code",
      "execution_count": 30,
      "metadata": {},
      "outputs": [
        {
          "name": "stdout",
          "output_type": "stream",
          "text": [
            "   Years_Since_Last_Promotion  age\n",
            "0                    2.814511   34\n",
            "1                    1.577002   29\n",
            "2                    1.259411   31\n",
            "3                    2.310746   31\n",
            "4                    5.796030   41\n"
          ]
        }
      ],
      "source": [
        "df_merged['Last_Promoted'] = pd.to_datetime(df_merged['Last_Promoted'])\n",
        "df_merged['Birthdate'] = pd.to_datetime(df_merged['Birthdate'])\n",
        "df_merged['Monthly_FLC'] = df_merged['Fully_Loaded_Cost']/12\n",
        "\n",
        "today = pd.Timestamp.today()\n",
        "\n",
        "# Calculate years since last promotion using days / 365.25\n",
        "df_merged['Years_Since_Last_Promotion'] = (today - df_merged['Last_Promoted']).dt.days / 365.25\n",
        "\n",
        "# Calculate age as integer years\n",
        "df_merged['age'] = ((today - df_merged['Birthdate']).dt.days / 365.25).astype(int)\n",
        "\n",
        "\n",
        "# Renaming DataFrame for feature-engineered data\n",
        "df_featured = df_merged.copy()\n",
        "\n",
        "# Optionally drop original columns\n",
        "df_featured.drop(columns=['Last_Promoted', 'Birthdate'], inplace=True)\n",
        "\n",
        "print(df_featured[['Years_Since_Last_Promotion', 'age']].head())"
      ]
    },
    {
      "cell_type": "code",
      "execution_count": 31,
      "metadata": {},
      "outputs": [
        {
          "name": "stdout",
          "output_type": "stream",
          "text": [
            "                Current_Role  Employee_ID  Years_Of_Service    Department  \\\n",
            "0   Senior Software Engineer           57               5.2   Engineering   \n",
            "1   Associate Data Scientist           58               1.7  Data Science   \n",
            "2  Associate Product Manager           59               1.3       Product   \n",
            "3           Business Analyst           60               3.9       Finance   \n",
            "4    Chief Operating Officer           61              15.2     Executive   \n",
            "\n",
            "   Employee_HR_rate  Hours_per_week  Fully_Loaded_Cost   Monthly_FLC  \\\n",
            "0                60              40          163355.20  13612.933333   \n",
            "1               117              40           92926.13   7743.844167   \n",
            "2               147              40          160081.53  13340.127500   \n",
            "3               153              40          105775.38   8814.615000   \n",
            "4                79              40          412283.65  34356.970833   \n",
            "\n",
            "   Years_Since_Last_Promotion  age  \n",
            "0                    2.814511   34  \n",
            "1                    1.577002   29  \n",
            "2                    1.259411   31  \n",
            "3                    2.310746   31  \n",
            "4                    5.796030   41  \n"
          ]
        }
      ],
      "source": [
        "print(df_featured.head())"
      ]
    },
    {
      "cell_type": "code",
      "execution_count": 32,
      "metadata": {},
      "outputs": [
        {
          "name": "stdout",
          "output_type": "stream",
          "text": [
            "Index(['Current_Role', 'Employee_ID', 'Years_Of_Service', 'Department',\n",
            "       'Employee_HR_rate', 'Hours_per_week', 'Fully_Loaded_Cost',\n",
            "       'Monthly_FLC', 'Years_Since_Last_Promotion', 'age'],\n",
            "      dtype='object')\n"
          ]
        }
      ],
      "source": [
        "print(df_featured.columns)"
      ]
    },
    {
      "cell_type": "code",
      "execution_count": 33,
      "metadata": {},
      "outputs": [
        {
          "name": "stdout",
          "output_type": "stream",
          "text": [
            "(100, 10)\n"
          ]
        }
      ],
      "source": [
        "print(df_featured.shape)"
      ]
    },
    {
      "cell_type": "markdown",
      "metadata": {},
      "source": [
        "## Create Custom Dependent Column"
      ]
    },
    {
      "cell_type": "code",
      "execution_count": 34,
      "metadata": {},
      "outputs": [],
      "source": [
        "# Create a boolean Series for condition\n",
        "condition = df_featured['Years_Since_Last_Promotion'] > 5\n",
        "\n",
        "# Group by that boolean condition\n",
        "grouped = df_featured.groupby(condition)\n"
      ]
    },
    {
      "cell_type": "code",
      "execution_count": 35,
      "metadata": {},
      "outputs": [
        {
          "name": "stdout",
          "output_type": "stream",
          "text": [
            "Years_Since_Last_Promotion\n",
            "False    89\n",
            "True     11\n",
            "dtype: int64\n"
          ]
        }
      ],
      "source": [
        "print(grouped.size())"
      ]
    },
    {
      "cell_type": "code",
      "execution_count": 36,
      "metadata": {},
      "outputs": [],
      "source": [
        "df_featured['left'] = (df_featured['Years_Since_Last_Promotion'] > 5).astype(int)\n",
        "\n",
        "# Renaming DataFrame for updated-engineered data\n",
        "df_updated = df_featured.copy()"
      ]
    },
    {
      "cell_type": "code",
      "execution_count": 37,
      "metadata": {},
      "outputs": [
        {
          "name": "stdout",
          "output_type": "stream",
          "text": [
            "   Years_Since_Last_Promotion  left\n",
            "0                    2.814511     0\n",
            "1                    1.577002     0\n",
            "2                    1.259411     0\n",
            "3                    2.310746     0\n",
            "4                    5.796030     1\n"
          ]
        }
      ],
      "source": [
        "print(df_updated[['Years_Since_Last_Promotion', 'left']].head())"
      ]
    },
    {
      "cell_type": "markdown",
      "metadata": {},
      "source": [
        "## Export Updated Excel"
      ]
    },
    {
      "cell_type": "code",
      "execution_count": 38,
      "metadata": {},
      "outputs": [],
      "source": [
        "# Create the folder if it doesn't exist\n",
        "os.makedirs(\"1_am_workday_updated_data\", exist_ok=True)\n",
        "\n",
        "# Save the Excel file inside the folder\n",
        "df_updated.to_csv(\"1_am_workday_updated_data/1_am_workday_updated_data.csv\", index=False)\n"
      ]
    }
  ],
  "metadata": {
    "colab": {
      "collapsed_sections": [],
      "name": "data_preprocessing_tools.ipynb",
      "provenance": [],
      "toc_visible": true
    },
    "kernelspec": {
      "display_name": ".venv",
      "language": "python",
      "name": "python3"
    },
    "language_info": {
      "codemirror_mode": {
        "name": "ipython",
        "version": 3
      },
      "file_extension": ".py",
      "mimetype": "text/x-python",
      "name": "python",
      "nbconvert_exporter": "python",
      "pygments_lexer": "ipython3",
      "version": "3.13.3"
    }
  },
  "nbformat": 4,
  "nbformat_minor": 0
}
