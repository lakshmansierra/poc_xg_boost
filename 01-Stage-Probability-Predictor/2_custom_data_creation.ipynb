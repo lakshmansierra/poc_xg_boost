{
  "cells": [
    {
      "cell_type": "markdown",
      "metadata": {
        "colab_type": "text",
        "id": "37puETfgRzzg"
      },
      "source": [
        "# Custom Data Creation"
      ]
    },
    {
      "cell_type": "markdown",
      "metadata": {
        "colab_type": "text",
        "id": "EoRP98MpR-qj"
      },
      "source": [
        "## Importing the libraries"
      ]
    },
    {
      "cell_type": "code",
      "execution_count": 22,
      "metadata": {
        "colab": {},
        "colab_type": "code",
        "id": "N-qiINBQSK2g"
      },
      "outputs": [],
      "source": [
        "import os\n",
        "from datetime import datetime\n",
        "import numpy as np\n",
        "import matplotlib.pyplot as plt\n",
        "import pandas as pd\n"
      ]
    },
    {
      "cell_type": "markdown",
      "metadata": {
        "colab_type": "text",
        "id": "RopL7tUZSQkT"
      },
      "source": [
        "## Importing the dataset"
      ]
    },
    {
      "cell_type": "code",
      "execution_count": 23,
      "metadata": {},
      "outputs": [],
      "source": [
        "# pyspark_df = spark.table(\"sd_bdc_demo.xgboost_regression.1_salesforce_updated_data\")\n",
        "# pyspark_df.display()\n",
        "# df = pyspark_df.toPandas()"
      ]
    },
    {
      "cell_type": "code",
      "execution_count": 24,
      "metadata": {},
      "outputs": [],
      "source": [
        "df = pd.read_csv(\"1_salesforce_updated_data/1_salesforce_updated_data.csv\")\n"
      ]
    },
    {
      "cell_type": "code",
      "execution_count": 25,
      "metadata": {},
      "outputs": [
        {
          "name": "stdout",
          "output_type": "stream",
          "text": [
            "   Sales_Order                 Stage  Amount  Probability    Sales_Person  \\\n",
            "0         5708           Closed Lost  255000            0  Alex Rodriguez   \n",
            "1         5709       Decision Makers  315000           70   Sarah Johnson   \n",
            "2         5710  Proposal/Price Quote  275000           65   Michael Chang   \n",
            "3         5711            Closed Won  135000          100     Emma Wilson   \n",
            "4         5712    Negotiation/Review  325000           85  David Martinez   \n",
            "\n",
            "     Company_Industry              Contact_Title          Type  \\\n",
            "0          Healthcare           Medical Director  New Business   \n",
            "1          Government                IT Director  New Business   \n",
            "2  Financial Services  Client Relations Director  New Business   \n",
            "3              Retail         Marketing Director  New Business   \n",
            "4       Manufacturing            Quality Manager  New Business   \n",
            "\n",
            "             Lead_Source State  days_to_close  \n",
            "0  Healthcare Conference    WA             45  \n",
            "1                    RFP    MT             97  \n",
            "2         Industry Event    UT            117  \n",
            "3             Trade Show    OH             36  \n",
            "4       Partner Referral    NV             92  \n"
          ]
        }
      ],
      "source": [
        "print(df.head())"
      ]
    },
    {
      "cell_type": "code",
      "execution_count": 26,
      "metadata": {},
      "outputs": [
        {
          "name": "stdout",
          "output_type": "stream",
          "text": [
            "Index(['Sales_Order', 'Stage', 'Amount', 'Probability', 'Sales_Person',\n",
            "       'Company_Industry', 'Contact_Title', 'Type', 'Lead_Source', 'State',\n",
            "       'days_to_close'],\n",
            "      dtype='object')\n"
          ]
        }
      ],
      "source": [
        "print(df.columns)"
      ]
    },
    {
      "cell_type": "markdown",
      "metadata": {},
      "source": [
        "## Custom Number allocation for Closed Lost & Closed Won"
      ]
    },
    {
      "cell_type": "code",
      "execution_count": 27,
      "metadata": {},
      "outputs": [],
      "source": [
        "mask = (df['Stage'].isin(['Closed Lost', 'Closed Won'])) & (df['Probability'].isin([0, 100]))\n",
        "df.loc[mask, 'Probability'] = np.random.randint(30, 81, size=mask.sum())\n"
      ]
    },
    {
      "cell_type": "markdown",
      "metadata": {},
      "source": [
        "## Export Updated Excel"
      ]
    },
    {
      "cell_type": "code",
      "execution_count": 28,
      "metadata": {},
      "outputs": [],
      "source": [
        "# Create the folder if it doesn't exist\n",
        "os.makedirs(\"2_salesforce_xgboost_updated_data\", exist_ok=True)\n",
        "\n",
        "# Save the Excel file inside the folder\n",
        "df.to_csv(\"2_salesforce_xgboost_updated_data/2_salesforce_xgboost_updated_data.csv\", index=False)\n"
      ]
    },
    {
      "cell_type": "code",
      "execution_count": 29,
      "metadata": {},
      "outputs": [],
      "source": [
        "# spark_df = spark.createDataFrame(df)\n",
        "# spark_df.write.mode(\"overwrite\").saveAsTable(\"sd_bdc_demo.sarima_time_series_forecasting.2_salesforce_xgboost_updated_data\")"
      ]
    }
  ],
  "metadata": {
    "colab": {
      "collapsed_sections": [],
      "name": "data_preprocessing_tools.ipynb",
      "provenance": [],
      "toc_visible": true
    },
    "kernelspec": {
      "display_name": ".venv",
      "language": "python",
      "name": "python3"
    },
    "language_info": {
      "codemirror_mode": {
        "name": "ipython",
        "version": 3
      },
      "file_extension": ".py",
      "mimetype": "text/x-python",
      "name": "python",
      "nbconvert_exporter": "python",
      "pygments_lexer": "ipython3",
      "version": "3.13.3"
    }
  },
  "nbformat": 4,
  "nbformat_minor": 0
}
