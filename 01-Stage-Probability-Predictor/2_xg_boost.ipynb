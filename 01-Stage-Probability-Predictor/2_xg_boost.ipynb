{
  "cells": [
    {
      "cell_type": "markdown",
      "metadata": {
        "colab_type": "text",
        "id": "37puETfgRzzg"
      },
      "source": [
        "# XG Boost Regressor"
      ]
    },
    {
      "cell_type": "markdown",
      "metadata": {
        "colab_type": "text",
        "id": "EoRP98MpR-qj"
      },
      "source": [
        "## Importing the libraries"
      ]
    },
    {
      "cell_type": "code",
      "execution_count": 49,
      "metadata": {
        "colab": {},
        "colab_type": "code",
        "id": "N-qiINBQSK2g"
      },
      "outputs": [],
      "source": [
        "import os\n",
        "import numpy as np\n",
        "import matplotlib.pyplot as plt\n",
        "import pandas as pd\n"
      ]
    },
    {
      "cell_type": "markdown",
      "metadata": {
        "colab_type": "text",
        "id": "RopL7tUZSQkT"
      },
      "source": [
        "## Importing the dataset"
      ]
    },
    {
      "cell_type": "code",
      "execution_count": 50,
      "metadata": {},
      "outputs": [],
      "source": [
        "# pyspark_df = spark.table(\"sd_bdc_demo.xgboost_regression.1_salesforce_updated_data\")\n",
        "# pyspark_df.display()\n",
        "# df = pyspark_df.toPandas()"
      ]
    },
    {
      "cell_type": "code",
      "execution_count": 51,
      "metadata": {},
      "outputs": [],
      "source": [
        "# Load csv file\n",
        "df = pd.read_csv(\"1_salesforce_updated_data/1_salesforce_updated_data.csv\")"
      ]
    },
    {
      "cell_type": "code",
      "execution_count": 52,
      "metadata": {},
      "outputs": [
        {
          "name": "stdout",
          "output_type": "stream",
          "text": [
            "    Sales_Order                 Stage  Amount  Probability    Sales_Person  \\\n",
            "0          5708           Closed Lost  255000            0  Alex Rodriguez   \n",
            "1          5709       Decision Makers  315000           70   Sarah Johnson   \n",
            "2          5710  Proposal/Price Quote  275000           65   Michael Chang   \n",
            "3          5711            Closed Won  135000          100     Emma Wilson   \n",
            "4          5712    Negotiation/Review  325000           85  David Martinez   \n",
            "..          ...                   ...     ...          ...             ...   \n",
            "91         5799   Perception Analysis  475000           25  Alex Rodriguez   \n",
            "92         5800     Value Proposition  115000           40   Sarah Johnson   \n",
            "93         5801         Qualification   95000           20   Michael Chang   \n",
            "94         5802            Closed Won   68000          100     Emma Wilson   \n",
            "95         5803        Needs Analysis  185000           35  David Martinez   \n",
            "\n",
            "      Company_Industry              Contact_Title          Type  \\\n",
            "0           Healthcare           Medical Director  New Business   \n",
            "1           Government                IT Director  New Business   \n",
            "2   Financial Services  Client Relations Director  New Business   \n",
            "3               Retail         Marketing Director  New Business   \n",
            "4        Manufacturing            Quality Manager  New Business   \n",
            "..                 ...                        ...           ...   \n",
            "91          Healthcare      Network Administrator       Upgrade   \n",
            "92           Marketing           Account Director  New Business   \n",
            "93     Food & Beverage        Operations Director       Upgrade   \n",
            "94          Non-profit       Exhibitions Director  New Business   \n",
            "95         Agriculture         Executive Director  New Business   \n",
            "\n",
            "              Lead_Source State  days_to_close  \n",
            "0   Healthcare Conference    WA             45  \n",
            "1                     RFP    MT             97  \n",
            "2          Industry Event    UT            117  \n",
            "3              Trade Show    OH             36  \n",
            "4        Partner Referral    NV             92  \n",
            "..                    ...   ...            ...  \n",
            "91         Industry Event    OR            148  \n",
            "92                Webinar    SC            102  \n",
            "93              Cold Call    CT            116  \n",
            "94             Conference    NY             56  \n",
            "95             Trade Show    WA            112  \n",
            "\n",
            "[96 rows x 11 columns]\n"
          ]
        }
      ],
      "source": [
        "print(df)"
      ]
    },
    {
      "cell_type": "code",
      "execution_count": 53,
      "metadata": {},
      "outputs": [
        {
          "name": "stdout",
          "output_type": "stream",
          "text": [
            "(96, 11)\n"
          ]
        }
      ],
      "source": [
        "print(df.shape)"
      ]
    },
    {
      "cell_type": "code",
      "execution_count": 54,
      "metadata": {},
      "outputs": [
        {
          "name": "stdout",
          "output_type": "stream",
          "text": [
            "Index(['Sales_Order', 'Stage', 'Amount', 'Probability', 'Sales_Person',\n",
            "       'Company_Industry', 'Contact_Title', 'Type', 'Lead_Source', 'State',\n",
            "       'days_to_close'],\n",
            "      dtype='object')\n"
          ]
        }
      ],
      "source": [
        "print(df.columns)"
      ]
    },
    {
      "cell_type": "markdown",
      "metadata": {},
      "source": [
        "## Encoding categorical data"
      ]
    },
    {
      "cell_type": "markdown",
      "metadata": {},
      "source": [
        "### Encoding the Independent Variable"
      ]
    },
    {
      "cell_type": "code",
      "execution_count": 55,
      "metadata": {},
      "outputs": [],
      "source": [
        "from sklearn.preprocessing import LabelEncoder\n",
        "\n",
        "df_encoded = df.copy()\n",
        "categorical_cols = [\n",
        "    'Sales_Person',\n",
        "    'Company_Industry',\n",
        "    'Contact_Title',\n",
        "    'Type',\n",
        "    'Lead_Source',\n",
        "    'State'\n",
        "]\n",
        "\n",
        "# Save encoder for later use\n",
        "label_encoders = {}\n",
        "\n",
        "for col in categorical_cols:\n",
        "    le = LabelEncoder()\n",
        "    df_encoded[col] = le.fit_transform(df_encoded[col])\n",
        "    label_encoders[col] = le  \n"
      ]
    },
    {
      "cell_type": "code",
      "execution_count": 56,
      "metadata": {},
      "outputs": [
        {
          "name": "stdout",
          "output_type": "stream",
          "text": [
            "   Sales_Order                 Stage  Amount  Probability  Sales_Person  \\\n",
            "0         5708           Closed Lost  255000            0             0   \n",
            "1         5709       Decision Makers  315000           70             4   \n",
            "2         5710  Proposal/Price Quote  275000           65             3   \n",
            "3         5711            Closed Won  135000          100             2   \n",
            "4         5712    Negotiation/Review  325000           85             1   \n",
            "\n",
            "   Company_Industry  Contact_Title  Type  Lead_Source  State  days_to_close  \n",
            "0                12             29     0            5     42             45  \n",
            "1                11             20     0           14     23             97  \n",
            "2                 8              8     0            6     39            117  \n",
            "3                19             28     0           16     31             36  \n",
            "4                15             41     0           10     29             92  \n"
          ]
        }
      ],
      "source": [
        "print(df_encoded.head())"
      ]
    },
    {
      "cell_type": "code",
      "execution_count": 57,
      "metadata": {},
      "outputs": [
        {
          "name": "stdout",
          "output_type": "stream",
          "text": [
            "(96, 11)\n"
          ]
        }
      ],
      "source": [
        "print(df_encoded.shape)"
      ]
    },
    {
      "cell_type": "code",
      "execution_count": 58,
      "metadata": {},
      "outputs": [
        {
          "name": "stdout",
          "output_type": "stream",
          "text": [
            "Index(['Sales_Order', 'Stage', 'Amount', 'Probability', 'Sales_Person',\n",
            "       'Company_Industry', 'Contact_Title', 'Type', 'Lead_Source', 'State',\n",
            "       'days_to_close'],\n",
            "      dtype='object')\n"
          ]
        }
      ],
      "source": [
        "print(df_encoded.columns)"
      ]
    },
    {
      "cell_type": "markdown",
      "metadata": {},
      "source": [
        "## Split two Data Frame for Independent Features & Dependent Columns"
      ]
    },
    {
      "cell_type": "code",
      "execution_count": 59,
      "metadata": {},
      "outputs": [],
      "source": [
        "df_independent = df_encoded.drop(columns=['Probability'])\n",
        "X = df_independent\n",
        "df_dependent = df_encoded[['Probability']]\n",
        "y = df_dependent"
      ]
    },
    {
      "cell_type": "code",
      "execution_count": 60,
      "metadata": {},
      "outputs": [
        {
          "name": "stdout",
          "output_type": "stream",
          "text": [
            "   Sales_Order                 Stage  Amount  Sales_Person  Company_Industry  \\\n",
            "0         5708           Closed Lost  255000             0                12   \n",
            "1         5709       Decision Makers  315000             4                11   \n",
            "2         5710  Proposal/Price Quote  275000             3                 8   \n",
            "3         5711            Closed Won  135000             2                19   \n",
            "4         5712    Negotiation/Review  325000             1                15   \n",
            "\n",
            "   Contact_Title  Type  Lead_Source  State  days_to_close  \n",
            "0             29     0            5     42             45  \n",
            "1             20     0           14     23             97  \n",
            "2              8     0            6     39            117  \n",
            "3             28     0           16     31             36  \n",
            "4             41     0           10     29             92  \n"
          ]
        }
      ],
      "source": [
        "print(df_independent.head())"
      ]
    },
    {
      "cell_type": "code",
      "execution_count": 61,
      "metadata": {},
      "outputs": [
        {
          "name": "stdout",
          "output_type": "stream",
          "text": [
            "(96, 10)\n"
          ]
        }
      ],
      "source": [
        "print(df_independent.shape)"
      ]
    },
    {
      "cell_type": "code",
      "execution_count": 62,
      "metadata": {},
      "outputs": [
        {
          "name": "stdout",
          "output_type": "stream",
          "text": [
            "   Probability\n",
            "0            0\n",
            "1           70\n",
            "2           65\n",
            "3          100\n",
            "4           85\n"
          ]
        }
      ],
      "source": [
        "print(df_dependent.head())"
      ]
    },
    {
      "cell_type": "code",
      "execution_count": 63,
      "metadata": {},
      "outputs": [
        {
          "name": "stdout",
          "output_type": "stream",
          "text": [
            "(96, 1)\n"
          ]
        }
      ],
      "source": [
        "print(df_dependent.shape)"
      ]
    },
    {
      "cell_type": "markdown",
      "metadata": {},
      "source": [
        "## Splitting the dataset into the Training set and Test set (`Closed Won` & `Closed Lost` = `train`)"
      ]
    },
    {
      "cell_type": "code",
      "execution_count": 64,
      "metadata": {},
      "outputs": [],
      "source": [
        "# Define which rows go into train and test based on 'Stage'\n",
        "is_train = df_encoded['Stage'].isin(['Closed Won', 'Closed Lost'])\n",
        "\n",
        "# Split X\n",
        "X_train = X[is_train] \n",
        "X_test = X[~is_train]\n",
        "\n",
        "# Split y\n",
        "y_train = y[is_train]\n",
        "y_test = y[~is_train]  \n"
      ]
    },
    {
      "cell_type": "code",
      "execution_count": 65,
      "metadata": {},
      "outputs": [
        {
          "name": "stdout",
          "output_type": "stream",
          "text": [
            "    Sales_Order        Stage  Amount  Sales_Person  Company_Industry  \\\n",
            "0          5708  Closed Lost  255000             0                12   \n",
            "3          5711   Closed Won  135000             2                19   \n",
            "8          5716   Closed Won  235000             2                12   \n",
            "12         5720   Closed Won  225000             2                 8   \n",
            "17         5725   Closed Won  175000             2                12   \n",
            "\n",
            "    Contact_Title  Type  Lead_Source  State  days_to_close  \n",
            "0              29     0            5     42             45  \n",
            "3              28     0           16     31             36  \n",
            "8               4     2            5     38             36  \n",
            "12             11     2            4     24             38  \n",
            "17             48     2            5     21             40  \n"
          ]
        }
      ],
      "source": [
        "print(X_train.head())"
      ]
    },
    {
      "cell_type": "code",
      "execution_count": 66,
      "metadata": {},
      "outputs": [
        {
          "name": "stdout",
          "output_type": "stream",
          "text": [
            "(25, 10)\n"
          ]
        }
      ],
      "source": [
        "print(X_train.shape)"
      ]
    },
    {
      "cell_type": "code",
      "execution_count": 67,
      "metadata": {},
      "outputs": [
        {
          "name": "stdout",
          "output_type": "stream",
          "text": [
            "   Sales_Order                 Stage  Amount  Sales_Person  Company_Industry  \\\n",
            "1         5709       Decision Makers  315000             4                11   \n",
            "2         5710  Proposal/Price Quote  275000             3                 8   \n",
            "4         5712    Negotiation/Review  325000             1                15   \n",
            "5         5713   Perception Analysis  345000             0                23   \n",
            "6         5714     Value Proposition  195000             4                 6   \n",
            "\n",
            "   Contact_Title  Type  Lead_Source  State  days_to_close  \n",
            "1             20     0           14     23             97  \n",
            "2              8     0            6     39            117  \n",
            "4             41     0           10     29             92  \n",
            "5             32     0           14     33            204  \n",
            "6             20     0            2     41            158  \n"
          ]
        }
      ],
      "source": [
        "print(X_test.head())"
      ]
    },
    {
      "cell_type": "code",
      "execution_count": 68,
      "metadata": {},
      "outputs": [
        {
          "name": "stdout",
          "output_type": "stream",
          "text": [
            "(71, 10)\n"
          ]
        }
      ],
      "source": [
        "print(X_test.shape)"
      ]
    },
    {
      "cell_type": "code",
      "execution_count": 69,
      "metadata": {},
      "outputs": [
        {
          "name": "stdout",
          "output_type": "stream",
          "text": [
            "    Probability\n",
            "0             0\n",
            "3           100\n",
            "8           100\n",
            "12          100\n",
            "17          100\n"
          ]
        }
      ],
      "source": [
        "print(y_train.head())"
      ]
    },
    {
      "cell_type": "code",
      "execution_count": 70,
      "metadata": {},
      "outputs": [
        {
          "name": "stdout",
          "output_type": "stream",
          "text": [
            "(25, 1)\n"
          ]
        }
      ],
      "source": [
        "print(y_train.shape)"
      ]
    },
    {
      "cell_type": "code",
      "execution_count": 71,
      "metadata": {},
      "outputs": [
        {
          "name": "stdout",
          "output_type": "stream",
          "text": [
            "   Probability\n",
            "1           70\n",
            "2           65\n",
            "4           85\n",
            "5           20\n",
            "6           45\n"
          ]
        }
      ],
      "source": [
        "print(y_test.head())"
      ]
    },
    {
      "cell_type": "code",
      "execution_count": 72,
      "metadata": {},
      "outputs": [
        {
          "name": "stdout",
          "output_type": "stream",
          "text": [
            "(71, 1)\n"
          ]
        }
      ],
      "source": [
        "print(y_test.shape)"
      ]
    },
    {
      "cell_type": "markdown",
      "metadata": {},
      "source": [
        "## Feature Scaling\n",
        "- As this is a tree based model, no need to do feature scaling"
      ]
    },
    {
      "cell_type": "markdown",
      "metadata": {},
      "source": [
        "## Removing `Sales_Order` & `Stage` in `X_train` & `X_test`"
      ]
    },
    {
      "cell_type": "code",
      "execution_count": 73,
      "metadata": {},
      "outputs": [],
      "source": [
        "X_train_new = X_train.drop(columns=['Sales_Order', 'Stage'])\n"
      ]
    },
    {
      "cell_type": "code",
      "execution_count": 74,
      "metadata": {},
      "outputs": [
        {
          "name": "stdout",
          "output_type": "stream",
          "text": [
            "    Amount  Sales_Person  Company_Industry  Contact_Title  Type  Lead_Source  \\\n",
            "0   255000             0                12             29     0            5   \n",
            "3   135000             2                19             28     0           16   \n",
            "8   235000             2                12              4     2            5   \n",
            "12  225000             2                 8             11     2            4   \n",
            "17  175000             2                12             48     2            5   \n",
            "\n",
            "    State  days_to_close  \n",
            "0      42             45  \n",
            "3      31             36  \n",
            "8      38             36  \n",
            "12     24             38  \n",
            "17     21             40  \n"
          ]
        }
      ],
      "source": [
        "print(X_train_new.head())"
      ]
    },
    {
      "cell_type": "code",
      "execution_count": 75,
      "metadata": {},
      "outputs": [
        {
          "name": "stdout",
          "output_type": "stream",
          "text": [
            "(25, 8)\n"
          ]
        }
      ],
      "source": [
        "print(X_train_new.shape)"
      ]
    },
    {
      "cell_type": "code",
      "execution_count": 76,
      "metadata": {},
      "outputs": [],
      "source": [
        "X_test_new = X_test.drop(columns=['Sales_Order', 'Stage'])\n"
      ]
    },
    {
      "cell_type": "code",
      "execution_count": 77,
      "metadata": {},
      "outputs": [
        {
          "name": "stdout",
          "output_type": "stream",
          "text": [
            "   Amount  Sales_Person  Company_Industry  Contact_Title  Type  Lead_Source  \\\n",
            "1  315000             4                11             20     0           14   \n",
            "2  275000             3                 8              8     0            6   \n",
            "4  325000             1                15             41     0           10   \n",
            "5  345000             0                23             32     0           14   \n",
            "6  195000             4                 6             20     0            2   \n",
            "\n",
            "   State  days_to_close  \n",
            "1     23             97  \n",
            "2     39            117  \n",
            "4     29             92  \n",
            "5     33            204  \n",
            "6     41            158  \n"
          ]
        }
      ],
      "source": [
        "print(X_test_new.head())"
      ]
    },
    {
      "cell_type": "code",
      "execution_count": 78,
      "metadata": {},
      "outputs": [
        {
          "name": "stdout",
          "output_type": "stream",
          "text": [
            "(71, 8)\n"
          ]
        }
      ],
      "source": [
        "print(X_test_new.shape)"
      ]
    },
    {
      "cell_type": "markdown",
      "metadata": {},
      "source": [
        "## Training the Model"
      ]
    },
    {
      "cell_type": "code",
      "execution_count": 79,
      "metadata": {},
      "outputs": [],
      "source": [
        "from xgboost import XGBRegressor\n",
        "\n",
        "# Initialize the model\n",
        "xgb_model = XGBRegressor(\n",
        "    n_estimators=100,\n",
        "    max_depth=4,\n",
        "    learning_rate=0.1,\n",
        "    random_state=42\n",
        ")\n"
      ]
    },
    {
      "cell_type": "code",
      "execution_count": 80,
      "metadata": {},
      "outputs": [],
      "source": [
        "xgb_model_train = xgb_model.fit(X_train_new, y_train.values.ravel())\n"
      ]
    },
    {
      "cell_type": "markdown",
      "metadata": {},
      "source": [
        "## Prediction"
      ]
    },
    {
      "cell_type": "code",
      "execution_count": 81,
      "metadata": {},
      "outputs": [],
      "source": [
        "y_pred = xgb_model.predict(X_test_new)"
      ]
    },
    {
      "cell_type": "code",
      "execution_count": 82,
      "metadata": {},
      "outputs": [
        {
          "name": "stdout",
          "output_type": "stream",
          "text": [
            "[9.999910e+01 9.999910e+01 1.331171e-02 1.331171e-02 9.999910e+01\n",
            " 9.999910e+01 1.331171e-02 9.999910e+01 9.999910e+01 1.331171e-02\n",
            " 1.331171e-02 9.999910e+01 9.999910e+01 1.331171e-02 9.999910e+01\n",
            " 9.999910e+01 1.331171e-02 1.331171e-02 9.999910e+01 9.999910e+01\n",
            " 1.331171e-02 9.999910e+01 9.999910e+01 1.331171e-02 1.331171e-02\n",
            " 9.999910e+01 9.999910e+01 1.331171e-02 9.999910e+01 9.999910e+01\n",
            " 1.331171e-02 1.331171e-02 9.999910e+01 9.999910e+01 1.331171e-02\n",
            " 9.999910e+01 9.999910e+01 1.331171e-02 1.331171e-02 9.999910e+01\n",
            " 9.999910e+01 1.331171e-02 9.999910e+01 9.999910e+01 1.331171e-02\n",
            " 1.331171e-02 9.999910e+01 9.999910e+01 1.331171e-02 1.331171e-02\n",
            " 9.999910e+01 9.999910e+01 1.331171e-02 9.999910e+01 9.999910e+01\n",
            " 1.331171e-02 1.331171e-02 9.999910e+01 9.999910e+01 1.331171e-02\n",
            " 1.331171e-02 9.999910e+01 9.999910e+01 1.331171e-02 9.999910e+01\n",
            " 9.999910e+01 1.331171e-02 1.331171e-02 9.999910e+01 9.999910e+01\n",
            " 1.331171e-02]\n"
          ]
        }
      ],
      "source": [
        "print(y_pred)"
      ]
    },
    {
      "cell_type": "markdown",
      "metadata": {},
      "source": [
        "### Saving the output as new table"
      ]
    },
    {
      "cell_type": "code",
      "execution_count": 83,
      "metadata": {},
      "outputs": [],
      "source": [
        "sales_order = X_test['Sales_Order'].values\n",
        "stage = X_test['Stage'].values"
      ]
    },
    {
      "cell_type": "code",
      "execution_count": 84,
      "metadata": {},
      "outputs": [
        {
          "name": "stdout",
          "output_type": "stream",
          "text": [
            "sales_order shape: (71,)\n",
            "stage shape: (71,)\n",
            "y_test shape: (71, 1)\n",
            "y_pred shape: (71,)\n"
          ]
        }
      ],
      "source": [
        "print(\"sales_order shape:\", sales_order.shape)\n",
        "print(\"stage shape:\", stage.shape)\n",
        "print(\"y_test shape:\", y_test.shape)\n",
        "print(\"y_pred shape:\", y_pred.shape)\n"
      ]
    },
    {
      "cell_type": "code",
      "execution_count": 85,
      "metadata": {},
      "outputs": [
        {
          "name": "stdout",
          "output_type": "stream",
          "text": [
            "    Probability\n",
            "1            70\n",
            "2            65\n",
            "4            85\n",
            "5            20\n",
            "6            45\n",
            "..          ...\n",
            "90           85\n",
            "91           25\n",
            "92           40\n",
            "93           20\n",
            "95           35\n",
            "\n",
            "[71 rows x 1 columns]\n"
          ]
        }
      ],
      "source": [
        "print(y_test)"
      ]
    },
    {
      "cell_type": "code",
      "execution_count": 86,
      "metadata": {},
      "outputs": [],
      "source": [
        "# Flatten y_test to 1D\n",
        "y_test = y_test.values.ravel()"
      ]
    },
    {
      "cell_type": "code",
      "execution_count": 87,
      "metadata": {},
      "outputs": [
        {
          "name": "stdout",
          "output_type": "stream",
          "text": [
            "sales_order shape: (71,)\n",
            "stage shape: (71,)\n",
            "y_test shape: (71,)\n",
            "y_pred shape: (71,)\n"
          ]
        }
      ],
      "source": [
        "print(\"sales_order shape:\", sales_order.shape)\n",
        "print(\"stage shape:\", stage.shape)\n",
        "print(\"y_test shape:\", y_test.shape)\n",
        "print(\"y_pred shape:\", y_pred.shape)\n"
      ]
    },
    {
      "cell_type": "code",
      "execution_count": 88,
      "metadata": {},
      "outputs": [
        {
          "name": "stdout",
          "output_type": "stream",
          "text": [
            "[70 65 85 20 45 25 30 75 60 85 25 40 30 30 70 65 80 20 45 25 35 75 60 90\n",
            " 20 40 30 35 70 65 80 15 45 25 30 75 60 85 20 40 30 35 70 65 85 15 45 25\n",
            " 30 30 60 20 80 40 25 15 70 90 65 75 20 35 45 30 70 60 85 25 40 20 35]\n"
          ]
        }
      ],
      "source": [
        "print(y_test)"
      ]
    },
    {
      "cell_type": "code",
      "execution_count": 89,
      "metadata": {},
      "outputs": [],
      "source": [
        "results_df = pd.DataFrame({\n",
        "    'sales_order': sales_order,\n",
        "    'stage': stage,\n",
        "    'Actual': y_test,\n",
        "    'Predicted': y_pred\n",
        "})\n"
      ]
    },
    {
      "cell_type": "code",
      "execution_count": 90,
      "metadata": {},
      "outputs": [],
      "source": [
        "# Create the folder if it doesn't exist\n",
        "os.makedirs(\"2_salesforce_xgboost_prediction_data\", exist_ok=True)\n",
        "\n",
        "# Save the Excel file inside the folder\n",
        "results_df.to_csv(\"2_salesforce_xgboost_prediction_data/2_salesforce_xgboost_prediction_data.csv\", index=False)\n"
      ]
    },
    {
      "cell_type": "code",
      "execution_count": 91,
      "metadata": {},
      "outputs": [],
      "source": [
        "# spark_df = spark.createDataFrame(results_df)\n",
        "# spark_df.write.mode(\"overwrite\").saveAsTable(\"sd_bdc_demo.xgboost_regression.2_salesforce_xgboost_prediction_data\")"
      ]
    },
    {
      "cell_type": "markdown",
      "metadata": {},
      "source": [
        "## Accuracy"
      ]
    },
    {
      "cell_type": "code",
      "execution_count": 92,
      "metadata": {},
      "outputs": [
        {
          "name": "stdout",
          "output_type": "stream",
          "text": [
            "r2:\n",
            " -4.306451797485352\n",
            "MAE:\n",
            " 48.0218391418457\n",
            "RMSE:\n",
            " 53.300729576972024\n"
          ]
        }
      ],
      "source": [
        "from sklearn.metrics import r2_score, mean_absolute_error, mean_squared_error\n",
        "\n",
        "print(\"r2:\\n\", r2_score(y_test, y_pred))\n",
        "print(\"MAE:\\n\", mean_absolute_error(y_test, y_pred))\n",
        "print(\"RMSE:\\n\", np.sqrt(mean_squared_error(y_test, y_pred)))"
      ]
    },
    {
      "cell_type": "markdown",
      "metadata": {},
      "source": [
        "## Feature Importance with `shap`"
      ]
    },
    {
      "cell_type": "code",
      "execution_count": 93,
      "metadata": {},
      "outputs": [
        {
          "name": "stdout",
          "output_type": "stream",
          "text": [
            "[0. 1. 0. 0. 0. 0. 0. 0.]\n"
          ]
        }
      ],
      "source": [
        "print(xgb_model_train.feature_importances_)\n"
      ]
    },
    {
      "cell_type": "code",
      "execution_count": 94,
      "metadata": {},
      "outputs": [
        {
          "name": "stdout",
          "output_type": "stream",
          "text": [
            "<class 'shap._explanation.Explanation'>\n"
          ]
        },
        {
          "data": {
            "image/png": "[encoded data removed]",
            "text/plain": [
              "<Figure size 800x550 with 3 Axes>"
            ]
          },
          "metadata": {},
          "output_type": "display_data"
        }
      ],
      "source": [
        "import shap \n",
        "\n",
        "explainer = shap.Explainer(xgb_model_train)\n",
        "shap_values = explainer(X_train_new)\n",
        "print(type(shap_values))\n",
        "shap.plots.waterfall(shap_values[0])"
      ]
    },
    {
      "cell_type": "code",
      "execution_count": 95,
      "metadata": {},
      "outputs": [
        {
          "name": "stdout",
          "output_type": "stream",
          "text": [
            ".values =\n",
            "array([[  0.     , -79.9886 ,   0.     ,   0.     ,   0.     ,   0.     ,\n",
            "          0.     ,   0.     ],\n",
            "       [  0.     ,  19.99715,   0.     ,   0.     ,   0.     ,   0.     ,\n",
            "          0.     ,   0.     ],\n",
            "       [  0.     ,  19.99715,   0.     ,   0.     ,   0.     ,   0.     ,\n",
            "          0.     ,   0.     ],\n",
            "       [  0.     ,  19.99715,   0.     ,   0.     ,   0.     ,   0.     ,\n",
            "          0.     ,   0.     ],\n",
            "       [  0.     ,  19.99715,   0.     ,   0.     ,   0.     ,   0.     ,\n",
            "          0.     ,   0.     ],\n",
            "       [  0.     ,  19.99715,   0.     ,   0.     ,   0.     ,   0.     ,\n",
            "          0.     ,   0.     ],\n",
            "       [  0.     ,  19.99715,   0.     ,   0.     ,   0.     ,   0.     ,\n",
            "          0.     ,   0.     ],\n",
            "       [  0.     ,  19.99715,   0.     ,   0.     ,   0.     ,   0.     ,\n",
            "          0.     ,   0.     ],\n",
            "       [  0.     ,  19.99715,   0.     ,   0.     ,   0.     ,   0.     ,\n",
            "          0.     ,   0.     ],\n",
            "       [  0.     ,  19.99715,   0.     ,   0.     ,   0.     ,   0.     ,\n",
            "          0.     ,   0.     ],\n",
            "       [  0.     ,  19.99715,   0.     ,   0.     ,   0.     ,   0.     ,\n",
            "          0.     ,   0.     ],\n",
            "       [  0.     , -79.9886 ,   0.     ,   0.     ,   0.     ,   0.     ,\n",
            "          0.     ,   0.     ],\n",
            "       [  0.     ,  19.99715,   0.     ,   0.     ,   0.     ,   0.     ,\n",
            "          0.     ,   0.     ],\n",
            "       [  0.     ,  19.99715,   0.     ,   0.     ,   0.     ,   0.     ,\n",
            "          0.     ,   0.     ],\n",
            "       [  0.     , -79.9886 ,   0.     ,   0.     ,   0.     ,   0.     ,\n",
            "          0.     ,   0.     ],\n",
            "       [  0.     ,  19.99715,   0.     ,   0.     ,   0.     ,   0.     ,\n",
            "          0.     ,   0.     ],\n",
            "       [  0.     ,  19.99715,   0.     ,   0.     ,   0.     ,   0.     ,\n",
            "          0.     ,   0.     ],\n",
            "       [  0.     ,  19.99715,   0.     ,   0.     ,   0.     ,   0.     ,\n",
            "          0.     ,   0.     ],\n",
            "       [  0.     , -79.9886 ,   0.     ,   0.     ,   0.     ,   0.     ,\n",
            "          0.     ,   0.     ],\n",
            "       [  0.     ,  19.99715,   0.     ,   0.     ,   0.     ,   0.     ,\n",
            "          0.     ,   0.     ],\n",
            "       [  0.     ,  19.99715,   0.     ,   0.     ,   0.     ,   0.     ,\n",
            "          0.     ,   0.     ],\n",
            "       [  0.     ,  19.99715,   0.     ,   0.     ,   0.     ,   0.     ,\n",
            "          0.     ,   0.     ],\n",
            "       [  0.     , -79.9886 ,   0.     ,   0.     ,   0.     ,   0.     ,\n",
            "          0.     ,   0.     ],\n",
            "       [  0.     ,  19.99715,   0.     ,   0.     ,   0.     ,   0.     ,\n",
            "          0.     ,   0.     ],\n",
            "       [  0.     ,  19.99715,   0.     ,   0.     ,   0.     ,   0.     ,\n",
            "          0.     ,   0.     ]], dtype=float32)\n",
            "\n",
            ".base_values =\n",
            "array([80.00194, 80.00194, 80.00194, 80.00194, 80.00194, 80.00194,\n",
            "       80.00194, 80.00194, 80.00194, 80.00194, 80.00194, 80.00194,\n",
            "       80.00194, 80.00194, 80.00194, 80.00194, 80.00194, 80.00194,\n",
            "       80.00194, 80.00194, 80.00194, 80.00194, 80.00194, 80.00194,\n",
            "       80.00194], dtype=float32)\n",
            "\n",
            ".data =\n",
            "array([[255000,      0,     12,     29,      0,      5,     42,     45],\n",
            "       [135000,      2,     19,     28,      0,     16,     31,     36],\n",
            "       [235000,      2,     12,      4,      2,      5,     38,     36],\n",
            "       [225000,      2,      8,     11,      2,      4,     24,     38],\n",
            "       [175000,      2,     12,     48,      2,      5,     21,     40],\n",
            "       [ 85000,      2,      4,     12,      0,     10,     26,     51],\n",
            "       [195000,      2,      8,     49,      2,      4,     42,     36],\n",
            "       [145000,      2,      1,     17,      0,      6,     22,     35],\n",
            "       [265000,      2,     12,     31,      2,      4,     26,     56],\n",
            "       [115000,      2,      8,     49,      2,      4,     19,     50],\n",
            "       [295000,      2,     23,     32,      0,     14,      9,     76],\n",
            "       [145000,      0,     13,     17,      0,      0,     11,     61],\n",
            "       [ 72000,      2,     19,     12,      0,      6,     35,     34],\n",
            "       [135000,      2,     12,     20,      0,     18,     35,     70],\n",
            "       [ 95000,      0,      8,     44,      2,      4,     41,     44],\n",
            "       [115000,      2,     13,     17,      0,     15,     10,     35],\n",
            "       [295000,      2,     11,     19,      0,     14,     32,     71],\n",
            "       [ 85000,      4,     15,      3,      1,      4,      0,     34],\n",
            "       [ 95000,      0,     22,     38,      0,      1,      4,     80],\n",
            "       [ 42000,      4,      6,     22,      0,      3,     18,     28],\n",
            "       [ 88000,      2,     11,     57,      0,     14,     43,     66],\n",
            "       [ 65000,      2,     19,     47,      0,     19,     37,     33],\n",
            "       [ 78000,      0,     17,     37,      0,      9,     31,     78],\n",
            "       [ 92000,      2,     12,     14,      0,     15,     44,     35],\n",
            "       [ 68000,      2,     18,     13,      0,      1,     30,     56]])\n"
          ]
        }
      ],
      "source": [
        "print(shap_values)"
      ]
    },
    {
      "cell_type": "code",
      "execution_count": 96,
      "metadata": {},
      "outputs": [
        {
          "name": "stdout",
          "output_type": "stream",
          "text": [
            "            Feature  Mean SHAP Value\n",
            "1      Sales_Person        31.995434\n",
            "0            Amount         0.000000\n",
            "2  Company_Industry         0.000000\n",
            "3     Contact_Title         0.000000\n",
            "4              Type         0.000000\n",
            "5       Lead_Source         0.000000\n",
            "6             State         0.000000\n",
            "7     days_to_close         0.000000\n"
          ]
        }
      ],
      "source": [
        "import pandas as pd\n",
        "importance_df = pd.DataFrame({\n",
        "    \"Feature\": X_train_new.columns,\n",
        "    \"Mean SHAP Value\": np.abs(shap_values.values).mean(axis=0)\n",
        "}).sort_values(by=\"Mean SHAP Value\", ascending=False)\n",
        "\n",
        "print(importance_df)\n"
      ]
    },
    {
      "cell_type": "code",
      "execution_count": null,
      "metadata": {},
      "outputs": [],
      "source": []
    }
  ],
  "metadata": {
    "colab": {
      "collapsed_sections": [],
      "name": "data_preprocessing_tools.ipynb",
      "provenance": [],
      "toc_visible": true
    },
    "kernelspec": {
      "display_name": ".venv",
      "language": "python",
      "name": "python3"
    },
    "language_info": {
      "codemirror_mode": {
        "name": "ipython",
        "version": 3
      },
      "file_extension": ".py",
      "mimetype": "text/x-python",
      "name": "python",
      "nbconvert_exporter": "python",
      "pygments_lexer": "ipython3",
      "version": "3.13.3"
    }
  },
  "nbformat": 4,
  "nbformat_minor": 0
}
