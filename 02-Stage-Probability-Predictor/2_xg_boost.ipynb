{
  "cells": [
    {
      "cell_type": "markdown",
      "metadata": {
        "colab_type": "text",
        "id": "37puETfgRzzg"
      },
      "source": [
        "# XG Boost Regressor"
      ]
    },
    {
      "cell_type": "markdown",
      "metadata": {
        "colab_type": "text",
        "id": "EoRP98MpR-qj"
      },
      "source": [
        "## Importing the libraries"
      ]
    },
    {
      "cell_type": "code",
      "execution_count": 184,
      "metadata": {
        "colab": {},
        "colab_type": "code",
        "id": "N-qiINBQSK2g"
      },
      "outputs": [],
      "source": [
        "import os\n",
        "import numpy as np\n",
        "import matplotlib.pyplot as plt\n",
        "import pandas as pd\n"
      ]
    },
    {
      "cell_type": "markdown",
      "metadata": {
        "colab_type": "text",
        "id": "RopL7tUZSQkT"
      },
      "source": [
        "## Importing the dataset"
      ]
    },
    {
      "cell_type": "code",
      "execution_count": 185,
      "metadata": {},
      "outputs": [],
      "source": [
        "# pyspark_df = spark.table(\"sd_bdc_demo.xgboost_regression.1_salesforce_updated_data\")\n",
        "# pyspark_df.display()\n",
        "# df = pyspark_df.toPandas()"
      ]
    },
    {
      "cell_type": "code",
      "execution_count": 186,
      "metadata": {},
      "outputs": [],
      "source": [
        "# Load csv file\n",
        "df = pd.read_csv(\"1_salesforce_updated_data/1_salesforce_updated_data.csv\")"
      ]
    },
    {
      "cell_type": "code",
      "execution_count": 187,
      "metadata": {},
      "outputs": [
        {
          "name": "stdout",
          "output_type": "stream",
          "text": [
            "    Sales_Order                 Stage  Amount  Probability    Sales_Person  \\\n",
            "0          5708           Closed Lost  255000            0  Alex Rodriguez   \n",
            "1          5709       Decision Makers  315000           70   Sarah Johnson   \n",
            "2          5710  Proposal/Price Quote  275000           65   Michael Chang   \n",
            "3          5711            Closed Won  135000          100     Emma Wilson   \n",
            "4          5712    Negotiation/Review  325000           85  David Martinez   \n",
            "..          ...                   ...     ...          ...             ...   \n",
            "91         5799   Perception Analysis  475000           25  Alex Rodriguez   \n",
            "92         5800     Value Proposition  115000           40   Sarah Johnson   \n",
            "93         5801         Qualification   95000           20   Michael Chang   \n",
            "94         5802            Closed Won   68000          100     Emma Wilson   \n",
            "95         5803        Needs Analysis  185000           35  David Martinez   \n",
            "\n",
            "      Company_Industry              Contact_Title          Type  \\\n",
            "0           Healthcare           Medical Director  New Business   \n",
            "1           Government                IT Director  New Business   \n",
            "2   Financial Services  Client Relations Director  New Business   \n",
            "3               Retail         Marketing Director  New Business   \n",
            "4        Manufacturing            Quality Manager  New Business   \n",
            "..                 ...                        ...           ...   \n",
            "91          Healthcare      Network Administrator       Upgrade   \n",
            "92           Marketing           Account Director  New Business   \n",
            "93     Food & Beverage        Operations Director       Upgrade   \n",
            "94          Non-profit       Exhibitions Director  New Business   \n",
            "95         Agriculture         Executive Director  New Business   \n",
            "\n",
            "              Lead_Source State  days_to_close  \n",
            "0   Healthcare Conference    WA             45  \n",
            "1                     RFP    MT             97  \n",
            "2          Industry Event    UT            117  \n",
            "3              Trade Show    OH             36  \n",
            "4        Partner Referral    NV             92  \n",
            "..                    ...   ...            ...  \n",
            "91         Industry Event    OR            148  \n",
            "92                Webinar    SC            102  \n",
            "93              Cold Call    CT            116  \n",
            "94             Conference    NY             56  \n",
            "95             Trade Show    WA            112  \n",
            "\n",
            "[96 rows x 11 columns]\n"
          ]
        }
      ],
      "source": [
        "print(df)"
      ]
    },
    {
      "cell_type": "code",
      "execution_count": 188,
      "metadata": {},
      "outputs": [
        {
          "name": "stdout",
          "output_type": "stream",
          "text": [
            "(96, 11)\n"
          ]
        }
      ],
      "source": [
        "print(df.shape)"
      ]
    },
    {
      "cell_type": "code",
      "execution_count": 189,
      "metadata": {},
      "outputs": [
        {
          "name": "stdout",
          "output_type": "stream",
          "text": [
            "Index(['Sales_Order', 'Stage', 'Amount', 'Probability', 'Sales_Person',\n",
            "       'Company_Industry', 'Contact_Title', 'Type', 'Lead_Source', 'State',\n",
            "       'days_to_close'],\n",
            "      dtype='object')\n"
          ]
        }
      ],
      "source": [
        "print(df.columns)"
      ]
    },
    {
      "cell_type": "code",
      "execution_count": 190,
      "metadata": {},
      "outputs": [
        {
          "name": "stdout",
          "output_type": "stream",
          "text": [
            "<class 'pandas.core.frame.DataFrame'>\n",
            "RangeIndex: 96 entries, 0 to 95\n",
            "Data columns (total 11 columns):\n",
            " #   Column            Non-Null Count  Dtype \n",
            "---  ------            --------------  ----- \n",
            " 0   Sales_Order       96 non-null     int64 \n",
            " 1   Stage             96 non-null     object\n",
            " 2   Amount            96 non-null     int64 \n",
            " 3   Probability       96 non-null     int64 \n",
            " 4   Sales_Person      96 non-null     object\n",
            " 5   Company_Industry  96 non-null     object\n",
            " 6   Contact_Title     96 non-null     object\n",
            " 7   Type              96 non-null     object\n",
            " 8   Lead_Source       96 non-null     object\n",
            " 9   State             96 non-null     object\n",
            " 10  days_to_close     96 non-null     int64 \n",
            "dtypes: int64(4), object(7)\n",
            "memory usage: 8.4+ KB\n",
            "None\n"
          ]
        }
      ],
      "source": [
        "print(df.info())"
      ]
    },
    {
      "cell_type": "markdown",
      "metadata": {},
      "source": [
        "## Encoding categorical data"
      ]
    },
    {
      "cell_type": "markdown",
      "metadata": {},
      "source": [
        "### Encoding the Independent Variable"
      ]
    },
    {
      "cell_type": "code",
      "execution_count": 191,
      "metadata": {},
      "outputs": [],
      "source": [
        "from sklearn.preprocessing import LabelEncoder\n",
        "\n",
        "df_encoded = df.copy()\n",
        "categorical_cols = [\n",
        "    'Sales_Person',\n",
        "    'Company_Industry',\n",
        "    'Contact_Title',\n",
        "    'Type',\n",
        "    'Lead_Source',\n",
        "    'State'\n",
        "]\n",
        "\n",
        "# Save encoder for later use\n",
        "label_encoders = {}\n",
        "\n",
        "for col in categorical_cols:\n",
        "    le = LabelEncoder()\n",
        "    df_encoded[col] = le.fit_transform(df_encoded[col])\n",
        "    label_encoders[col] = le  \n"
      ]
    },
    {
      "cell_type": "code",
      "execution_count": 192,
      "metadata": {},
      "outputs": [
        {
          "name": "stdout",
          "output_type": "stream",
          "text": [
            "   Sales_Order                 Stage  Amount  Probability  Sales_Person  \\\n",
            "0         5708           Closed Lost  255000            0             0   \n",
            "1         5709       Decision Makers  315000           70             4   \n",
            "2         5710  Proposal/Price Quote  275000           65             3   \n",
            "3         5711            Closed Won  135000          100             2   \n",
            "4         5712    Negotiation/Review  325000           85             1   \n",
            "\n",
            "   Company_Industry  Contact_Title  Type  Lead_Source  State  days_to_close  \n",
            "0                12             29     0            5     42             45  \n",
            "1                11             20     0           14     23             97  \n",
            "2                 8              8     0            6     39            117  \n",
            "3                19             28     0           16     31             36  \n",
            "4                15             41     0           10     29             92  \n"
          ]
        }
      ],
      "source": [
        "print(df_encoded.head())"
      ]
    },
    {
      "cell_type": "code",
      "execution_count": 193,
      "metadata": {},
      "outputs": [
        {
          "name": "stdout",
          "output_type": "stream",
          "text": [
            "(96, 11)\n"
          ]
        }
      ],
      "source": [
        "print(df_encoded.shape)"
      ]
    },
    {
      "cell_type": "code",
      "execution_count": 194,
      "metadata": {},
      "outputs": [
        {
          "name": "stdout",
          "output_type": "stream",
          "text": [
            "Index(['Sales_Order', 'Stage', 'Amount', 'Probability', 'Sales_Person',\n",
            "       'Company_Industry', 'Contact_Title', 'Type', 'Lead_Source', 'State',\n",
            "       'days_to_close'],\n",
            "      dtype='object')\n"
          ]
        }
      ],
      "source": [
        "print(df_encoded.columns)"
      ]
    },
    {
      "cell_type": "markdown",
      "metadata": {},
      "source": [
        "## Split two Data Frame for Independent Features & Dependent Columns"
      ]
    },
    {
      "cell_type": "code",
      "execution_count": 195,
      "metadata": {},
      "outputs": [],
      "source": [
        "df_independent = df_encoded.drop(columns=['Probability'])\n",
        "X = df_independent\n",
        "df_dependent = df_encoded[['Probability']]\n",
        "y = df_dependent"
      ]
    },
    {
      "cell_type": "code",
      "execution_count": 196,
      "metadata": {},
      "outputs": [
        {
          "name": "stdout",
          "output_type": "stream",
          "text": [
            "   Sales_Order                 Stage  Amount  Sales_Person  Company_Industry  \\\n",
            "0         5708           Closed Lost  255000             0                12   \n",
            "1         5709       Decision Makers  315000             4                11   \n",
            "2         5710  Proposal/Price Quote  275000             3                 8   \n",
            "3         5711            Closed Won  135000             2                19   \n",
            "4         5712    Negotiation/Review  325000             1                15   \n",
            "\n",
            "   Contact_Title  Type  Lead_Source  State  days_to_close  \n",
            "0             29     0            5     42             45  \n",
            "1             20     0           14     23             97  \n",
            "2              8     0            6     39            117  \n",
            "3             28     0           16     31             36  \n",
            "4             41     0           10     29             92  \n"
          ]
        }
      ],
      "source": [
        "print(df_independent.head())"
      ]
    },
    {
      "cell_type": "code",
      "execution_count": 197,
      "metadata": {},
      "outputs": [
        {
          "name": "stdout",
          "output_type": "stream",
          "text": [
            "(96, 10)\n"
          ]
        }
      ],
      "source": [
        "print(df_independent.shape)"
      ]
    },
    {
      "cell_type": "code",
      "execution_count": 198,
      "metadata": {},
      "outputs": [
        {
          "name": "stdout",
          "output_type": "stream",
          "text": [
            "   Probability\n",
            "0            0\n",
            "1           70\n",
            "2           65\n",
            "3          100\n",
            "4           85\n"
          ]
        }
      ],
      "source": [
        "print(df_dependent.head())"
      ]
    },
    {
      "cell_type": "code",
      "execution_count": 199,
      "metadata": {},
      "outputs": [
        {
          "name": "stdout",
          "output_type": "stream",
          "text": [
            "(96, 1)\n"
          ]
        }
      ],
      "source": [
        "print(df_dependent.shape)"
      ]
    },
    {
      "cell_type": "markdown",
      "metadata": {},
      "source": [
        "## Splitting the dataset into the Training set and Test set (`Closed Won` & `Closed Lost` = `train`)"
      ]
    },
    {
      "cell_type": "code",
      "execution_count": 200,
      "metadata": {},
      "outputs": [],
      "source": [
        "# Define which rows go into train and test based on 'Stage'\n",
        "is_train = df_encoded['Stage'].isin(['Closed Won', 'Closed Lost'])\n",
        "\n",
        "# Split X\n",
        "X_train = X[is_train] \n",
        "X_test = X[~is_train]\n",
        "\n",
        "# Split y\n",
        "y_train = y[is_train]\n",
        "y_test = y[~is_train]  \n"
      ]
    },
    {
      "cell_type": "code",
      "execution_count": 201,
      "metadata": {},
      "outputs": [
        {
          "name": "stdout",
          "output_type": "stream",
          "text": [
            "    Sales_Order        Stage  Amount  Sales_Person  Company_Industry  \\\n",
            "0          5708  Closed Lost  255000             0                12   \n",
            "3          5711   Closed Won  135000             2                19   \n",
            "8          5716   Closed Won  235000             2                12   \n",
            "12         5720   Closed Won  225000             2                 8   \n",
            "17         5725   Closed Won  175000             2                12   \n",
            "21         5729   Closed Won   85000             2                 4   \n",
            "26         5734   Closed Won  195000             2                 8   \n",
            "30         5738   Closed Won  145000             2                 1   \n",
            "35         5743   Closed Won  265000             2                12   \n",
            "39         5747   Closed Won  115000             2                 8   \n",
            "44         5752   Closed Won  295000             2                23   \n",
            "46         5754  Closed Lost  145000             0                13   \n",
            "49         5757   Closed Won   72000             2                19   \n",
            "54         5762   Closed Won  135000             2                12   \n",
            "56         5764  Closed Lost   95000             0                 8   \n",
            "59         5767   Closed Won  115000             2                13   \n",
            "64         5772   Closed Won  295000             2                11   \n",
            "67         5775   Closed Won   85000             4                15   \n",
            "71         5779  Closed Lost   95000             0                22   \n",
            "72         5780   Closed Won   42000             4                 6   \n",
            "79         5787   Closed Won   88000             2                11   \n",
            "84         5792   Closed Won   65000             2                19   \n",
            "86         5794  Closed Lost   78000             0                17   \n",
            "89         5797   Closed Won   92000             2                12   \n",
            "94         5802   Closed Won   68000             2                18   \n",
            "\n",
            "    Contact_Title  Type  Lead_Source  State  days_to_close  \n",
            "0              29     0            5     42             45  \n",
            "3              28     0           16     31             36  \n",
            "8               4     2            5     38             36  \n",
            "12             11     2            4     24             38  \n",
            "17             48     2            5     21             40  \n",
            "21             12     0           10     26             51  \n",
            "26             49     2            4     42             36  \n",
            "30             17     0            6     22             35  \n",
            "35             31     2            4     26             56  \n",
            "39             49     2            4     19             50  \n",
            "44             32     0           14      9             76  \n",
            "46             17     0            0     11             61  \n",
            "49             12     0            6     35             34  \n",
            "54             20     0           18     35             70  \n",
            "56             44     2            4     41             44  \n",
            "59             17     0           15     10             35  \n",
            "64             19     0           14     32             71  \n",
            "67              3     1            4      0             34  \n",
            "71             38     0            1      4             80  \n",
            "72             22     0            3     18             28  \n",
            "79             57     0           14     43             66  \n",
            "84             47     0           19     37             33  \n",
            "86             37     0            9     31             78  \n",
            "89             14     0           15     44             35  \n",
            "94             13     0            1     30             56  \n"
          ]
        }
      ],
      "source": [
        "print(X_train)"
      ]
    },
    {
      "cell_type": "code",
      "execution_count": 202,
      "metadata": {},
      "outputs": [
        {
          "name": "stdout",
          "output_type": "stream",
          "text": [
            "    Probability\n",
            "0             0\n",
            "3           100\n",
            "8           100\n",
            "12          100\n",
            "17          100\n",
            "21          100\n",
            "26          100\n",
            "30          100\n",
            "35          100\n",
            "39          100\n",
            "44          100\n",
            "46            0\n",
            "49          100\n",
            "54          100\n",
            "56            0\n",
            "59          100\n",
            "64          100\n",
            "67          100\n",
            "71            0\n",
            "72          100\n",
            "79          100\n",
            "84          100\n",
            "86            0\n",
            "89          100\n",
            "94          100\n"
          ]
        }
      ],
      "source": [
        "print(y_train)"
      ]
    },
    {
      "cell_type": "markdown",
      "metadata": {},
      "source": [
        "### Splitting part of test data to train data"
      ]
    },
    {
      "cell_type": "code",
      "execution_count": 203,
      "metadata": {},
      "outputs": [],
      "source": [
        "from sklearn.model_selection import train_test_split\n",
        "X_train_ren, X_test_ren, y_train_ren, y_test_ren = train_test_split(X_test, y_test, test_size = 0.2, random_state = 1)"
      ]
    },
    {
      "cell_type": "code",
      "execution_count": 204,
      "metadata": {},
      "outputs": [],
      "source": [
        "X_train = pd.concat([X_train, X_train_ren])\n",
        "y_train = pd.concat([y_train, y_train_ren])\n",
        "\n",
        "X_test = X_test_ren\n",
        "y_test = y_test_ren"
      ]
    },
    {
      "cell_type": "code",
      "execution_count": 205,
      "metadata": {},
      "outputs": [
        {
          "name": "stdout",
          "output_type": "stream",
          "text": [
            "    Sales_Order        Stage  Amount  Sales_Person  Company_Industry  \\\n",
            "0          5708  Closed Lost  255000             0                12   \n",
            "3          5711   Closed Won  135000             2                19   \n",
            "8          5716   Closed Won  235000             2                12   \n",
            "12         5720   Closed Won  225000             2                 8   \n",
            "17         5725   Closed Won  175000             2                12   \n",
            "\n",
            "    Contact_Title  Type  Lead_Source  State  days_to_close  \n",
            "0              29     0            5     42             45  \n",
            "3              28     0           16     31             36  \n",
            "8               4     2            5     38             36  \n",
            "12             11     2            4     24             38  \n",
            "17             48     2            5     21             40  \n"
          ]
        }
      ],
      "source": [
        "print(X_train.head())"
      ]
    },
    {
      "cell_type": "code",
      "execution_count": 206,
      "metadata": {},
      "outputs": [
        {
          "name": "stdout",
          "output_type": "stream",
          "text": [
            "(81, 10)\n"
          ]
        }
      ],
      "source": [
        "print(X_train.shape)"
      ]
    },
    {
      "cell_type": "code",
      "execution_count": 207,
      "metadata": {},
      "outputs": [
        {
          "name": "stdout",
          "output_type": "stream",
          "text": [
            "    Sales_Order                 Stage  Amount  Sales_Person  Company_Industry  \\\n",
            "88         5796  Proposal/Price Quote  235000             3                22   \n",
            "34         5742         Qualification  225000             3                22   \n",
            "91         5799   Perception Analysis  475000             0                12   \n",
            "74         5782        Needs Analysis  230000             2                 9   \n",
            "36         5744        Needs Analysis  385000             1                15   \n",
            "\n",
            "    Contact_Title  Type  Lead_Source  State  days_to_close  \n",
            "88             33     0           18      8             96  \n",
            "34             16     0            6     25            143  \n",
            "91             30     2            6     33            148  \n",
            "74             50     0            6     37             96  \n",
            "36             32     0           11     42            141  \n"
          ]
        }
      ],
      "source": [
        "print(X_test.head())"
      ]
    },
    {
      "cell_type": "code",
      "execution_count": 208,
      "metadata": {},
      "outputs": [
        {
          "name": "stdout",
          "output_type": "stream",
          "text": [
            "(15, 10)\n"
          ]
        }
      ],
      "source": [
        "print(X_test.shape)"
      ]
    },
    {
      "cell_type": "code",
      "execution_count": 209,
      "metadata": {},
      "outputs": [
        {
          "name": "stdout",
          "output_type": "stream",
          "text": [
            "    Probability\n",
            "0             0\n",
            "3           100\n",
            "8           100\n",
            "12          100\n",
            "17          100\n"
          ]
        }
      ],
      "source": [
        "print(y_train.head())"
      ]
    },
    {
      "cell_type": "code",
      "execution_count": 210,
      "metadata": {},
      "outputs": [
        {
          "name": "stdout",
          "output_type": "stream",
          "text": [
            "(81, 1)\n"
          ]
        }
      ],
      "source": [
        "print(y_train.shape)"
      ]
    },
    {
      "cell_type": "code",
      "execution_count": 211,
      "metadata": {},
      "outputs": [
        {
          "name": "stdout",
          "output_type": "stream",
          "text": [
            "    Probability\n",
            "88           60\n",
            "34           30\n",
            "91           25\n",
            "74           25\n",
            "36           35\n"
          ]
        }
      ],
      "source": [
        "print(y_test.head())"
      ]
    },
    {
      "cell_type": "code",
      "execution_count": 212,
      "metadata": {},
      "outputs": [
        {
          "name": "stdout",
          "output_type": "stream",
          "text": [
            "(15, 1)\n"
          ]
        }
      ],
      "source": [
        "print(y_test.shape)"
      ]
    },
    {
      "cell_type": "markdown",
      "metadata": {},
      "source": [
        "## Feature Scaling\n",
        "- As this is a tree based model, no need to do feature scaling"
      ]
    },
    {
      "cell_type": "markdown",
      "metadata": {},
      "source": [
        "## Removing `Sales_Order` & `Stage` in `X_train` & `X_test`"
      ]
    },
    {
      "cell_type": "code",
      "execution_count": 213,
      "metadata": {},
      "outputs": [],
      "source": [
        "X_train_new = X_train.drop(columns=['Sales_Order', 'Stage', 'Sales_Person'])\n"
      ]
    },
    {
      "cell_type": "code",
      "execution_count": 214,
      "metadata": {},
      "outputs": [
        {
          "name": "stdout",
          "output_type": "stream",
          "text": [
            "    Amount  Company_Industry  Contact_Title  Type  Lead_Source  State  \\\n",
            "0   255000                12             29     0            5     42   \n",
            "3   135000                19             28     0           16     31   \n",
            "8   235000                12              4     2            5     38   \n",
            "12  225000                 8             11     2            4     24   \n",
            "17  175000                12             48     2            5     21   \n",
            "\n",
            "    days_to_close  \n",
            "0              45  \n",
            "3              36  \n",
            "8              36  \n",
            "12             38  \n",
            "17             40  \n"
          ]
        }
      ],
      "source": [
        "print(X_train_new.head())"
      ]
    },
    {
      "cell_type": "code",
      "execution_count": 215,
      "metadata": {},
      "outputs": [
        {
          "name": "stdout",
          "output_type": "stream",
          "text": [
            "(81, 7)\n"
          ]
        }
      ],
      "source": [
        "print(X_train_new.shape)"
      ]
    },
    {
      "cell_type": "code",
      "execution_count": 216,
      "metadata": {},
      "outputs": [],
      "source": [
        "X_test_new = X_test.drop(columns=['Sales_Order', 'Stage', 'Sales_Person'])\n"
      ]
    },
    {
      "cell_type": "code",
      "execution_count": 217,
      "metadata": {},
      "outputs": [
        {
          "name": "stdout",
          "output_type": "stream",
          "text": [
            "    Amount  Company_Industry  Contact_Title  Type  Lead_Source  State  \\\n",
            "88  235000                22             33     0           18      8   \n",
            "34  225000                22             16     0            6     25   \n",
            "91  475000                12             30     2            6     33   \n",
            "74  230000                 9             50     0            6     37   \n",
            "36  385000                15             32     0           11     42   \n",
            "\n",
            "    days_to_close  \n",
            "88             96  \n",
            "34            143  \n",
            "91            148  \n",
            "74             96  \n",
            "36            141  \n"
          ]
        }
      ],
      "source": [
        "print(X_test_new.head())"
      ]
    },
    {
      "cell_type": "code",
      "execution_count": 218,
      "metadata": {},
      "outputs": [
        {
          "name": "stdout",
          "output_type": "stream",
          "text": [
            "(15, 7)\n"
          ]
        }
      ],
      "source": [
        "print(X_test_new.shape)"
      ]
    },
    {
      "cell_type": "markdown",
      "metadata": {},
      "source": [
        "## Training the Model"
      ]
    },
    {
      "cell_type": "code",
      "execution_count": 219,
      "metadata": {},
      "outputs": [],
      "source": [
        "from xgboost import XGBRegressor\n",
        "\n",
        "# Initialize the model\n",
        "xgb_model = XGBRegressor(\n",
        "    n_estimators=100,\n",
        "    max_depth=4,\n",
        "    learning_rate=0.1,\n",
        "    random_state=42\n",
        ")\n"
      ]
    },
    {
      "cell_type": "markdown",
      "metadata": {},
      "source": [
        "### RFE"
      ]
    },
    {
      "cell_type": "code",
      "execution_count": 220,
      "metadata": {},
      "outputs": [
        {
          "name": "stdout",
          "output_type": "stream",
          "text": [
            "Index(['Amount', 'Company_Industry', 'Contact_Title', 'Lead_Source',\n",
            "       'days_to_close'],\n",
            "      dtype='object')\n"
          ]
        }
      ],
      "source": [
        "from sklearn.feature_selection import RFE\n",
        "\n",
        "rfe = RFE(estimator=xgb_model, n_features_to_select=5)\n",
        "rfe.fit(X_train_new, y_train)\n",
        "\n",
        "# selected features after RFE\n",
        "selected_features = X_train_new.columns[rfe.support_]\n",
        "print(selected_features)"
      ]
    },
    {
      "cell_type": "code",
      "execution_count": 221,
      "metadata": {},
      "outputs": [],
      "source": [
        "# take only selected columns for both X_train_new & X_test_new\n",
        "X_train_new = X_train_new[selected_features]\n",
        "X_test_new = X_test_new[selected_features]\n",
        "xgb_model_train = xgb_model.fit(X_train_new, y_train.values.ravel())\n"
      ]
    },
    {
      "cell_type": "markdown",
      "metadata": {},
      "source": [
        "## Prediction"
      ]
    },
    {
      "cell_type": "code",
      "execution_count": 222,
      "metadata": {},
      "outputs": [],
      "source": [
        "y_pred = xgb_model.predict(X_test_new)"
      ]
    },
    {
      "cell_type": "code",
      "execution_count": 223,
      "metadata": {},
      "outputs": [
        {
          "name": "stdout",
          "output_type": "stream",
          "text": [
            "[ 67.602455  28.890049  31.02347   42.010723  29.999008  42.70197\n",
            " 100.48749   37.7768    39.642178  45.039772  77.03781   40.76364\n",
            "  72.63594   43.4521    39.502483]\n"
          ]
        }
      ],
      "source": [
        "print(y_pred)"
      ]
    },
    {
      "cell_type": "markdown",
      "metadata": {},
      "source": [
        "### Saving the output as new table"
      ]
    },
    {
      "cell_type": "code",
      "execution_count": 224,
      "metadata": {},
      "outputs": [],
      "source": [
        "sales_order = X_test['Sales_Order'].values\n",
        "stage = X_test['Stage'].values"
      ]
    },
    {
      "cell_type": "code",
      "execution_count": 225,
      "metadata": {},
      "outputs": [
        {
          "name": "stdout",
          "output_type": "stream",
          "text": [
            "sales_order shape: (15,)\n",
            "stage shape: (15,)\n",
            "y_test shape: (15, 1)\n",
            "y_pred shape: (15,)\n"
          ]
        }
      ],
      "source": [
        "print(\"sales_order shape:\", sales_order.shape)\n",
        "print(\"stage shape:\", stage.shape)\n",
        "print(\"y_test shape:\", y_test.shape)\n",
        "print(\"y_pred shape:\", y_pred.shape)\n"
      ]
    },
    {
      "cell_type": "code",
      "execution_count": 226,
      "metadata": {},
      "outputs": [
        {
          "name": "stdout",
          "output_type": "stream",
          "text": [
            "    Probability\n",
            "88           60\n",
            "34           30\n",
            "91           25\n",
            "74           25\n",
            "36           35\n",
            "82           35\n",
            "66           30\n",
            "48           60\n",
            "65           30\n",
            "41           15\n",
            "4            85\n",
            "52           40\n",
            "73           40\n",
            "47           75\n",
            "58           65\n"
          ]
        }
      ],
      "source": [
        "print(y_test)"
      ]
    },
    {
      "cell_type": "code",
      "execution_count": 227,
      "metadata": {},
      "outputs": [],
      "source": [
        "# Flatten y_test to 1D\n",
        "y_test = y_test.values.ravel()"
      ]
    },
    {
      "cell_type": "code",
      "execution_count": 228,
      "metadata": {},
      "outputs": [
        {
          "name": "stdout",
          "output_type": "stream",
          "text": [
            "sales_order shape: (15,)\n",
            "stage shape: (15,)\n",
            "y_test shape: (15,)\n",
            "y_pred shape: (15,)\n"
          ]
        }
      ],
      "source": [
        "print(\"sales_order shape:\", sales_order.shape)\n",
        "print(\"stage shape:\", stage.shape)\n",
        "print(\"y_test shape:\", y_test.shape)\n",
        "print(\"y_pred shape:\", y_pred.shape)\n"
      ]
    },
    {
      "cell_type": "code",
      "execution_count": 229,
      "metadata": {},
      "outputs": [
        {
          "name": "stdout",
          "output_type": "stream",
          "text": [
            "[60 30 25 25 35 35 30 60 30 15 85 40 40 75 65]\n"
          ]
        }
      ],
      "source": [
        "print(y_test)"
      ]
    },
    {
      "cell_type": "code",
      "execution_count": 230,
      "metadata": {},
      "outputs": [
        {
          "name": "stdout",
          "output_type": "stream",
          "text": [
            "[ 67.602455  28.890049  31.02347   42.010723  29.999008  42.70197\n",
            " 100.48749   37.7768    39.642178  45.039772  77.03781   40.76364\n",
            "  72.63594   43.4521    39.502483]\n"
          ]
        }
      ],
      "source": [
        "print(y_pred)"
      ]
    },
    {
      "cell_type": "code",
      "execution_count": 231,
      "metadata": {},
      "outputs": [],
      "source": [
        "results_df = pd.DataFrame({\n",
        "    'sales_order': sales_order,\n",
        "    'stage': stage,\n",
        "    'Actual': y_test,\n",
        "    'Predicted': y_pred\n",
        "})\n"
      ]
    },
    {
      "cell_type": "code",
      "execution_count": 232,
      "metadata": {},
      "outputs": [],
      "source": [
        "# Create the folder if it doesn't exist\n",
        "os.makedirs(\"2_1_salesforce_xgboost_prediction_data\", exist_ok=True)\n",
        "\n",
        "# Save the Excel file inside the folder\n",
        "results_df.to_csv(\"2_1_salesforce_xgboost_prediction_data/2_1_salesforce_xgboost_prediction_data.csv\", index=False)\n"
      ]
    },
    {
      "cell_type": "code",
      "execution_count": 233,
      "metadata": {},
      "outputs": [],
      "source": [
        "# spark_df = spark.createDataFrame(results_df)\n",
        "# spark_df.write.mode(\"overwrite\").saveAsTable(\"sd_bdc_demo.xgboost_regression.2_1_salesforce_xgboost_prediction_data\")"
      ]
    },
    {
      "cell_type": "markdown",
      "metadata": {},
      "source": [
        "## Accuracy"
      ]
    },
    {
      "cell_type": "code",
      "execution_count": 234,
      "metadata": {},
      "outputs": [
        {
          "name": "stdout",
          "output_type": "stream",
          "text": [
            "r2:\n",
            " -0.6350334882736206\n",
            "MAE:\n",
            " 18.349958419799805\n",
            "RMSE:\n",
            " 25.431213951882167\n",
            "MAPE:\n",
            " 0.5489075183868408\n"
          ]
        }
      ],
      "source": [
        "from sklearn.metrics import r2_score, mean_absolute_error, mean_squared_error, mean_absolute_percentage_error\n",
        "\n",
        "print(\"r2:\\n\", r2_score(y_test, y_pred))\n",
        "print(\"MAE:\\n\", mean_absolute_error(y_test, y_pred))\n",
        "print(\"RMSE:\\n\", np.sqrt(mean_squared_error(y_test, y_pred)))\n",
        "print(\"MAPE:\\n\", mean_absolute_percentage_error(y_test, y_pred))"
      ]
    },
    {
      "cell_type": "code",
      "execution_count": 235,
      "metadata": {},
      "outputs": [
        {
          "name": "stdout",
          "output_type": "stream",
          "text": [
            "MAPE: 54.89%\n",
            "Accuracy: 45.11%\n"
          ]
        }
      ],
      "source": [
        "mape = mean_absolute_percentage_error(y_test, y_pred) * 100\n",
        "\n",
        "accuracy = 100 - mape\n",
        "\n",
        "print(f\"MAPE: {mape:.2f}%\")\n",
        "print(f\"Accuracy: {accuracy:.2f}%\")\n"
      ]
    },
    {
      "cell_type": "markdown",
      "metadata": {},
      "source": [
        "## Applying k-Fold Cross Validation"
      ]
    },
    {
      "cell_type": "markdown",
      "metadata": {},
      "source": [
        "### Shuffled"
      ]
    },
    {
      "cell_type": "code",
      "execution_count": 236,
      "metadata": {},
      "outputs": [],
      "source": [
        "from sklearn.model_selection import cross_val_score, KFold\n",
        "num_folds = 5\n",
        "kf = KFold(n_splits=num_folds, shuffle=True, random_state=42)\n",
        "cross_val_results = cross_val_score(xgb_model, X=X_train_new, y=y_train, cv=kf)"
      ]
    },
    {
      "cell_type": "code",
      "execution_count": 237,
      "metadata": {},
      "outputs": [
        {
          "name": "stdout",
          "output_type": "stream",
          "text": [
            "Cross-Validation Results (Accuracy):\n",
            "  Fold 1: -37.67%\n",
            "  Fold 2: 22.59%\n",
            "  Fold 3: 87.54%\n",
            "  Fold 4: 0.26%\n",
            "  Fold 5: 47.60%\n",
            "Kfold Mean ccuracy: 24.06 %\n",
            "Standard Deviation: 42.34 %\n"
          ]
        }
      ],
      "source": [
        "print(\"Cross-Validation Results (Accuracy):\")\n",
        "for i, result in enumerate(cross_val_results, 1):\n",
        "    print(f\"  Fold {i}: {result * 100:.2f}%\")\n",
        "\n",
        "print(\"Kfold Mean ccuracy: {:.2f} %\".format(cross_val_results.mean()*100))\n",
        "print(\"Standard Deviation: {:.2f} %\".format(cross_val_results.std()*100))"
      ]
    },
    {
      "cell_type": "markdown",
      "metadata": {},
      "source": [
        "### Unshuffled"
      ]
    },
    {
      "cell_type": "code",
      "execution_count": 238,
      "metadata": {},
      "outputs": [
        {
          "name": "stdout",
          "output_type": "stream",
          "text": [
            "Kfold Accuracy: 38.49 %\n",
            "Standard Deviation: 21.87 %\n"
          ]
        }
      ],
      "source": [
        "\n",
        "accuracies = cross_val_score(estimator = xgb_model, X = X_train_new, y = y_train, cv = 5)\n",
        "print(\"Kfold Accuracy: {:.2f} %\".format(accuracies.mean()*100))\n",
        "print(\"Standard Deviation: {:.2f} %\".format(accuracies.std()*100))"
      ]
    },
    {
      "cell_type": "markdown",
      "metadata": {},
      "source": [
        "## Feature Importance with `shap`"
      ]
    },
    {
      "cell_type": "code",
      "execution_count": 239,
      "metadata": {},
      "outputs": [
        {
          "name": "stdout",
          "output_type": "stream",
          "text": [
            "[0.12673697 0.0962503  0.05742469 0.13845244 0.5811356 ]\n"
          ]
        }
      ],
      "source": [
        "print(xgb_model_train.feature_importances_)\n"
      ]
    },
    {
      "cell_type": "code",
      "execution_count": 240,
      "metadata": {},
      "outputs": [
        {
          "name": "stdout",
          "output_type": "stream",
          "text": [
            "<class 'shap._explanation.Explanation'>\n"
          ]
        },
        {
          "data": {
            "image/png": "[encoded data removed]",
            "text/plain": [
              "<Figure size 800x400 with 3 Axes>"
            ]
          },
          "metadata": {},
          "output_type": "display_data"
        }
      ],
      "source": [
        "import shap \n",
        "\n",
        "explainer = shap.Explainer(xgb_model_train)\n",
        "shap_values = explainer(X_train_new)\n",
        "print(type(shap_values))\n",
        "shap.plots.waterfall(shap_values[0])"
      ]
    },
    {
      "cell_type": "code",
      "execution_count": 241,
      "metadata": {},
      "outputs": [
        {
          "name": "stdout",
          "output_type": "stream",
          "text": [
            ".values =\n",
            "array([[-2.86502409e+00, -8.28827918e-01, -3.58216834e+00,\n",
            "        -2.60949492e-01, -4.56736183e+01],\n",
            "       [-3.57645661e-01, -4.15231436e-01, -1.12947214e+00,\n",
            "         5.58946943e+00,  3.66021919e+01],\n",
            "       [ 3.08812469e-01,  3.13430429e-02,  1.40755403e+00,\n",
            "         1.67051160e+00,  3.61276360e+01],\n",
            "       [-1.89877141e+00,  1.69734299e+00,  4.00063086e+00,\n",
            "         2.42669463e+00,  3.50495110e+01],\n",
            "       [-7.85735548e-01,  3.62252351e-03,  2.10235667e+00,\n",
            "         9.79984224e-01,  3.76967468e+01],\n",
            "       [ 3.43917608e-01,  5.78885794e+00,  6.08719587e+00,\n",
            "         9.53265905e-01,  2.57309914e+01],\n",
            "       [-1.50367093e+00,  1.56779814e+00,  2.35169268e+00,\n",
            "         1.10425711e+00,  3.67114258e+01],\n",
            "       [ 1.16249645e+00,  3.03190351e-02,  5.80147803e-01,\n",
            "         5.72175741e-01,  3.80995712e+01],\n",
            "       [ 6.05844498e+00,  1.60587931e+00, -3.32335919e-01,\n",
            "         3.40859556e+00,  2.71884689e+01],\n",
            "       [-3.60511124e-01,  3.38593793e+00,  3.53281140e+00,\n",
            "         3.29635501e+00,  2.87511063e+01],\n",
            "       [ 7.33161831e+00, -1.07995069e+00,  2.08939648e+00,\n",
            "         6.26881695e+00,  2.45921974e+01],\n",
            "       [-7.52377510e+00, -4.67639065e+00, -4.81699497e-01,\n",
            "        -3.58745651e+01, -8.81639099e+00],\n",
            "       [-4.44341135e+00, -2.05036521e+00,  5.20996666e+00,\n",
            "         1.01415920e+00,  4.21016121e+01],\n",
            "       [-1.06804729e+00,  1.79499102e+00,  1.53962159e+00,\n",
            "         8.54959488e+00,  2.45907345e+01],\n",
            "       [-7.62817717e+00,  6.86243474e-01, -6.06452370e+00,\n",
            "        -7.14194596e-01, -4.35711327e+01],\n",
            "       [-3.87078494e-01, -1.77792323e+00,  7.69592047e-01,\n",
            "         5.18165493e+00,  3.70107498e+01],\n",
            "       [ 5.45065165e+00,  2.01811099e+00,  6.34267211e-01,\n",
            "         6.08980560e+00,  2.67778053e+01],\n",
            "       [-1.62173820e+00, -1.17748213e+00,  2.57633853e+00,\n",
            "         1.55269396e+00,  4.02129211e+01],\n",
            "       [-1.48667879e+01, -4.04887915e+00, -7.60041142e+00,\n",
            "        -2.22455292e+01, -9.73207760e+00],\n",
            "       [-2.24804997e+00,  2.72878909e+00,  1.27265608e+00,\n",
            "         5.04891872e-01,  3.85409012e+01],\n",
            "       [ 1.03503734e-01,  3.19901824e+00,  8.38575077e+00,\n",
            "         8.64132977e+00,  1.81999054e+01],\n",
            "       [-3.35885644e+00, -1.61516654e+00,  1.34611177e+00,\n",
            "         5.43915987e+00,  3.90121193e+01],\n",
            "       [-2.99786301e+01, -4.91493368e+00, -8.33204174e+00,\n",
            "        -4.44496059e+00, -8.79971790e+00],\n",
            "       [-1.85288453e+00,  2.36828312e-01,  2.11871767e+00,\n",
            "         4.40284109e+00,  3.58615799e+01],\n",
            "       [ 9.57810307e+00, -3.38407254e+00,  6.14857626e+00,\n",
            "        -3.03025931e-01,  2.76430454e+01],\n",
            "       [-2.58206201e+00,  1.15290189e+00, -2.48159814e+00,\n",
            "         5.14633477e-01,  3.44438629e+01],\n",
            "       [-6.12200880e+00, -3.44073009e+00, -7.02467263e-01,\n",
            "        -4.28390026e+00, -1.20232821e+01],\n",
            "       [ 4.37564611e+00,  1.11173165e+00,  1.04659808e+00,\n",
            "        -7.13530481e-01,  1.45801697e+01],\n",
            "       [-2.43626714e+00, -3.07711124e-01, -9.66130674e-01,\n",
            "         3.48543835e+00, -4.31489830e+01],\n",
            "       [-1.03848588e+00, -9.85668480e-01, -2.13187575e-01,\n",
            "        -2.93354225e+00, -2.57531853e+01],\n",
            "       [-2.61116734e+01, -4.27012396e+00, -3.77418494e+00,\n",
            "         3.95771003e+00, -6.84260988e+00],\n",
            "       [ 4.49501657e+00, -8.57654285e+00, -1.85933197e+00,\n",
            "        -2.91248727e+00, -1.90059414e+01],\n",
            "       [-2.95862865e+00,  1.30022240e+00,  2.14484185e-01,\n",
            "        -8.74045730e-01,  1.68899860e+01],\n",
            "       [-3.30416703e+00,  2.81526661e+00, -1.07310450e+00,\n",
            "        -1.09653771e+00,  2.14146538e+01],\n",
            "       [ 1.17294204e+00, -7.55300879e-01,  7.82169253e-02,\n",
            "         8.72359395e-01, -3.97436409e+01],\n",
            "       [ 1.75927937e+00, -1.17052412e+00, -1.86878100e-01,\n",
            "        -1.61096692e+00, -3.75576935e+01],\n",
            "       [-2.04710484e+00, -2.75485039e+00,  7.31612802e-01,\n",
            "        -2.41008139e+00, -2.60697422e+01],\n",
            "       [-3.31088877e+00,  3.77994800e+00,  3.77610296e-01,\n",
            "         9.03658199e+00, -4.05447865e+00],\n",
            "       [ 1.19072056e+00,  2.69268192e-02,  2.96251225e+00,\n",
            "         1.50477302e+00, -4.04749184e+01],\n",
            "       [ 8.84194088e+00,  1.46895957e+00, -3.11663240e-01,\n",
            "         4.58025742e+00, -1.08572359e+01],\n",
            "       [ 2.56735301e+00, -8.17784190e-01, -8.26671600e-01,\n",
            "        -2.71574759e+00, -3.03629513e+01],\n",
            "       [-7.35263729e+00, -9.96062517e-01,  3.46145689e-01,\n",
            "        -3.83550906e+00, -1.74080009e+01],\n",
            "       [ 1.84245743e-02, -1.06642032e+00,  2.32901645e+00,\n",
            "         1.27050483e+00, -4.09943161e+01],\n",
            "       [ 8.46573067e+00,  3.92022491e+00,  8.46045196e-01,\n",
            "        -6.98278248e-01, -1.06716137e+01],\n",
            "       [ 1.60857069e+00, -1.75396919e+00,  3.31031978e-01,\n",
            "        -1.39464855e+01, -2.51576233e+01],\n",
            "       [ 7.17252922e+00,  1.31580925e+00, -7.54660428e-01,\n",
            "         4.39403296e+00, -9.28842902e-01],\n",
            "       [ 4.71213198e+00,  2.88735223e+00,  2.85123491e+00,\n",
            "         1.21358454e+00,  1.50040236e+01],\n",
            "       [ 4.20619440e+00,  2.34729004e+00, -3.09804417e-02,\n",
            "         4.88187504e+00,  1.48177042e+01],\n",
            "       [-3.01740122e+00, -5.14554405e+00, -6.71417093e+00,\n",
            "        -1.50967944e+00,  8.17483711e+00],\n",
            "       [-5.68023825e+00, -1.17411757e+00, -2.16550875e+00,\n",
            "         6.77914476e+00, -1.50920200e+01],\n",
            "       [ 2.82222009e+00, -2.02142715e+00,  9.33415368e-02,\n",
            "        -1.66307175e+00, -2.86889839e+01],\n",
            "       [ 9.06380749e+00,  3.84626675e+00, -5.90773821e-01,\n",
            "        -6.22357488e-01, -1.10575628e+01],\n",
            "       [ 9.42418003e+00,  5.00169706e+00,  2.60305792e-01,\n",
            "         1.15674078e+00, -2.95225582e+01],\n",
            "       [ 5.35645866e+00, -1.40909612e-01, -1.57340929e-01,\n",
            "        -1.13187659e+00,  1.38418245e+01],\n",
            "       [-1.79654181e+00,  5.40244484e+00, -8.34615827e-01,\n",
            "        -2.09068680e+00, -2.53947849e+01],\n",
            "       [-4.25351351e-01, -1.23166811e+00, -5.62912226e-02,\n",
            "         8.13424492e+00, -2.13931789e+01],\n",
            "       [ 4.90457296e+00,  2.27889085e+00,  2.64753175e+00,\n",
            "         5.61112165e+00,  1.57716303e+01],\n",
            "       [ 3.16336483e-01,  6.29230165e+00, -4.21774983e-01,\n",
            "         4.33985263e-01, -2.22410316e+01],\n",
            "       [-2.90764403e+00,  1.26818645e+00, -5.13221323e-01,\n",
            "         3.38717997e-02,  1.42940435e+01],\n",
            "       [ 8.32177067e+00,  4.72943306e-01,  1.27258933e+00,\n",
            "         4.49351645e+00, -8.32395744e+00],\n",
            "       [ 4.97060633e+00,  1.13998640e+00, -3.52011132e+00,\n",
            "        -2.03851032e+00,  1.46234827e+01],\n",
            "       [-3.32414269e-01,  1.35965121e+00,  1.05013847e+00,\n",
            "        -2.35276580e+00,  1.36194773e+01],\n",
            "       [-1.02868545e+00, -1.76416731e+00,  1.57331854e-01,\n",
            "         6.75195026e+00, -2.32091637e+01],\n",
            "       [ 6.92660618e+00,  2.45579028e+00, -9.34977174e-01,\n",
            "         4.80561161e+00, -1.83147597e+00],\n",
            "       [ 2.59484619e-01,  4.67558479e+00, -8.82213712e-01,\n",
            "        -1.06197703e+00, -1.97418880e+01],\n",
            "       [-4.45054293e+00, -3.07684231e+00,  9.50636148e-01,\n",
            "         2.50083017e+00, -1.93894386e+01],\n",
            "       [ 2.88570094e+00, -3.57301593e-01,  7.97773600e-01,\n",
            "         2.69725704e+00, -2.87335110e+01],\n",
            "       [-3.73193765e+00,  2.60853744e+00, -1.35531497e+00,\n",
            "         3.12618613e+00,  2.04591084e+00],\n",
            "       [-4.90535229e-01, -1.86303127e+00, -5.89026622e-02,\n",
            "         6.71399832e+00, -2.29915066e+01],\n",
            "       [ 3.66893411e+00, -1.00993562e+00,  6.23610318e-02,\n",
            "        -1.69640815e+00, -2.92609844e+01],\n",
            "       [-8.71870327e+00, -1.27469945e+00,  2.16918290e-01,\n",
            "        -1.97749329e+01, -8.62768650e+00],\n",
            "       [ 5.64892828e-01, -6.91970736e-02, -1.70002222e+00,\n",
            "         9.76227462e-01, -4.01254005e+01],\n",
            "       [-2.60510683e+00,  1.46645224e+00, -1.29655266e+00,\n",
            "        -9.78296340e-01,  1.58083677e+01],\n",
            "       [-1.17068100e+01,  1.97629082e+00,  3.78537364e-02,\n",
            "        -1.78570709e+01, -1.03531075e+01],\n",
            "       [ 8.09038639e+00,  3.66797495e+00,  3.44965386e+00,\n",
            "        -8.05817902e-01, -1.00308657e+01],\n",
            "       [ 1.33587313e+00, -1.91726434e+00, -2.16707420e+00,\n",
            "         7.37571478e+00,  1.39681606e+01],\n",
            "       [-2.91711020e+00, -3.12258554e+00, -5.78577566e+00,\n",
            "         7.68407345e+00,  1.66113052e+01],\n",
            "       [-3.05869675e+00,  9.57016230e-01, -6.83566213e-01,\n",
            "        -1.59530878e+01, -1.53545771e+01],\n",
            "       [ 7.79158068e+00, -1.32877398e+00,  1.26931179e+00,\n",
            "        -9.00710702e-01,  1.59475813e+01],\n",
            "       [-9.00331795e-01, -8.75698626e-01,  2.13324213e+00,\n",
            "        -1.62130785e+00, -2.83874817e+01],\n",
            "       [ 6.41008711e+00, -1.51880670e+00, -9.21438098e-01,\n",
            "         6.87508440e+00,  1.49907427e+01]], dtype=float32)\n",
            "\n",
            ".base_values =\n",
            "array([58.87933, 58.87933, 58.87933, 58.87933, 58.87933, 58.87933,\n",
            "       58.87933, 58.87933, 58.87933, 58.87933, 58.87933, 58.87933,\n",
            "       58.87933, 58.87933, 58.87933, 58.87933, 58.87933, 58.87933,\n",
            "       58.87933, 58.87933, 58.87933, 58.87933, 58.87933, 58.87933,\n",
            "       58.87933, 58.87933, 58.87933, 58.87933, 58.87933, 58.87933,\n",
            "       58.87933, 58.87933, 58.87933, 58.87933, 58.87933, 58.87933,\n",
            "       58.87933, 58.87933, 58.87933, 58.87933, 58.87933, 58.87933,\n",
            "       58.87933, 58.87933, 58.87933, 58.87933, 58.87933, 58.87933,\n",
            "       58.87933, 58.87933, 58.87933, 58.87933, 58.87933, 58.87933,\n",
            "       58.87933, 58.87933, 58.87933, 58.87933, 58.87933, 58.87933,\n",
            "       58.87933, 58.87933, 58.87933, 58.87933, 58.87933, 58.87933,\n",
            "       58.87933, 58.87933, 58.87933, 58.87933, 58.87933, 58.87933,\n",
            "       58.87933, 58.87933, 58.87933, 58.87933, 58.87933, 58.87933,\n",
            "       58.87933, 58.87933, 58.87933], dtype=float32)\n",
            "\n",
            ".data =\n",
            "array([[255000,     12,     29,      5,     45],\n",
            "       [135000,     19,     28,     16,     36],\n",
            "       [235000,     12,      4,      5,     36],\n",
            "       [225000,      8,     11,      4,     38],\n",
            "       [175000,     12,     48,      5,     40],\n",
            "       [ 85000,      4,     12,     10,     51],\n",
            "       [195000,      8,     49,      4,     36],\n",
            "       [145000,      1,     17,      6,     35],\n",
            "       [265000,     12,     31,      4,     56],\n",
            "       [115000,      8,     49,      4,     50],\n",
            "       [295000,     23,     32,     14,     76],\n",
            "       [145000,     13,     17,      0,     61],\n",
            "       [ 72000,     19,     12,      6,     34],\n",
            "       [135000,     12,     20,     18,     70],\n",
            "       [ 95000,      8,     44,      4,     44],\n",
            "       [115000,     13,     17,     15,     35],\n",
            "       [295000,     11,     19,     14,     71],\n",
            "       [ 85000,     15,      3,      4,     34],\n",
            "       [ 95000,     22,     38,      1,     80],\n",
            "       [ 42000,      6,     22,      3,     28],\n",
            "       [ 88000,     11,     57,     14,     66],\n",
            "       [ 65000,     19,     47,     19,     33],\n",
            "       [ 78000,     17,     37,      9,     78],\n",
            "       [ 92000,     12,     14,     15,     35],\n",
            "       [ 68000,     18,     13,      1,     56],\n",
            "       [110000,      8,     27,      4,     35],\n",
            "       [225000,      1,     17,      6,     96],\n",
            "       [320000,     12,      6,     10,     82],\n",
            "       [155000,     13,     18,     17,     41],\n",
            "       [185000,     10,     32,      6,    133],\n",
            "       [ 75000,     19,     33,     19,     61],\n",
            "       [355000,      2,     26,      6,    123],\n",
            "       [175000,     12,     21,      5,     87],\n",
            "       [135000,      9,     23,      6,     51],\n",
            "       [345000,     23,     32,     14,    204],\n",
            "       [275000,     22,     54,      9,    174],\n",
            "       [ 85000,     13,     21,     10,    128],\n",
            "       [195000,      7,     32,     18,    101],\n",
            "       [285000,     11,     56,     14,    203],\n",
            "       [365000,     11,     42,     14,    123],\n",
            "       [385000,     12,     20,      5,    148],\n",
            "       [195000,     15,     51,     10,    116],\n",
            "       [315000,     23,     58,     14,    194],\n",
            "       [325000,      6,     52,      2,    118],\n",
            "       [295000,     14,     32,      0,    201],\n",
            "       [315000,     11,     20,     14,     97],\n",
            "       [310000,      8,     10,      4,     87],\n",
            "       [265000,      8,      6,     18,     87],\n",
            "       [175000,     13,     39,     10,     66],\n",
            "       [115000,     16,      0,     18,    102],\n",
            "       [295000,     13,     32,      7,    158],\n",
            "       [425000,      6,     20,      2,    118],\n",
            "       [420000,      6,     52,      3,    184],\n",
            "       [265000,     22,     25,     10,     86],\n",
            "       [255000,      7,     33,      6,    128],\n",
            "       [125000,     19,     28,     16,    148],\n",
            "       [285000,      8,     49,     18,     87],\n",
            "       [195000,      6,     20,      2,    158],\n",
            "       [195000,     12,      1,      5,     92],\n",
            "       [350000,     22,     55,     14,    114],\n",
            "       [285000,     12,     29,      6,     86],\n",
            "       [245000,     12,     53,      6,     86],\n",
            "       [165000,     13,     46,     16,    158],\n",
            "       [275000,      3,     24,     16,     97],\n",
            "       [155000,      9,     33,      6,    164],\n",
            "       [185000,      0,     12,     16,    112],\n",
            "       [275000,     22,     32,     12,    143],\n",
            "       [210000,      8,      5,     15,     61],\n",
            "       [135000,     13,     32,     16,    156],\n",
            "       [375000,     15,     32,      8,    158],\n",
            "       [215000,     14,      7,      0,    102],\n",
            "       [320000,     11,     42,     14,    184],\n",
            "       [185000,     12,     34,      5,     92],\n",
            "       [ 95000,      9,     32,      0,    116],\n",
            "       [275000,      8,      8,      6,    117],\n",
            "       [235000,     15,     40,     16,     81],\n",
            "       [145000,     20,     35,     16,     76],\n",
            "       [215000,      1,     17,      0,    143],\n",
            "       [355000,     15,     32,      6,     87],\n",
            "       [245000,     22,     16,     10,    148],\n",
            "       [325000,     15,     36,     16,     86]])\n"
          ]
        }
      ],
      "source": [
        "print(shap_values)"
      ]
    },
    {
      "cell_type": "code",
      "execution_count": 242,
      "metadata": {},
      "outputs": [
        {
          "name": "stdout",
          "output_type": "stream",
          "text": [
            "            Feature  Mean SHAP Value\n",
            "4     days_to_close        22.972198\n",
            "0            Amount         4.417510\n",
            "3       Lead_Source         4.363462\n",
            "1  Company_Industry         2.129983\n",
            "2     Contact_Title         1.853458\n"
          ]
        }
      ],
      "source": [
        "import pandas as pd\n",
        "importance_df = pd.DataFrame({\n",
        "    \"Feature\": X_train_new.columns,\n",
        "    \"Mean SHAP Value\": np.abs(shap_values.values).mean(axis=0)\n",
        "}).sort_values(by=\"Mean SHAP Value\", ascending=False)\n",
        "\n",
        "print(importance_df)\n"
      ]
    },
    {
      "cell_type": "markdown",
      "metadata": {},
      "source": [
        "### Export Feature Importance"
      ]
    },
    {
      "cell_type": "code",
      "execution_count": 243,
      "metadata": {},
      "outputs": [],
      "source": [
        "# Create the folder if it doesn't exist\n",
        "os.makedirs(\"2_2_salesforce_feature_importance_data\", exist_ok=True)\n",
        "\n",
        "# Save the Excel file inside the folder\n",
        "importance_df.to_csv(\"2_2_salesforce_feature_importance_data/2_2_salesforce_feature_importance_data.csv\", index=False)\n"
      ]
    },
    {
      "cell_type": "code",
      "execution_count": 244,
      "metadata": {},
      "outputs": [],
      "source": [
        "# spark_df = spark.createDataFrame(importance_df)\n",
        "# spark_df.write.mode(\"overwrite\").saveAsTable(\"sd_bdc_demo.xgboost_regression.2_2_salesforce_feature_importance_data\")"
      ]
    },
    {
      "cell_type": "code",
      "execution_count": null,
      "metadata": {},
      "outputs": [],
      "source": []
    }
  ],
  "metadata": {
    "colab": {
      "collapsed_sections": [],
      "name": "data_preprocessing_tools.ipynb",
      "provenance": [],
      "toc_visible": true
    },
    "kernelspec": {
      "display_name": ".venv",
      "language": "python",
      "name": "python3"
    },
    "language_info": {
      "codemirror_mode": {
        "name": "ipython",
        "version": 3
      },
      "file_extension": ".py",
      "mimetype": "text/x-python",
      "name": "python",
      "nbconvert_exporter": "python",
      "pygments_lexer": "ipython3",
      "version": "3.13.3"
    }
  },
  "nbformat": 4,
  "nbformat_minor": 0
}
