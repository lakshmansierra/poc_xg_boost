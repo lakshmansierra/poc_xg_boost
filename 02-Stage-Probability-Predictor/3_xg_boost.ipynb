{
  "cells": [
    {
      "cell_type": "markdown",
      "metadata": {
        "colab_type": "text",
        "id": "37puETfgRzzg"
      },
      "source": [
        "# XG Boost Regressor"
      ]
    },
    {
      "cell_type": "markdown",
      "metadata": {
        "colab_type": "text",
        "id": "EoRP98MpR-qj"
      },
      "source": [
        "## Importing the libraries"
      ]
    },
    {
      "cell_type": "code",
      "execution_count": 48,
      "metadata": {
        "colab": {},
        "colab_type": "code",
        "id": "N-qiINBQSK2g"
      },
      "outputs": [],
      "source": [
        "import os\n",
        "import numpy as np\n",
        "import matplotlib.pyplot as plt\n",
        "import pandas as pd\n"
      ]
    },
    {
      "cell_type": "markdown",
      "metadata": {
        "colab_type": "text",
        "id": "RopL7tUZSQkT"
      },
      "source": [
        "## Importing the dataset"
      ]
    },
    {
      "cell_type": "code",
      "execution_count": 49,
      "metadata": {},
      "outputs": [],
      "source": [
        "# pyspark_df = spark.table(\"sd_bdc_demo.xgboost_regression.2_salesforce_xgboost_updated_data\")\n",
        "# pyspark_df.display()\n",
        "# df = pyspark_df.toPandas()"
      ]
    },
    {
      "cell_type": "code",
      "execution_count": 50,
      "metadata": {},
      "outputs": [],
      "source": [
        "# Load csv file\n",
        "df = pd.read_csv(\"2_salesforce_xgboost_updated_data/2_salesforce_xgboost_updated_data.csv\")"
      ]
    },
    {
      "cell_type": "code",
      "execution_count": 51,
      "metadata": {},
      "outputs": [
        {
          "name": "stdout",
          "output_type": "stream",
          "text": [
            "    Sales_Order                 Stage  Amount  Probability    Sales_Person  \\\n",
            "0          5708           Closed Lost  255000           40  Alex Rodriguez   \n",
            "1          5709       Decision Makers  315000           70   Sarah Johnson   \n",
            "2          5710  Proposal/Price Quote  275000           65   Michael Chang   \n",
            "3          5711            Closed Won  135000           68     Emma Wilson   \n",
            "4          5712    Negotiation/Review  325000           85  David Martinez   \n",
            "..          ...                   ...     ...          ...             ...   \n",
            "91         5799   Perception Analysis  475000           25  Alex Rodriguez   \n",
            "92         5800     Value Proposition  115000           40   Sarah Johnson   \n",
            "93         5801         Qualification   95000           20   Michael Chang   \n",
            "94         5802            Closed Won   68000           76     Emma Wilson   \n",
            "95         5803        Needs Analysis  185000           35  David Martinez   \n",
            "\n",
            "      Company_Industry              Contact_Title          Type  \\\n",
            "0           Healthcare           Medical Director  New Business   \n",
            "1           Government                IT Director  New Business   \n",
            "2   Financial Services  Client Relations Director  New Business   \n",
            "3               Retail         Marketing Director  New Business   \n",
            "4        Manufacturing            Quality Manager  New Business   \n",
            "..                 ...                        ...           ...   \n",
            "91          Healthcare      Network Administrator       Upgrade   \n",
            "92           Marketing           Account Director  New Business   \n",
            "93     Food & Beverage        Operations Director       Upgrade   \n",
            "94          Non-profit       Exhibitions Director  New Business   \n",
            "95         Agriculture         Executive Director  New Business   \n",
            "\n",
            "              Lead_Source State  days_to_close  \n",
            "0   Healthcare Conference    WA             45  \n",
            "1                     RFP    MT             97  \n",
            "2          Industry Event    UT            117  \n",
            "3              Trade Show    OH             36  \n",
            "4        Partner Referral    NV             92  \n",
            "..                    ...   ...            ...  \n",
            "91         Industry Event    OR            148  \n",
            "92                Webinar    SC            102  \n",
            "93              Cold Call    CT            116  \n",
            "94             Conference    NY             56  \n",
            "95             Trade Show    WA            112  \n",
            "\n",
            "[96 rows x 11 columns]\n"
          ]
        }
      ],
      "source": [
        "print(df)"
      ]
    },
    {
      "cell_type": "code",
      "execution_count": 52,
      "metadata": {},
      "outputs": [
        {
          "name": "stdout",
          "output_type": "stream",
          "text": [
            "(96, 11)\n"
          ]
        }
      ],
      "source": [
        "print(df.shape)"
      ]
    },
    {
      "cell_type": "code",
      "execution_count": 53,
      "metadata": {},
      "outputs": [
        {
          "name": "stdout",
          "output_type": "stream",
          "text": [
            "Index(['Sales_Order', 'Stage', 'Amount', 'Probability', 'Sales_Person',\n",
            "       'Company_Industry', 'Contact_Title', 'Type', 'Lead_Source', 'State',\n",
            "       'days_to_close'],\n",
            "      dtype='object')\n"
          ]
        }
      ],
      "source": [
        "print(df.columns)"
      ]
    },
    {
      "cell_type": "code",
      "execution_count": 54,
      "metadata": {},
      "outputs": [
        {
          "name": "stdout",
          "output_type": "stream",
          "text": [
            "<class 'pandas.core.frame.DataFrame'>\n",
            "RangeIndex: 96 entries, 0 to 95\n",
            "Data columns (total 11 columns):\n",
            " #   Column            Non-Null Count  Dtype \n",
            "---  ------            --------------  ----- \n",
            " 0   Sales_Order       96 non-null     int64 \n",
            " 1   Stage             96 non-null     object\n",
            " 2   Amount            96 non-null     int64 \n",
            " 3   Probability       96 non-null     int64 \n",
            " 4   Sales_Person      96 non-null     object\n",
            " 5   Company_Industry  96 non-null     object\n",
            " 6   Contact_Title     96 non-null     object\n",
            " 7   Type              96 non-null     object\n",
            " 8   Lead_Source       96 non-null     object\n",
            " 9   State             96 non-null     object\n",
            " 10  days_to_close     96 non-null     int64 \n",
            "dtypes: int64(4), object(7)\n",
            "memory usage: 8.4+ KB\n",
            "None\n"
          ]
        }
      ],
      "source": [
        "print(df.info())"
      ]
    },
    {
      "cell_type": "markdown",
      "metadata": {},
      "source": [
        "## Encoding categorical data"
      ]
    },
    {
      "cell_type": "markdown",
      "metadata": {},
      "source": [
        "### Encoding the Independent Variable"
      ]
    },
    {
      "cell_type": "code",
      "execution_count": 55,
      "metadata": {},
      "outputs": [],
      "source": [
        "from sklearn.preprocessing import LabelEncoder\n",
        "\n",
        "df_encoded = df.copy()\n",
        "categorical_cols = [\n",
        "    'Sales_Person',\n",
        "    'Company_Industry',\n",
        "    'Contact_Title',\n",
        "    'Type',\n",
        "    'Lead_Source',\n",
        "    'State'\n",
        "]\n",
        "\n",
        "# Save encoder for later use\n",
        "label_encoders = {}\n",
        "\n",
        "for col in categorical_cols:\n",
        "    le = LabelEncoder()\n",
        "    df_encoded[col] = le.fit_transform(df_encoded[col])\n",
        "    label_encoders[col] = le  \n"
      ]
    },
    {
      "cell_type": "code",
      "execution_count": 56,
      "metadata": {},
      "outputs": [
        {
          "name": "stdout",
          "output_type": "stream",
          "text": [
            "   Sales_Order                 Stage  Amount  Probability  Sales_Person  \\\n",
            "0         5708           Closed Lost  255000           40             0   \n",
            "1         5709       Decision Makers  315000           70             4   \n",
            "2         5710  Proposal/Price Quote  275000           65             3   \n",
            "3         5711            Closed Won  135000           68             2   \n",
            "4         5712    Negotiation/Review  325000           85             1   \n",
            "\n",
            "   Company_Industry  Contact_Title  Type  Lead_Source  State  days_to_close  \n",
            "0                12             29     0            5     42             45  \n",
            "1                11             20     0           14     23             97  \n",
            "2                 8              8     0            6     39            117  \n",
            "3                19             28     0           16     31             36  \n",
            "4                15             41     0           10     29             92  \n"
          ]
        }
      ],
      "source": [
        "print(df_encoded.head())"
      ]
    },
    {
      "cell_type": "code",
      "execution_count": 57,
      "metadata": {},
      "outputs": [
        {
          "name": "stdout",
          "output_type": "stream",
          "text": [
            "(96, 11)\n"
          ]
        }
      ],
      "source": [
        "print(df_encoded.shape)"
      ]
    },
    {
      "cell_type": "code",
      "execution_count": 58,
      "metadata": {},
      "outputs": [
        {
          "name": "stdout",
          "output_type": "stream",
          "text": [
            "Index(['Sales_Order', 'Stage', 'Amount', 'Probability', 'Sales_Person',\n",
            "       'Company_Industry', 'Contact_Title', 'Type', 'Lead_Source', 'State',\n",
            "       'days_to_close'],\n",
            "      dtype='object')\n"
          ]
        }
      ],
      "source": [
        "print(df_encoded.columns)"
      ]
    },
    {
      "cell_type": "markdown",
      "metadata": {},
      "source": [
        "## Split two Data Frame for Independent Features & Dependent Columns"
      ]
    },
    {
      "cell_type": "code",
      "execution_count": 59,
      "metadata": {},
      "outputs": [],
      "source": [
        "df_independent = df_encoded.drop(columns=['Probability'])\n",
        "X = df_independent\n",
        "df_dependent = df_encoded[['Probability']]\n",
        "y = df_dependent"
      ]
    },
    {
      "cell_type": "code",
      "execution_count": 60,
      "metadata": {},
      "outputs": [
        {
          "name": "stdout",
          "output_type": "stream",
          "text": [
            "   Sales_Order                 Stage  Amount  Sales_Person  Company_Industry  \\\n",
            "0         5708           Closed Lost  255000             0                12   \n",
            "1         5709       Decision Makers  315000             4                11   \n",
            "2         5710  Proposal/Price Quote  275000             3                 8   \n",
            "3         5711            Closed Won  135000             2                19   \n",
            "4         5712    Negotiation/Review  325000             1                15   \n",
            "\n",
            "   Contact_Title  Type  Lead_Source  State  days_to_close  \n",
            "0             29     0            5     42             45  \n",
            "1             20     0           14     23             97  \n",
            "2              8     0            6     39            117  \n",
            "3             28     0           16     31             36  \n",
            "4             41     0           10     29             92  \n"
          ]
        }
      ],
      "source": [
        "print(df_independent.head())"
      ]
    },
    {
      "cell_type": "code",
      "execution_count": 61,
      "metadata": {},
      "outputs": [
        {
          "name": "stdout",
          "output_type": "stream",
          "text": [
            "(96, 10)\n"
          ]
        }
      ],
      "source": [
        "print(df_independent.shape)"
      ]
    },
    {
      "cell_type": "code",
      "execution_count": 62,
      "metadata": {},
      "outputs": [
        {
          "name": "stdout",
          "output_type": "stream",
          "text": [
            "   Probability\n",
            "0           40\n",
            "1           70\n",
            "2           65\n",
            "3           68\n",
            "4           85\n"
          ]
        }
      ],
      "source": [
        "print(df_dependent.head())"
      ]
    },
    {
      "cell_type": "code",
      "execution_count": 63,
      "metadata": {},
      "outputs": [
        {
          "name": "stdout",
          "output_type": "stream",
          "text": [
            "(96, 1)\n"
          ]
        }
      ],
      "source": [
        "print(df_dependent.shape)"
      ]
    },
    {
      "cell_type": "markdown",
      "metadata": {},
      "source": [
        "## Splitting the dataset into the Training set and Test set (`Closed Won` & `Closed Lost` = `train`)"
      ]
    },
    {
      "cell_type": "code",
      "execution_count": 64,
      "metadata": {},
      "outputs": [],
      "source": [
        "# Define which rows go into train and test based on 'Stage'\n",
        "is_train = df_encoded['Stage'].isin(['Closed Won', 'Closed Lost'])\n",
        "\n",
        "# Split X\n",
        "X_train = X[is_train] \n",
        "X_test = X[~is_train]\n",
        "\n",
        "# Split y\n",
        "y_train = y[is_train]\n",
        "y_test = y[~is_train]  \n"
      ]
    },
    {
      "cell_type": "markdown",
      "metadata": {},
      "source": [
        "### Splitting part of test data to train data"
      ]
    },
    {
      "cell_type": "code",
      "execution_count": 65,
      "metadata": {},
      "outputs": [],
      "source": [
        "from sklearn.model_selection import train_test_split\n",
        "X_train_ren, X_test_ren, y_train_ren, y_test_ren = train_test_split(X_test, y_test, test_size = 0.2, random_state = 1)"
      ]
    },
    {
      "cell_type": "code",
      "execution_count": 66,
      "metadata": {},
      "outputs": [],
      "source": [
        "X_train = pd.concat([X_train, X_train_ren])\n",
        "y_train = pd.concat([y_train, y_train_ren])\n",
        "\n",
        "X_test = X_test_ren\n",
        "y_test = y_test_ren"
      ]
    },
    {
      "cell_type": "code",
      "execution_count": 67,
      "metadata": {},
      "outputs": [
        {
          "name": "stdout",
          "output_type": "stream",
          "text": [
            "    Sales_Order        Stage  Amount  Sales_Person  Company_Industry  \\\n",
            "0          5708  Closed Lost  255000             0                12   \n",
            "3          5711   Closed Won  135000             2                19   \n",
            "8          5716   Closed Won  235000             2                12   \n",
            "12         5720   Closed Won  225000             2                 8   \n",
            "17         5725   Closed Won  175000             2                12   \n",
            "\n",
            "    Contact_Title  Type  Lead_Source  State  days_to_close  \n",
            "0              29     0            5     42             45  \n",
            "3              28     0           16     31             36  \n",
            "8               4     2            5     38             36  \n",
            "12             11     2            4     24             38  \n",
            "17             48     2            5     21             40  \n"
          ]
        }
      ],
      "source": [
        "print(X_train.head())"
      ]
    },
    {
      "cell_type": "code",
      "execution_count": 68,
      "metadata": {},
      "outputs": [
        {
          "name": "stdout",
          "output_type": "stream",
          "text": [
            "(81, 10)\n"
          ]
        }
      ],
      "source": [
        "print(X_train.shape)"
      ]
    },
    {
      "cell_type": "code",
      "execution_count": 69,
      "metadata": {},
      "outputs": [
        {
          "name": "stdout",
          "output_type": "stream",
          "text": [
            "    Sales_Order                 Stage  Amount  Sales_Person  Company_Industry  \\\n",
            "88         5796  Proposal/Price Quote  235000             3                22   \n",
            "34         5742         Qualification  225000             3                22   \n",
            "91         5799   Perception Analysis  475000             0                12   \n",
            "74         5782        Needs Analysis  230000             2                 9   \n",
            "36         5744        Needs Analysis  385000             1                15   \n",
            "\n",
            "    Contact_Title  Type  Lead_Source  State  days_to_close  \n",
            "88             33     0           18      8             96  \n",
            "34             16     0            6     25            143  \n",
            "91             30     2            6     33            148  \n",
            "74             50     0            6     37             96  \n",
            "36             32     0           11     42            141  \n"
          ]
        }
      ],
      "source": [
        "print(X_test.head())"
      ]
    },
    {
      "cell_type": "code",
      "execution_count": 70,
      "metadata": {},
      "outputs": [
        {
          "name": "stdout",
          "output_type": "stream",
          "text": [
            "(15, 10)\n"
          ]
        }
      ],
      "source": [
        "print(X_test.shape)"
      ]
    },
    {
      "cell_type": "code",
      "execution_count": 71,
      "metadata": {},
      "outputs": [
        {
          "name": "stdout",
          "output_type": "stream",
          "text": [
            "    Probability\n",
            "0            40\n",
            "3            68\n",
            "8            48\n",
            "12           71\n",
            "17           75\n"
          ]
        }
      ],
      "source": [
        "print(y_train.head())"
      ]
    },
    {
      "cell_type": "code",
      "execution_count": 72,
      "metadata": {},
      "outputs": [
        {
          "name": "stdout",
          "output_type": "stream",
          "text": [
            "(81, 1)\n"
          ]
        }
      ],
      "source": [
        "print(y_train.shape)"
      ]
    },
    {
      "cell_type": "code",
      "execution_count": 73,
      "metadata": {},
      "outputs": [
        {
          "name": "stdout",
          "output_type": "stream",
          "text": [
            "    Probability\n",
            "88           60\n",
            "34           30\n",
            "91           25\n",
            "74           25\n",
            "36           35\n"
          ]
        }
      ],
      "source": [
        "print(y_test.head())"
      ]
    },
    {
      "cell_type": "code",
      "execution_count": 74,
      "metadata": {},
      "outputs": [
        {
          "name": "stdout",
          "output_type": "stream",
          "text": [
            "(15, 1)\n"
          ]
        }
      ],
      "source": [
        "print(y_test.shape)"
      ]
    },
    {
      "cell_type": "markdown",
      "metadata": {},
      "source": [
        "## Feature Scaling\n",
        "- As this is a tree based model, no need to do feature scaling"
      ]
    },
    {
      "cell_type": "markdown",
      "metadata": {},
      "source": [
        "## Removing `Sales_Order` & `Stage` in `X_train` & `X_test`"
      ]
    },
    {
      "cell_type": "code",
      "execution_count": 75,
      "metadata": {},
      "outputs": [],
      "source": [
        "X_train_new = X_train.drop(columns=['Sales_Order', 'Stage', 'Sales_Person'])\n"
      ]
    },
    {
      "cell_type": "code",
      "execution_count": 76,
      "metadata": {},
      "outputs": [
        {
          "name": "stdout",
          "output_type": "stream",
          "text": [
            "    Amount  Company_Industry  Contact_Title  Type  Lead_Source  State  \\\n",
            "0   255000                12             29     0            5     42   \n",
            "3   135000                19             28     0           16     31   \n",
            "8   235000                12              4     2            5     38   \n",
            "12  225000                 8             11     2            4     24   \n",
            "17  175000                12             48     2            5     21   \n",
            "\n",
            "    days_to_close  \n",
            "0              45  \n",
            "3              36  \n",
            "8              36  \n",
            "12             38  \n",
            "17             40  \n"
          ]
        }
      ],
      "source": [
        "print(X_train_new.head())"
      ]
    },
    {
      "cell_type": "code",
      "execution_count": 77,
      "metadata": {},
      "outputs": [
        {
          "name": "stdout",
          "output_type": "stream",
          "text": [
            "(81, 7)\n"
          ]
        }
      ],
      "source": [
        "print(X_train_new.shape)"
      ]
    },
    {
      "cell_type": "code",
      "execution_count": 78,
      "metadata": {},
      "outputs": [],
      "source": [
        "X_test_new = X_test.drop(columns=['Sales_Order', 'Stage', 'Sales_Person'])\n"
      ]
    },
    {
      "cell_type": "code",
      "execution_count": 79,
      "metadata": {},
      "outputs": [
        {
          "name": "stdout",
          "output_type": "stream",
          "text": [
            "    Amount  Company_Industry  Contact_Title  Type  Lead_Source  State  \\\n",
            "88  235000                22             33     0           18      8   \n",
            "34  225000                22             16     0            6     25   \n",
            "91  475000                12             30     2            6     33   \n",
            "74  230000                 9             50     0            6     37   \n",
            "36  385000                15             32     0           11     42   \n",
            "\n",
            "    days_to_close  \n",
            "88             96  \n",
            "34            143  \n",
            "91            148  \n",
            "74             96  \n",
            "36            141  \n"
          ]
        }
      ],
      "source": [
        "print(X_test_new.head())"
      ]
    },
    {
      "cell_type": "code",
      "execution_count": 80,
      "metadata": {},
      "outputs": [
        {
          "name": "stdout",
          "output_type": "stream",
          "text": [
            "(15, 7)\n"
          ]
        }
      ],
      "source": [
        "print(X_test_new.shape)"
      ]
    },
    {
      "cell_type": "markdown",
      "metadata": {},
      "source": [
        "## Training the Model"
      ]
    },
    {
      "cell_type": "code",
      "execution_count": 81,
      "metadata": {},
      "outputs": [],
      "source": [
        "from xgboost import XGBRegressor\n",
        "\n",
        "# Initialize the model\n",
        "xgb_model = XGBRegressor(\n",
        "    n_estimators=100,\n",
        "    max_depth=4,\n",
        "    learning_rate=0.1,\n",
        "    random_state=42\n",
        ")\n"
      ]
    },
    {
      "cell_type": "markdown",
      "metadata": {},
      "source": [
        "### RFE"
      ]
    },
    {
      "cell_type": "code",
      "execution_count": 82,
      "metadata": {},
      "outputs": [
        {
          "name": "stdout",
          "output_type": "stream",
          "text": [
            "Index(['Amount', 'Company_Industry', 'Lead_Source', 'State', 'days_to_close'], dtype='object')\n"
          ]
        }
      ],
      "source": [
        "from sklearn.feature_selection import RFE\n",
        "\n",
        "rfe = RFE(estimator=xgb_model, n_features_to_select=5)\n",
        "rfe.fit(X_train_new, y_train)\n",
        "\n",
        "# selected features after RFE\n",
        "selected_features = X_train_new.columns[rfe.support_]\n",
        "print(selected_features)"
      ]
    },
    {
      "cell_type": "code",
      "execution_count": 83,
      "metadata": {},
      "outputs": [],
      "source": [
        "# take only selected columns for both X_train_new & X_test_new\n",
        "X_train_new = X_train_new[selected_features]\n",
        "X_test_new = X_test_new[selected_features]\n",
        "xgb_model_train = xgb_model.fit(X_train_new, y_train.values.ravel())\n"
      ]
    },
    {
      "cell_type": "markdown",
      "metadata": {},
      "source": [
        "## Prediction"
      ]
    },
    {
      "cell_type": "code",
      "execution_count": 84,
      "metadata": {},
      "outputs": [],
      "source": [
        "y_pred = xgb_model.predict(X_test_new)"
      ]
    },
    {
      "cell_type": "code",
      "execution_count": 85,
      "metadata": {},
      "outputs": [
        {
          "name": "stdout",
          "output_type": "stream",
          "text": [
            "[61.66782  30.185387 31.575035 57.386623 35.252525 40.284016 68.89685\n",
            " 35.534252 34.38298  42.688618 80.71994  40.958324 71.36646  69.89162\n",
            " 31.98812 ]\n"
          ]
        }
      ],
      "source": [
        "print(y_pred)"
      ]
    },
    {
      "cell_type": "markdown",
      "metadata": {},
      "source": [
        "### Saving the output as new table"
      ]
    },
    {
      "cell_type": "code",
      "execution_count": 86,
      "metadata": {},
      "outputs": [],
      "source": [
        "sales_order = X_test['Sales_Order'].values\n",
        "stage = X_test['Stage'].values"
      ]
    },
    {
      "cell_type": "code",
      "execution_count": 87,
      "metadata": {},
      "outputs": [
        {
          "name": "stdout",
          "output_type": "stream",
          "text": [
            "sales_order shape: (15,)\n",
            "stage shape: (15,)\n",
            "y_test shape: (15, 1)\n",
            "y_pred shape: (15,)\n"
          ]
        }
      ],
      "source": [
        "print(\"sales_order shape:\", sales_order.shape)\n",
        "print(\"stage shape:\", stage.shape)\n",
        "print(\"y_test shape:\", y_test.shape)\n",
        "print(\"y_pred shape:\", y_pred.shape)\n"
      ]
    },
    {
      "cell_type": "code",
      "execution_count": 88,
      "metadata": {},
      "outputs": [
        {
          "name": "stdout",
          "output_type": "stream",
          "text": [
            "    Probability\n",
            "88           60\n",
            "34           30\n",
            "91           25\n",
            "74           25\n",
            "36           35\n",
            "82           35\n",
            "66           30\n",
            "48           60\n",
            "65           30\n",
            "41           15\n",
            "4            85\n",
            "52           40\n",
            "73           40\n",
            "47           75\n",
            "58           65\n"
          ]
        }
      ],
      "source": [
        "print(y_test)"
      ]
    },
    {
      "cell_type": "code",
      "execution_count": 89,
      "metadata": {},
      "outputs": [],
      "source": [
        "# Flatten y_test to 1D\n",
        "y_test = y_test.values.ravel()"
      ]
    },
    {
      "cell_type": "code",
      "execution_count": 90,
      "metadata": {},
      "outputs": [
        {
          "name": "stdout",
          "output_type": "stream",
          "text": [
            "sales_order shape: (15,)\n",
            "stage shape: (15,)\n",
            "y_test shape: (15,)\n",
            "y_pred shape: (15,)\n"
          ]
        }
      ],
      "source": [
        "print(\"sales_order shape:\", sales_order.shape)\n",
        "print(\"stage shape:\", stage.shape)\n",
        "print(\"y_test shape:\", y_test.shape)\n",
        "print(\"y_pred shape:\", y_pred.shape)\n"
      ]
    },
    {
      "cell_type": "code",
      "execution_count": 91,
      "metadata": {},
      "outputs": [
        {
          "name": "stdout",
          "output_type": "stream",
          "text": [
            "[60 30 25 25 35 35 30 60 30 15 85 40 40 75 65]\n"
          ]
        }
      ],
      "source": [
        "print(y_test)"
      ]
    },
    {
      "cell_type": "code",
      "execution_count": 92,
      "metadata": {},
      "outputs": [
        {
          "name": "stdout",
          "output_type": "stream",
          "text": [
            "[61.66782  30.185387 31.575035 57.386623 35.252525 40.284016 68.89685\n",
            " 35.534252 34.38298  42.688618 80.71994  40.958324 71.36646  69.89162\n",
            " 31.98812 ]\n"
          ]
        }
      ],
      "source": [
        "print(y_pred)"
      ]
    },
    {
      "cell_type": "code",
      "execution_count": 93,
      "metadata": {},
      "outputs": [],
      "source": [
        "results_df = pd.DataFrame({\n",
        "    'sales_order': sales_order,\n",
        "    'stage': stage,\n",
        "    'Actual': y_test,\n",
        "    'Predicted': y_pred\n",
        "})\n"
      ]
    },
    {
      "cell_type": "code",
      "execution_count": 94,
      "metadata": {},
      "outputs": [],
      "source": [
        "# Create the folder if it doesn't exist\n",
        "os.makedirs(\"3_1_salesforce_xgboost_prediction_data\", exist_ok=True)\n",
        "\n",
        "# Save the Excel file inside the folder\n",
        "results_df.to_csv(\"3_1_salesforce_xgboost_prediction_data/3_1_salesforce_xgboost_prediction_data.csv\", index=False)\n"
      ]
    },
    {
      "cell_type": "code",
      "execution_count": 95,
      "metadata": {},
      "outputs": [],
      "source": [
        "# spark_df = spark.createDataFrame(results_df)\n",
        "# spark_df.write.mode(\"overwrite\").saveAsTable(\"sd_bdc_demo.xgboost_regression.3_1_salesforce_xgboost_prediction_data\")"
      ]
    },
    {
      "cell_type": "markdown",
      "metadata": {},
      "source": [
        "## Accuracy"
      ]
    },
    {
      "cell_type": "code",
      "execution_count": 96,
      "metadata": {},
      "outputs": [
        {
          "name": "stdout",
          "output_type": "stream",
          "text": [
            "r2:\n",
            " -0.034714341163635254\n",
            "MAE:\n",
            " 14.43404769897461\n",
            "RMSE:\n",
            " 20.230843230628466\n",
            "MAPE:\n",
            " 0.45876142382621765\n"
          ]
        }
      ],
      "source": [
        "from sklearn.metrics import r2_score, mean_absolute_error, mean_squared_error, mean_absolute_percentage_error\n",
        "\n",
        "print(\"r2:\\n\", r2_score(y_test, y_pred))\n",
        "print(\"MAE:\\n\", mean_absolute_error(y_test, y_pred))\n",
        "print(\"RMSE:\\n\", np.sqrt(mean_squared_error(y_test, y_pred)))\n",
        "print(\"MAPE:\\n\", mean_absolute_percentage_error(y_test, y_pred))"
      ]
    },
    {
      "cell_type": "code",
      "execution_count": 97,
      "metadata": {},
      "outputs": [
        {
          "name": "stdout",
          "output_type": "stream",
          "text": [
            "MAPE: 45.88%\n",
            "Accuracy: 54.12%\n"
          ]
        }
      ],
      "source": [
        "mape = mean_absolute_percentage_error(y_test, y_pred) * 100\n",
        "\n",
        "accuracy = 100 - mape\n",
        "\n",
        "print(f\"MAPE: {mape:.2f}%\")\n",
        "print(f\"Accuracy: {accuracy:.2f}%\")\n"
      ]
    },
    {
      "cell_type": "markdown",
      "metadata": {},
      "source": [
        "## Applying k-Fold Cross Validation"
      ]
    },
    {
      "cell_type": "markdown",
      "metadata": {},
      "source": [
        "### Shuffled"
      ]
    },
    {
      "cell_type": "code",
      "execution_count": 98,
      "metadata": {},
      "outputs": [],
      "source": [
        "from sklearn.model_selection import cross_val_score, KFold\n",
        "num_folds = 5\n",
        "kf = KFold(n_splits=num_folds, shuffle=True, random_state=42)\n",
        "cross_val_results = cross_val_score(xgb_model, X=X_train_new, y=y_train, cv=kf)"
      ]
    },
    {
      "cell_type": "code",
      "execution_count": 99,
      "metadata": {},
      "outputs": [
        {
          "name": "stdout",
          "output_type": "stream",
          "text": [
            "Cross-Validation Results (Accuracy):\n",
            "  Fold 1: -9.99%\n",
            "  Fold 2: 64.05%\n",
            "  Fold 3: 52.93%\n",
            "  Fold 4: 30.32%\n",
            "  Fold 5: -6.58%\n",
            "Kfold Mean ccuracy: 26.15 %\n",
            "Standard Deviation: 30.16 %\n"
          ]
        }
      ],
      "source": [
        "print(\"Cross-Validation Results (Accuracy):\")\n",
        "for i, result in enumerate(cross_val_results, 1):\n",
        "    print(f\"  Fold {i}: {result * 100:.2f}%\")\n",
        "\n",
        "print(\"Kfold Mean ccuracy: {:.2f} %\".format(cross_val_results.mean()*100))\n",
        "print(\"Standard Deviation: {:.2f} %\".format(cross_val_results.std()*100))"
      ]
    },
    {
      "cell_type": "markdown",
      "metadata": {},
      "source": [
        "### Unshuffled"
      ]
    },
    {
      "cell_type": "code",
      "execution_count": 100,
      "metadata": {},
      "outputs": [
        {
          "name": "stdout",
          "output_type": "stream",
          "text": [
            "Kfold Accuracy: 16.81 %\n",
            "Standard Deviation: 66.60 %\n"
          ]
        }
      ],
      "source": [
        "\n",
        "accuracies = cross_val_score(estimator = xgb_model, X = X_train_new, y = y_train, cv = 5)\n",
        "print(\"Kfold Accuracy: {:.2f} %\".format(accuracies.mean()*100))\n",
        "print(\"Standard Deviation: {:.2f} %\".format(accuracies.std()*100))"
      ]
    },
    {
      "cell_type": "markdown",
      "metadata": {},
      "source": [
        "## Feature Importance with `shap`"
      ]
    },
    {
      "cell_type": "code",
      "execution_count": 101,
      "metadata": {},
      "outputs": [
        {
          "name": "stdout",
          "output_type": "stream",
          "text": [
            "[0.12703599 0.10506734 0.15288836 0.16184272 0.45316553]\n"
          ]
        }
      ],
      "source": [
        "print(xgb_model_train.feature_importances_)\n"
      ]
    },
    {
      "cell_type": "code",
      "execution_count": 102,
      "metadata": {},
      "outputs": [
        {
          "name": "stderr",
          "output_type": "stream",
          "text": [
            "c:\\Users\\LakshmanNavaneethakr\\Downloads\\lakshmansierra-git\\poc_xg_boost\\.venv\\Lib\\site-packages\\tqdm\\auto.py:21: TqdmWarning: IProgress not found. Please update jupyter and ipywidgets. See https://ipywidgets.readthedocs.io/en/stable/user_install.html\n",
            "  from .autonotebook import tqdm as notebook_tqdm\n"
          ]
        },
        {
          "name": "stdout",
          "output_type": "stream",
          "text": [
            "<class 'shap._explanation.Explanation'>\n"
          ]
        },
        {
          "data": {
            "image/png": "[encoded data removed]",
            "text/plain": [
              "<Figure size 800x400 with 3 Axes>"
            ]
          },
          "metadata": {},
          "output_type": "display_data"
        }
      ],
      "source": [
        "import shap \n",
        "\n",
        "explainer = shap.Explainer(xgb_model_train)\n",
        "shap_values = explainer(X_train_new)\n",
        "print(type(shap_values))\n",
        "shap.plots.waterfall(shap_values[0])"
      ]
    },
    {
      "cell_type": "code",
      "execution_count": 103,
      "metadata": {},
      "outputs": [
        {
          "name": "stdout",
          "output_type": "stream",
          "text": [
            ".values =\n",
            "array([[-2.49959779e+00,  8.11753273e-01,  3.13336700e-01,\n",
            "        -1.27588415e+01,  1.00354958e+00],\n",
            "       [-8.81593078e-02,  1.86567828e-01,  2.45369458e+00,\n",
            "         4.27829933e+00,  8.86170197e+00],\n",
            "       [-2.18787169e+00,  8.29771280e-01,  5.91442943e-01,\n",
            "        -7.71492624e+00,  4.76188946e+00],\n",
            "       [-1.75203657e+00,  3.68643498e+00,  9.88635004e-01,\n",
            "         3.65970278e+00,  1.18951874e+01],\n",
            "       [-1.42346287e+00,  1.01580894e+00,  1.02952015e+00,\n",
            "         4.15189791e+00,  1.52955084e+01],\n",
            "       [-9.37137485e-01,  3.27221942e+00,  8.01811159e-01,\n",
            "         3.83695674e+00,  1.37162085e+01],\n",
            "       [-3.53496218e+00,  4.15085745e+00,  3.81044358e-01,\n",
            "        -1.11021948e+01,  4.52759552e+00],\n",
            "       [-1.64357316e+00, -9.89652920e+00,  1.34790182e-01,\n",
            "         2.65523767e+00,  1.25104809e+01],\n",
            "       [ 1.91710258e+00,  6.97147012e-01,  4.02445704e-01,\n",
            "         2.32211566e+00,  1.01165094e+01],\n",
            "       [-2.31073126e-01,  4.01168108e+00,  6.12325907e-01,\n",
            "         2.48162580e+00,  1.17608376e+01],\n",
            "       [ 4.62501621e+00, -2.42540622e+00,  2.42293406e+00,\n",
            "         9.56773818e-01,  6.84838963e+00],\n",
            "       [-1.14555085e+00, -3.44507575e+00, -1.57660758e+00,\n",
            "         2.38607407e+00,  3.28296328e+00],\n",
            "       [ 2.02551961e+00,  4.89106864e-01,  1.19844508e+00,\n",
            "         3.99881554e+00,  1.45495739e+01],\n",
            "       [ 1.41149566e-01,  3.49918699e+00,  2.79287010e-01,\n",
            "         2.31893659e+00,  5.57793951e+00],\n",
            "       [-2.63164878e+00,  3.50920343e+00,  5.96770763e-01,\n",
            "        -6.31747770e+00,  3.32537460e+00],\n",
            "       [-8.60643446e-01, -4.23346376e+00,  2.52775240e+00,\n",
            "         2.97456074e+00,  1.06003189e+01],\n",
            "       [ 5.94667339e+00,  1.62707508e+00,  1.65088260e+00,\n",
            "         1.97012758e+00,  7.35362339e+00],\n",
            "       [-1.18919098e+00, -7.03489929e-02,  1.91925669e+00,\n",
            "         2.92056870e+00,  1.60177670e+01],\n",
            "       [-7.43086243e+00, -7.91365564e-01, -2.62791944e+00,\n",
            "         8.23443592e-01,  9.01598036e-01],\n",
            "       [-1.95793076e+01,  6.81445718e-01, -2.18972969e+00,\n",
            "         9.01671886e-01,  1.11456251e+01],\n",
            "       [-6.47831917e+00,  1.78514123e+00,  1.05077434e+00,\n",
            "        -9.13028908e+00, -3.60562325e+00],\n",
            "       [-8.55494618e-01, -1.63607299e+00, -1.18610344e+01,\n",
            "        -1.08412266e+00,  6.10927820e+00],\n",
            "       [-7.77843618e+00,  2.47638613e-01,  7.74689674e-01,\n",
            "         3.51297069e+00,  4.47292507e-01],\n",
            "       [-2.18342185e+00,  5.88721871e-01,  1.42663562e+00,\n",
            "        -9.31973171e+00,  8.05501938e+00],\n",
            "       [ 1.91783869e+00,  1.39474678e+00, -6.50301278e-02,\n",
            "         6.85311127e+00,  1.25491152e+01],\n",
            "       [ 7.02349424e+00,  6.51880264e+00,  1.09030306e+00,\n",
            "         3.95158410e+00,  1.63906879e+01],\n",
            "       [-2.06451011e+00, -1.51490049e+01, -1.47867930e+00,\n",
            "         8.82957131e-02, -2.92593455e+00],\n",
            "       [ 9.59085369e+00,  9.30645466e-01, -4.80716318e-01,\n",
            "        -2.15817952e+00,  1.93570576e+01],\n",
            "       [-4.23706293e+00, -6.73214769e+00, -4.08473349e+00,\n",
            "        -1.45261087e+01, -6.41707754e+00],\n",
            "       [-2.12142324e+00,  1.06455930e-01, -8.37519348e-01,\n",
            "        -1.50856817e+00, -2.20245781e+01],\n",
            "       [-8.88667202e+00, -2.00166893e+00, -1.50427637e+01,\n",
            "         4.18563873e-01, -5.66564894e+00],\n",
            "       [ 6.10057831e+00, -1.21209173e+01, -1.35630512e+00,\n",
            "        -1.21896994e+00, -1.33431282e+01],\n",
            "       [-9.21492934e-01,  7.95336008e-01, -1.57241926e-01,\n",
            "         1.40402496e+00,  2.06985512e+01],\n",
            "       [ 5.95772803e-01,  3.18066430e+00,  7.89590836e-01,\n",
            "         2.94647741e+00,  1.36263218e+01],\n",
            "       [ 2.49712288e-01, -1.03638184e+00,  5.50274849e-01,\n",
            "        -4.54764664e-01, -3.11926041e+01],\n",
            "       [ 1.40777647e+00, -9.54780519e-01, -8.99511158e-01,\n",
            "        -1.08834779e+00, -2.98745880e+01],\n",
            "       [-3.42215800e+00, -1.87826526e+00, -5.90374470e-01,\n",
            "        -1.02045465e+00, -2.07791882e+01],\n",
            "       [-1.96661592e+00,  5.10849714e+00,  3.45790958e+00,\n",
            "         4.78089154e-01,  5.25809431e+00],\n",
            "       [ 1.32496250e+00,  1.44615114e-01,  3.77118707e-01,\n",
            "         7.26183474e-01, -3.01696148e+01],\n",
            "       [ 8.02607727e+00,  1.78405321e+00,  2.02417469e+00,\n",
            "         3.91841269e+00, -4.81337023e+00],\n",
            "       [ 1.34106171e+00, -4.58721787e-01, -1.33516872e+00,\n",
            "        -1.81631303e+00, -2.34082642e+01],\n",
            "       [-5.59976864e+00,  1.65360019e-01, -1.55642301e-01,\n",
            "        -2.07413912e+00, -1.35660982e+01],\n",
            "       [ 1.85068071e-01, -1.25625765e+00,  5.49207628e-01,\n",
            "        -7.00963736e-01, -3.09423409e+01],\n",
            "       [ 1.05154152e+01,  4.38630152e+00, -2.49481869e+00,\n",
            "        -1.82216614e-01, -5.05649233e+00],\n",
            "       [ 7.64408827e-01, -2.54172039e+00, -1.51518369e+00,\n",
            "        -7.83534169e-01, -2.86141319e+01],\n",
            "       [ 5.89442396e+00,  1.48475587e+00,  2.57472467e+00,\n",
            "         6.30865991e-01,  6.98236799e+00],\n",
            "       [ 7.02958155e+00,  3.93833375e+00, -4.63215709e-01,\n",
            "         6.46396935e-01,  2.10175591e+01],\n",
            "       [ 5.87559175e+00,  4.76831007e+00,  1.74694085e+00,\n",
            "         6.03615463e-01,  2.04537868e+01],\n",
            "       [-2.26323199e+00, -4.70789337e+00,  7.08605826e-01,\n",
            "         2.23516083e+00,  4.53241169e-01],\n",
            "       [-5.00312901e+00, -1.04900659e-03,  5.21456897e-01,\n",
            "         2.29191756e+00, -9.03894138e+00],\n",
            "       [ 1.41609716e+00, -2.55709410e+00, -8.70804727e-01,\n",
            "        -8.00004780e-01, -1.99326992e+01],\n",
            "       [ 1.19066477e+01,  4.32272482e+00, -2.49756312e+00,\n",
            "        -2.77836889e-01, -5.69396210e+00],\n",
            "       [ 1.08940964e+01,  4.31732082e+00, -1.26973474e+00,\n",
            "         3.86761218e-01, -2.17480717e+01],\n",
            "       [ 6.20544386e+00,  6.66614354e-01,  2.49157041e-01,\n",
            "         6.85316846e-02,  1.93290825e+01],\n",
            "       [ 2.92704016e-01,  3.37332630e+00, -1.02402616e+00,\n",
            "         2.16467452e+00, -2.12552052e+01],\n",
            "       [ 6.36370122e-01,  7.52890587e-01,  5.06178522e+00,\n",
            "         1.75826669e+00, -1.61157627e+01],\n",
            "       [ 9.90423870e+00,  5.11861897e+00,  1.68143249e+00,\n",
            "        -2.66678953e+00,  2.13458176e+01],\n",
            "       [-3.07769835e-01,  3.45987320e+00, -1.37984443e+00,\n",
            "         3.46430349e+00, -1.26906796e+01],\n",
            "       [-1.50873113e+00,  5.07553816e-01, -2.42995590e-01,\n",
            "         1.92206606e-01,  1.97195797e+01],\n",
            "       [ 8.18252087e+00,  5.11252165e-01,  2.71165085e+00,\n",
            "         4.03971052e+00, -2.83853388e+00],\n",
            "       [ 5.49289656e+00,  5.69090307e-01, -1.12109029e+00,\n",
            "        -4.86209065e-01,  1.83064289e+01],\n",
            "       [-7.45589614e-01,  7.53751814e-01, -9.37293291e-01,\n",
            "        -2.59065688e-01,  1.75825748e+01],\n",
            "       [-1.31003642e+00, -3.06487322e+00,  3.37028241e+00,\n",
            "        -1.28798425e+00, -9.59564114e+00],\n",
            "       [ 5.57254267e+00,  1.81486380e+00,  4.01254320e+00,\n",
            "         6.63999081e-01,  5.87775326e+00],\n",
            "       [-2.69348949e-01,  3.05390620e+00, -2.83968747e-01,\n",
            "         1.33964622e+00, -1.12015200e+01],\n",
            "       [-4.11257935e+00, -7.77196169e+00,  3.07346129e+00,\n",
            "        -1.81240380e+00, -6.38729143e+00],\n",
            "       [ 3.18710923e+00,  1.44156739e-01,  1.87464905e+00,\n",
            "        -1.12006509e+00, -2.16575317e+01],\n",
            "       [-1.78108108e+00,  3.80639505e+00,  2.32521534e+00,\n",
            "         2.12923717e+00,  1.52621639e+00],\n",
            "       [-4.08344567e-01, -2.71442747e+00,  6.23962641e+00,\n",
            "         6.99830174e-01, -1.60740509e+01],\n",
            "       [ 2.03475237e+00,  4.53957975e-01, -9.06033337e-01,\n",
            "        -3.65651816e-01, -2.38978024e+01],\n",
            "       [-6.32778168e+00, -3.25621772e+00, -4.48783302e+00,\n",
            "        -1.97191107e+00, -1.53771353e+01],\n",
            "       [-4.82884943e-01, -1.13374300e-01,  2.33317718e-01,\n",
            "        -1.18116558e+00, -3.37716446e+01],\n",
            "       [-1.36600828e+00,  7.72344410e-01, -2.83851296e-01,\n",
            "         1.81059647e+00,  2.02772522e+01],\n",
            "       [-9.85813618e+00,  1.44906902e+00, -4.39400673e+00,\n",
            "        -2.38493443e+00, -1.70297241e+01],\n",
            "       [ 7.83300304e+00,  4.90730619e+00, -5.61543345e-01,\n",
            "         1.48965991e+00, -1.64911056e+00],\n",
            "       [-3.01468432e-01,  1.15266287e+00,  5.40559959e+00,\n",
            "         1.72235286e+00,  1.82200089e+01],\n",
            "       [ 4.81060781e-02,  1.06382322e+00,  4.55369902e+00,\n",
            "         2.44332862e+00,  6.83500576e+00],\n",
            "       [-1.48714733e+00, -5.49667501e+00, -1.77712607e+00,\n",
            "        -1.71973956e+00, -1.70184841e+01],\n",
            "       [ 8.06384850e+00,  1.55453980e+00, -1.69399992e-01,\n",
            "         7.80162394e-01,  2.10621738e+01],\n",
            "       [-7.44717777e-01,  1.95564702e-01, -7.74609029e-01,\n",
            "        -9.19128358e-01, -2.06403179e+01],\n",
            "       [ 7.63040257e+00,  1.11415541e+00,  4.03413963e+00,\n",
            "        -1.34883082e+00,  2.17754230e+01]], dtype=float32)\n",
            "\n",
            ".base_values =\n",
            "array([52.297768, 52.297768, 52.297768, 52.297768, 52.297768, 52.297768,\n",
            "       52.297768, 52.297768, 52.297768, 52.297768, 52.297768, 52.297768,\n",
            "       52.297768, 52.297768, 52.297768, 52.297768, 52.297768, 52.297768,\n",
            "       52.297768, 52.297768, 52.297768, 52.297768, 52.297768, 52.297768,\n",
            "       52.297768, 52.297768, 52.297768, 52.297768, 52.297768, 52.297768,\n",
            "       52.297768, 52.297768, 52.297768, 52.297768, 52.297768, 52.297768,\n",
            "       52.297768, 52.297768, 52.297768, 52.297768, 52.297768, 52.297768,\n",
            "       52.297768, 52.297768, 52.297768, 52.297768, 52.297768, 52.297768,\n",
            "       52.297768, 52.297768, 52.297768, 52.297768, 52.297768, 52.297768,\n",
            "       52.297768, 52.297768, 52.297768, 52.297768, 52.297768, 52.297768,\n",
            "       52.297768, 52.297768, 52.297768, 52.297768, 52.297768, 52.297768,\n",
            "       52.297768, 52.297768, 52.297768, 52.297768, 52.297768, 52.297768,\n",
            "       52.297768, 52.297768, 52.297768, 52.297768, 52.297768, 52.297768,\n",
            "       52.297768, 52.297768, 52.297768], dtype=float32)\n",
            "\n",
            ".data =\n",
            "array([[255000,     12,      5,     42,     45],\n",
            "       [135000,     19,     16,     31,     36],\n",
            "       [235000,     12,      5,     38,     36],\n",
            "       [225000,      8,      4,     24,     38],\n",
            "       [175000,     12,      5,     21,     40],\n",
            "       [ 85000,      4,     10,     26,     51],\n",
            "       [195000,      8,      4,     42,     36],\n",
            "       [145000,      1,      6,     22,     35],\n",
            "       [265000,     12,      4,     26,     56],\n",
            "       [115000,      8,      4,     19,     50],\n",
            "       [295000,     23,     14,      9,     76],\n",
            "       [145000,     13,      0,     11,     61],\n",
            "       [ 72000,     19,      6,     35,     34],\n",
            "       [135000,     12,     18,     35,     70],\n",
            "       [ 95000,      8,      4,     41,     44],\n",
            "       [115000,     13,     15,     10,     35],\n",
            "       [295000,     11,     14,     32,     71],\n",
            "       [ 85000,     15,      4,      0,     34],\n",
            "       [ 95000,     22,      1,      4,     80],\n",
            "       [ 42000,      6,      3,     18,     28],\n",
            "       [ 88000,     11,     14,     43,     66],\n",
            "       [ 65000,     19,     19,     37,     33],\n",
            "       [ 78000,     17,      9,     31,     78],\n",
            "       [ 92000,     12,     15,     44,     35],\n",
            "       [ 68000,     18,      1,     30,     56],\n",
            "       [110000,      8,      4,     36,     35],\n",
            "       [225000,      1,      6,      6,     96],\n",
            "       [320000,     12,     10,     45,     82],\n",
            "       [155000,     13,     17,     43,     41],\n",
            "       [185000,     10,      6,     22,    133],\n",
            "       [ 75000,     19,     19,     12,     61],\n",
            "       [355000,      2,      6,     10,    123],\n",
            "       [175000,     12,      5,      2,     87],\n",
            "       [135000,      9,      6,     13,     51],\n",
            "       [345000,     23,     14,     33,    204],\n",
            "       [275000,     22,      9,      8,    174],\n",
            "       [ 85000,     13,     10,      2,    128],\n",
            "       [195000,      7,     18,     16,    101],\n",
            "       [285000,     11,     14,      1,    203],\n",
            "       [365000,     11,     14,     31,    123],\n",
            "       [385000,     12,      5,     37,    148],\n",
            "       [195000,     15,     10,      6,    116],\n",
            "       [315000,     23,     14,     16,    194],\n",
            "       [325000,      6,      2,      5,    118],\n",
            "       [295000,     14,      0,     18,    201],\n",
            "       [315000,     11,     14,     23,     97],\n",
            "       [310000,      8,      4,      5,     87],\n",
            "       [265000,      8,     18,     22,     87],\n",
            "       [175000,     13,     10,     35,     66],\n",
            "       [115000,     16,     18,     36,    102],\n",
            "       [295000,     13,      7,     40,    158],\n",
            "       [425000,      6,      2,     14,    118],\n",
            "       [420000,      6,      3,     18,    184],\n",
            "       [265000,     22,     10,     15,     86],\n",
            "       [255000,      7,      6,     34,    128],\n",
            "       [125000,     19,     16,     34,    148],\n",
            "       [285000,      8,     18,     43,     87],\n",
            "       [195000,      6,      2,     41,    158],\n",
            "       [195000,     12,      5,     17,     92],\n",
            "       [350000,     22,     14,     31,    114],\n",
            "       [285000,     12,      6,     15,     86],\n",
            "       [245000,     12,      6,     41,     86],\n",
            "       [165000,     13,     16,     44,    158],\n",
            "       [275000,      3,     16,     25,     97],\n",
            "       [155000,      9,      6,     43,    164],\n",
            "       [185000,      0,     16,     42,    112],\n",
            "       [275000,     22,     12,      9,    143],\n",
            "       [210000,      8,     15,     13,     61],\n",
            "       [135000,     13,     16,     23,    156],\n",
            "       [375000,     15,      8,     36,    158],\n",
            "       [215000,     14,      0,     17,    102],\n",
            "       [320000,     11,     14,     28,    184],\n",
            "       [185000,     12,      5,     21,     92],\n",
            "       [ 95000,      9,      0,      6,    116],\n",
            "       [275000,      8,      6,     39,    117],\n",
            "       [235000,     15,     16,      8,     81],\n",
            "       [145000,     20,     16,     14,     76],\n",
            "       [215000,      1,      0,     12,    143],\n",
            "       [355000,     15,      6,      7,     87],\n",
            "       [245000,     22,     10,     20,    148],\n",
            "       [325000,     15,     16,     41,     86]])\n"
          ]
        }
      ],
      "source": [
        "print(shap_values)"
      ]
    },
    {
      "cell_type": "code",
      "execution_count": 104,
      "metadata": {},
      "outputs": [
        {
          "name": "stdout",
          "output_type": "stream",
          "text": [
            "            Feature  Mean SHAP Value\n",
            "4     days_to_close        13.497792\n",
            "0            Amount         3.749719\n",
            "1  Company_Industry         2.567211\n",
            "3             State         2.494538\n",
            "2       Lead_Source         1.888485\n"
          ]
        }
      ],
      "source": [
        "import pandas as pd\n",
        "importance_df = pd.DataFrame({\n",
        "    \"Feature\": X_train_new.columns,\n",
        "    \"Mean SHAP Value\": np.abs(shap_values.values).mean(axis=0)\n",
        "}).sort_values(by=\"Mean SHAP Value\", ascending=False)\n",
        "\n",
        "print(importance_df)\n"
      ]
    },
    {
      "cell_type": "markdown",
      "metadata": {},
      "source": [
        "### Export Feature Importance"
      ]
    },
    {
      "cell_type": "code",
      "execution_count": 105,
      "metadata": {},
      "outputs": [],
      "source": [
        "# Create the folder if it doesn't exist\n",
        "os.makedirs(\"3_2_salesforce_feature_importance_data\", exist_ok=True)\n",
        "\n",
        "# Save the Excel file inside the folder\n",
        "importance_df.to_csv(\"3_2_salesforce_feature_importance_data/3_2_salesforce_feature_importance_data.csv\", index=False)\n"
      ]
    },
    {
      "cell_type": "code",
      "execution_count": 106,
      "metadata": {},
      "outputs": [],
      "source": [
        "# spark_df = spark.createDataFrame(importance_df)\n",
        "# spark_df.write.mode(\"overwrite\").saveAsTable(\"sd_bdc_demo.xgboost_regression.3_2_salesforce_feature_importance_data\")"
      ]
    },
    {
      "cell_type": "code",
      "execution_count": null,
      "metadata": {},
      "outputs": [],
      "source": []
    }
  ],
  "metadata": {
    "colab": {
      "collapsed_sections": [],
      "name": "data_preprocessing_tools.ipynb",
      "provenance": [],
      "toc_visible": true
    },
    "kernelspec": {
      "display_name": ".venv",
      "language": "python",
      "name": "python3"
    },
    "language_info": {
      "codemirror_mode": {
        "name": "ipython",
        "version": 3
      },
      "file_extension": ".py",
      "mimetype": "text/x-python",
      "name": "python",
      "nbconvert_exporter": "python",
      "pygments_lexer": "ipython3",
      "version": "3.13.3"
    }
  },
  "nbformat": 4,
  "nbformat_minor": 0
}
